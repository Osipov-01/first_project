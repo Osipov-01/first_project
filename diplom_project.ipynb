{
 "cells": [
  {
   "cell_type": "markdown",
   "metadata": {},
   "source": [
    "# Прогнозирование оттока клиентов в сети отелей «Как в гостях»"
   ]
  },
  {
   "cell_type": "markdown",
   "metadata": {},
   "source": [
    "### Описание проекта\n",
    "\n",
    "Заказчик этого исследования — сеть отелей «Как в гостях». \\\n",
    "    Чтобы привлечь клиентов, эта сеть отелей добавила на свой сайт возможность забронировать номер без предоплаты. Однако если клиент отменял бронирование, то компания терпела убытки. Сотрудники отеля могли, например, закупить продукты к приезду гостя или просто не успеть найти другого клиента. \\\n",
    "    Чтобы решить эту проблему, вам нужно разработать систему, которая предсказывает отказ от брони. Если модель покажет, что бронь будет отменена, то клиенту предлагается внести депозит. Размер депозита — 80% от стоимости номера за одни сутки и затрат на разовую уборку. Деньги будут списаны со счёта клиента, если он всё же отменит бронь.\n",
    "\n",
    "#### Бизнес-метрика и другие данные\n",
    "Основная бизнес-метрика для любой сети отелей — её прибыль. Прибыль отеля — это разница между стоимостью номера за все ночи и затраты на обслуживание: как при подготовке номера, так и при проживании постояльца. \n",
    "В отеле есть несколько типов номеров. В зависимости от типа номера назначается стоимость за одну ночь. Есть также затраты на уборку. Если клиент снял номер надолго, то убираются каждые два дня. \\\n",
    "Стоимость номеров отеля:\n",
    "- категория A: за ночь — 1 000, разовое обслуживание — 400;\n",
    "- категория B: за ночь — 800, разовое обслуживание — 350;\n",
    "- категория C: за ночь — 600, разовое обслуживание — 350;\n",
    "- категория D: за ночь — 550, разовое обслуживание — 150;\n",
    "- категория E: за ночь — 500, разовое обслуживание — 150;\n",
    "- категория F: за ночь — 450, разовое обслуживание — 150;\n",
    "- категория G: за ночь — 350, разовое обслуживание — 150. \n",
    "\n",
    "В ценовой политике отеля используются сезонные коэффициенты: весной и осенью цены повышаются на 20%, летом — на 40%.\n",
    "Убытки отеля в случае отмены брони номера — это стоимость одной уборки и одной ночи с учётом сезонного коэффициента.\n",
    "На разработку системы прогнозирования заложен бюджет — 400 000. При этом необходимо учесть, что внедрение модели должно окупиться за тестовый период. Затраты на разработку должны быть меньше той выручки, которую система принесёт компании."
   ]
  },
  {
   "cell_type": "markdown",
   "metadata": {},
   "source": [
    "### Шаг 1. Чтение файлов с данными"
   ]
  },
  {
   "cell_type": "markdown",
   "metadata": {},
   "source": [
    "Импорт необходимых библиотек для анализа данных и прогнозирования"
   ]
  },
  {
   "cell_type": "code",
   "execution_count": 51,
   "metadata": {},
   "outputs": [],
   "source": [
    "import pandas as pd\n",
    "from sklearn.model_selection import train_test_split\n",
    "from sklearn.model_selection import cross_val_predict\n",
    "import matplotlib.pyplot as plt\n",
    "import numpy as np\n",
    "from sklearn.preprocessing import OrdinalEncoder #энкодинг\n",
    "from sklearn.preprocessing import StandardScaler #масштабирование\n",
    "from sklearn.tree import DecisionTreeClassifier #дерево решений\n",
    "from sklearn.ensemble import RandomForestClassifier #случайный лес\n",
    "from sklearn.linear_model import LogisticRegression #логистическое решение\n",
    "from sklearn.metrics import f1_score\n",
    "from sklearn.utils import shuffle\n",
    "from sklearn.metrics import roc_curve\n",
    "from sklearn.model_selection import cross_val_score\n",
    "from IPython.core.display import display, HTML\n",
    "from IPython.display import display_html\n",
    "import warnings\n",
    "warnings.filterwarnings('ignore') \n",
    "\n",
    "STATE = np.random.RandomState(12345)\n",
    "pd.set_option('display.max_columns', None)\n",
    "pd.set_option('display.max_rows', None)"
   ]
  },
  {
   "cell_type": "markdown",
   "metadata": {},
   "source": [
    "Чтение файлов"
   ]
  },
  {
   "cell_type": "code",
   "execution_count": 2,
   "metadata": {},
   "outputs": [],
   "source": [
    "data_train = pd.read_csv('/datasets/hotel_train.csv')\n",
    "data_test = pd.read_csv('/datasets/hotel_test.csv')"
   ]
  },
  {
   "cell_type": "markdown",
   "metadata": {},
   "source": [
    "### Шаг 2. Предобработка и исследовательский анализ данных"
   ]
  },
  {
   "cell_type": "markdown",
   "metadata": {},
   "source": [
    "Посмотрим, что из себя представляют данные с помощью метода info"
   ]
  },
  {
   "cell_type": "code",
   "execution_count": 3,
   "metadata": {
    "scrolled": false
   },
   "outputs": [
    {
     "name": "stdout",
     "output_type": "stream",
     "text": [
      "<class 'pandas.core.frame.DataFrame'>\n",
      "RangeIndex: 65229 entries, 0 to 65228\n",
      "Data columns (total 25 columns):\n",
      " #   Column                          Non-Null Count  Dtype  \n",
      "---  ------                          --------------  -----  \n",
      " 0   id                              65229 non-null  int64  \n",
      " 1   is_canceled                     65229 non-null  int64  \n",
      " 2   lead_time                       65229 non-null  float64\n",
      " 3   arrival_date_year               65229 non-null  int64  \n",
      " 4   arrival_date_month              65229 non-null  object \n",
      " 5   arrival_date_week_number        65229 non-null  int64  \n",
      " 6   arrival_date_day_of_month       65229 non-null  int64  \n",
      " 7   stays_in_weekend_nights         65229 non-null  int64  \n",
      " 8   stays_in_week_nights            65229 non-null  int64  \n",
      " 9   adults                          65229 non-null  float64\n",
      " 10  children                        65229 non-null  float64\n",
      " 11  babies                          65229 non-null  float64\n",
      " 12  meal                            65229 non-null  object \n",
      " 13  country                         65229 non-null  object \n",
      " 14  distribution_channel            65229 non-null  object \n",
      " 15  is_repeated_guest               65229 non-null  int64  \n",
      " 16  previous_cancellations          65229 non-null  int64  \n",
      " 17  previous_bookings_not_canceled  65229 non-null  int64  \n",
      " 18  reserved_room_type              65229 non-null  object \n",
      " 19  booking_changes                 65229 non-null  int64  \n",
      " 20  days_in_waiting_list            65229 non-null  int64  \n",
      " 21  customer_type                   65229 non-null  object \n",
      " 22  required_car_parking_spaces     65229 non-null  int64  \n",
      " 23  total_of_special_requests       65229 non-null  int64  \n",
      " 24  total_nights                    65229 non-null  int64  \n",
      "dtypes: float64(4), int64(15), object(6)\n",
      "memory usage: 12.4+ MB\n"
     ]
    }
   ],
   "source": [
    "data_train.info()"
   ]
  },
  {
   "cell_type": "code",
   "execution_count": 4,
   "metadata": {
    "scrolled": false
   },
   "outputs": [
    {
     "name": "stdout",
     "output_type": "stream",
     "text": [
      "<class 'pandas.core.frame.DataFrame'>\n",
      "RangeIndex: 32412 entries, 0 to 32411\n",
      "Data columns (total 25 columns):\n",
      " #   Column                          Non-Null Count  Dtype  \n",
      "---  ------                          --------------  -----  \n",
      " 0   id                              32412 non-null  int64  \n",
      " 1   is_canceled                     32412 non-null  int64  \n",
      " 2   lead_time                       32412 non-null  float64\n",
      " 3   arrival_date_year               32412 non-null  int64  \n",
      " 4   arrival_date_month              32412 non-null  object \n",
      " 5   arrival_date_week_number        32412 non-null  int64  \n",
      " 6   arrival_date_day_of_month       32412 non-null  int64  \n",
      " 7   stays_in_weekend_nights         32412 non-null  int64  \n",
      " 8   stays_in_week_nights            32412 non-null  int64  \n",
      " 9   adults                          32412 non-null  float64\n",
      " 10  children                        32412 non-null  float64\n",
      " 11  babies                          32412 non-null  float64\n",
      " 12  meal                            32412 non-null  object \n",
      " 13  country                         32412 non-null  object \n",
      " 14  distribution_channel            32412 non-null  object \n",
      " 15  is_repeated_guest               32412 non-null  int64  \n",
      " 16  previous_cancellations          32412 non-null  int64  \n",
      " 17  previous_bookings_not_canceled  32412 non-null  int64  \n",
      " 18  reserved_room_type              32412 non-null  object \n",
      " 19  booking_changes                 32412 non-null  int64  \n",
      " 20  days_in_waiting_list            32412 non-null  int64  \n",
      " 21  customer_type                   32412 non-null  object \n",
      " 22  required_car_parking_spaces     32412 non-null  int64  \n",
      " 23  total_of_special_requests       32412 non-null  int64  \n",
      " 24  total_nights                    32412 non-null  int64  \n",
      "dtypes: float64(4), int64(15), object(6)\n",
      "memory usage: 6.2+ MB\n"
     ]
    }
   ],
   "source": [
    "data_test.info()"
   ]
  },
  {
   "cell_type": "markdown",
   "metadata": {},
   "source": [
    "Можем заметить, что размер обучающих и тестовых данных примерно соотносятся как 2:1 (65229:32412)"
   ]
  },
  {
   "cell_type": "markdown",
   "metadata": {},
   "source": [
    "Посмотрим содержимое таблиц"
   ]
  },
  {
   "cell_type": "code",
   "execution_count": 5,
   "metadata": {
    "scrolled": false
   },
   "outputs": [
    {
     "data": {
      "text/html": [
       "<div>\n",
       "<style scoped>\n",
       "    .dataframe tbody tr th:only-of-type {\n",
       "        vertical-align: middle;\n",
       "    }\n",
       "\n",
       "    .dataframe tbody tr th {\n",
       "        vertical-align: top;\n",
       "    }\n",
       "\n",
       "    .dataframe thead th {\n",
       "        text-align: right;\n",
       "    }\n",
       "</style>\n",
       "<table border=\"1\" class=\"dataframe\">\n",
       "  <thead>\n",
       "    <tr style=\"text-align: right;\">\n",
       "      <th></th>\n",
       "      <th>id</th>\n",
       "      <th>is_canceled</th>\n",
       "      <th>lead_time</th>\n",
       "      <th>arrival_date_year</th>\n",
       "      <th>arrival_date_month</th>\n",
       "      <th>arrival_date_week_number</th>\n",
       "      <th>arrival_date_day_of_month</th>\n",
       "      <th>stays_in_weekend_nights</th>\n",
       "      <th>stays_in_week_nights</th>\n",
       "      <th>adults</th>\n",
       "      <th>children</th>\n",
       "      <th>babies</th>\n",
       "      <th>meal</th>\n",
       "      <th>country</th>\n",
       "      <th>distribution_channel</th>\n",
       "      <th>is_repeated_guest</th>\n",
       "      <th>previous_cancellations</th>\n",
       "      <th>previous_bookings_not_canceled</th>\n",
       "      <th>reserved_room_type</th>\n",
       "      <th>booking_changes</th>\n",
       "      <th>days_in_waiting_list</th>\n",
       "      <th>customer_type</th>\n",
       "      <th>required_car_parking_spaces</th>\n",
       "      <th>total_of_special_requests</th>\n",
       "      <th>total_nights</th>\n",
       "    </tr>\n",
       "  </thead>\n",
       "  <tbody>\n",
       "    <tr>\n",
       "      <th>0</th>\n",
       "      <td>0</td>\n",
       "      <td>0</td>\n",
       "      <td>7.0</td>\n",
       "      <td>2015</td>\n",
       "      <td>July</td>\n",
       "      <td>27</td>\n",
       "      <td>1</td>\n",
       "      <td>0</td>\n",
       "      <td>1</td>\n",
       "      <td>1.0</td>\n",
       "      <td>0.0</td>\n",
       "      <td>0.0</td>\n",
       "      <td>BB</td>\n",
       "      <td>GBR</td>\n",
       "      <td>Direct</td>\n",
       "      <td>0</td>\n",
       "      <td>0</td>\n",
       "      <td>0</td>\n",
       "      <td>A</td>\n",
       "      <td>0</td>\n",
       "      <td>0</td>\n",
       "      <td>Transient</td>\n",
       "      <td>0</td>\n",
       "      <td>0</td>\n",
       "      <td>1</td>\n",
       "    </tr>\n",
       "    <tr>\n",
       "      <th>1</th>\n",
       "      <td>1</td>\n",
       "      <td>0</td>\n",
       "      <td>14.0</td>\n",
       "      <td>2015</td>\n",
       "      <td>July</td>\n",
       "      <td>27</td>\n",
       "      <td>1</td>\n",
       "      <td>0</td>\n",
       "      <td>2</td>\n",
       "      <td>2.0</td>\n",
       "      <td>0.0</td>\n",
       "      <td>0.0</td>\n",
       "      <td>BB</td>\n",
       "      <td>GBR</td>\n",
       "      <td>TA/TO</td>\n",
       "      <td>0</td>\n",
       "      <td>0</td>\n",
       "      <td>0</td>\n",
       "      <td>A</td>\n",
       "      <td>0</td>\n",
       "      <td>0</td>\n",
       "      <td>Transient</td>\n",
       "      <td>0</td>\n",
       "      <td>1</td>\n",
       "      <td>2</td>\n",
       "    </tr>\n",
       "    <tr>\n",
       "      <th>2</th>\n",
       "      <td>2</td>\n",
       "      <td>0</td>\n",
       "      <td>0.0</td>\n",
       "      <td>2015</td>\n",
       "      <td>July</td>\n",
       "      <td>27</td>\n",
       "      <td>1</td>\n",
       "      <td>0</td>\n",
       "      <td>2</td>\n",
       "      <td>2.0</td>\n",
       "      <td>0.0</td>\n",
       "      <td>0.0</td>\n",
       "      <td>BB</td>\n",
       "      <td>PRT</td>\n",
       "      <td>Direct</td>\n",
       "      <td>0</td>\n",
       "      <td>0</td>\n",
       "      <td>0</td>\n",
       "      <td>C</td>\n",
       "      <td>0</td>\n",
       "      <td>0</td>\n",
       "      <td>Transient</td>\n",
       "      <td>0</td>\n",
       "      <td>0</td>\n",
       "      <td>2</td>\n",
       "    </tr>\n",
       "    <tr>\n",
       "      <th>3</th>\n",
       "      <td>3</td>\n",
       "      <td>0</td>\n",
       "      <td>9.0</td>\n",
       "      <td>2015</td>\n",
       "      <td>July</td>\n",
       "      <td>27</td>\n",
       "      <td>1</td>\n",
       "      <td>0</td>\n",
       "      <td>2</td>\n",
       "      <td>2.0</td>\n",
       "      <td>0.0</td>\n",
       "      <td>0.0</td>\n",
       "      <td>FB</td>\n",
       "      <td>PRT</td>\n",
       "      <td>Direct</td>\n",
       "      <td>0</td>\n",
       "      <td>0</td>\n",
       "      <td>0</td>\n",
       "      <td>C</td>\n",
       "      <td>0</td>\n",
       "      <td>0</td>\n",
       "      <td>Transient</td>\n",
       "      <td>0</td>\n",
       "      <td>1</td>\n",
       "      <td>2</td>\n",
       "    </tr>\n",
       "    <tr>\n",
       "      <th>4</th>\n",
       "      <td>4</td>\n",
       "      <td>1</td>\n",
       "      <td>85.0</td>\n",
       "      <td>2015</td>\n",
       "      <td>July</td>\n",
       "      <td>27</td>\n",
       "      <td>1</td>\n",
       "      <td>0</td>\n",
       "      <td>3</td>\n",
       "      <td>2.0</td>\n",
       "      <td>0.0</td>\n",
       "      <td>0.0</td>\n",
       "      <td>BB</td>\n",
       "      <td>PRT</td>\n",
       "      <td>TA/TO</td>\n",
       "      <td>0</td>\n",
       "      <td>0</td>\n",
       "      <td>0</td>\n",
       "      <td>A</td>\n",
       "      <td>0</td>\n",
       "      <td>0</td>\n",
       "      <td>Transient</td>\n",
       "      <td>0</td>\n",
       "      <td>1</td>\n",
       "      <td>3</td>\n",
       "    </tr>\n",
       "  </tbody>\n",
       "</table>\n",
       "</div>"
      ],
      "text/plain": [
       "   id  is_canceled  lead_time  arrival_date_year arrival_date_month  \\\n",
       "0   0            0        7.0               2015               July   \n",
       "1   1            0       14.0               2015               July   \n",
       "2   2            0        0.0               2015               July   \n",
       "3   3            0        9.0               2015               July   \n",
       "4   4            1       85.0               2015               July   \n",
       "\n",
       "   arrival_date_week_number  arrival_date_day_of_month  \\\n",
       "0                        27                          1   \n",
       "1                        27                          1   \n",
       "2                        27                          1   \n",
       "3                        27                          1   \n",
       "4                        27                          1   \n",
       "\n",
       "   stays_in_weekend_nights  stays_in_week_nights  adults  children  babies  \\\n",
       "0                        0                     1     1.0       0.0     0.0   \n",
       "1                        0                     2     2.0       0.0     0.0   \n",
       "2                        0                     2     2.0       0.0     0.0   \n",
       "3                        0                     2     2.0       0.0     0.0   \n",
       "4                        0                     3     2.0       0.0     0.0   \n",
       "\n",
       "        meal country distribution_channel  is_repeated_guest  \\\n",
       "0  BB            GBR               Direct                  0   \n",
       "1  BB            GBR                TA/TO                  0   \n",
       "2  BB            PRT               Direct                  0   \n",
       "3  FB            PRT               Direct                  0   \n",
       "4  BB            PRT                TA/TO                  0   \n",
       "\n",
       "   previous_cancellations  previous_bookings_not_canceled reserved_room_type  \\\n",
       "0                       0                               0   A                  \n",
       "1                       0                               0   A                  \n",
       "2                       0                               0   C                  \n",
       "3                       0                               0   C                  \n",
       "4                       0                               0   A                  \n",
       "\n",
       "   booking_changes  days_in_waiting_list customer_type  \\\n",
       "0                0                     0     Transient   \n",
       "1                0                     0     Transient   \n",
       "2                0                     0     Transient   \n",
       "3                0                     0     Transient   \n",
       "4                0                     0     Transient   \n",
       "\n",
       "   required_car_parking_spaces  total_of_special_requests  total_nights  \n",
       "0                            0                          0             1  \n",
       "1                            0                          1             2  \n",
       "2                            0                          0             2  \n",
       "3                            0                          1             2  \n",
       "4                            0                          1             3  "
      ]
     },
     "metadata": {},
     "output_type": "display_data"
    },
    {
     "data": {
      "text/html": [
       "<div>\n",
       "<style scoped>\n",
       "    .dataframe tbody tr th:only-of-type {\n",
       "        vertical-align: middle;\n",
       "    }\n",
       "\n",
       "    .dataframe tbody tr th {\n",
       "        vertical-align: top;\n",
       "    }\n",
       "\n",
       "    .dataframe thead th {\n",
       "        text-align: right;\n",
       "    }\n",
       "</style>\n",
       "<table border=\"1\" class=\"dataframe\">\n",
       "  <thead>\n",
       "    <tr style=\"text-align: right;\">\n",
       "      <th></th>\n",
       "      <th>id</th>\n",
       "      <th>is_canceled</th>\n",
       "      <th>lead_time</th>\n",
       "      <th>arrival_date_year</th>\n",
       "      <th>arrival_date_month</th>\n",
       "      <th>arrival_date_week_number</th>\n",
       "      <th>arrival_date_day_of_month</th>\n",
       "      <th>stays_in_weekend_nights</th>\n",
       "      <th>stays_in_week_nights</th>\n",
       "      <th>adults</th>\n",
       "      <th>children</th>\n",
       "      <th>babies</th>\n",
       "      <th>meal</th>\n",
       "      <th>country</th>\n",
       "      <th>distribution_channel</th>\n",
       "      <th>is_repeated_guest</th>\n",
       "      <th>previous_cancellations</th>\n",
       "      <th>previous_bookings_not_canceled</th>\n",
       "      <th>reserved_room_type</th>\n",
       "      <th>booking_changes</th>\n",
       "      <th>days_in_waiting_list</th>\n",
       "      <th>customer_type</th>\n",
       "      <th>required_car_parking_spaces</th>\n",
       "      <th>total_of_special_requests</th>\n",
       "      <th>total_nights</th>\n",
       "    </tr>\n",
       "  </thead>\n",
       "  <tbody>\n",
       "    <tr>\n",
       "      <th>0</th>\n",
       "      <td>6086</td>\n",
       "      <td>1</td>\n",
       "      <td>74.0</td>\n",
       "      <td>2017</td>\n",
       "      <td>January</td>\n",
       "      <td>1</td>\n",
       "      <td>1</td>\n",
       "      <td>1</td>\n",
       "      <td>0</td>\n",
       "      <td>2.0</td>\n",
       "      <td>0.0</td>\n",
       "      <td>0.0</td>\n",
       "      <td>BB</td>\n",
       "      <td>PRT</td>\n",
       "      <td>TA/TO</td>\n",
       "      <td>0</td>\n",
       "      <td>0</td>\n",
       "      <td>0</td>\n",
       "      <td>A</td>\n",
       "      <td>0</td>\n",
       "      <td>0</td>\n",
       "      <td>Transient</td>\n",
       "      <td>0</td>\n",
       "      <td>0</td>\n",
       "      <td>1</td>\n",
       "    </tr>\n",
       "    <tr>\n",
       "      <th>1</th>\n",
       "      <td>6087</td>\n",
       "      <td>1</td>\n",
       "      <td>62.0</td>\n",
       "      <td>2017</td>\n",
       "      <td>January</td>\n",
       "      <td>1</td>\n",
       "      <td>1</td>\n",
       "      <td>2</td>\n",
       "      <td>2</td>\n",
       "      <td>2.0</td>\n",
       "      <td>0.0</td>\n",
       "      <td>0.0</td>\n",
       "      <td>BB</td>\n",
       "      <td>AUT</td>\n",
       "      <td>TA/TO</td>\n",
       "      <td>0</td>\n",
       "      <td>0</td>\n",
       "      <td>0</td>\n",
       "      <td>A</td>\n",
       "      <td>0</td>\n",
       "      <td>0</td>\n",
       "      <td>Transient</td>\n",
       "      <td>0</td>\n",
       "      <td>1</td>\n",
       "      <td>4</td>\n",
       "    </tr>\n",
       "    <tr>\n",
       "      <th>2</th>\n",
       "      <td>6088</td>\n",
       "      <td>1</td>\n",
       "      <td>62.0</td>\n",
       "      <td>2017</td>\n",
       "      <td>January</td>\n",
       "      <td>1</td>\n",
       "      <td>1</td>\n",
       "      <td>2</td>\n",
       "      <td>2</td>\n",
       "      <td>2.0</td>\n",
       "      <td>0.0</td>\n",
       "      <td>0.0</td>\n",
       "      <td>BB</td>\n",
       "      <td>AUT</td>\n",
       "      <td>TA/TO</td>\n",
       "      <td>0</td>\n",
       "      <td>0</td>\n",
       "      <td>0</td>\n",
       "      <td>A</td>\n",
       "      <td>0</td>\n",
       "      <td>0</td>\n",
       "      <td>Transient</td>\n",
       "      <td>0</td>\n",
       "      <td>1</td>\n",
       "      <td>4</td>\n",
       "    </tr>\n",
       "    <tr>\n",
       "      <th>3</th>\n",
       "      <td>6089</td>\n",
       "      <td>1</td>\n",
       "      <td>71.0</td>\n",
       "      <td>2017</td>\n",
       "      <td>January</td>\n",
       "      <td>1</td>\n",
       "      <td>1</td>\n",
       "      <td>2</td>\n",
       "      <td>2</td>\n",
       "      <td>1.0</td>\n",
       "      <td>0.0</td>\n",
       "      <td>0.0</td>\n",
       "      <td>BB</td>\n",
       "      <td>PRT</td>\n",
       "      <td>TA/TO</td>\n",
       "      <td>0</td>\n",
       "      <td>0</td>\n",
       "      <td>0</td>\n",
       "      <td>A</td>\n",
       "      <td>0</td>\n",
       "      <td>0</td>\n",
       "      <td>Transient</td>\n",
       "      <td>0</td>\n",
       "      <td>1</td>\n",
       "      <td>4</td>\n",
       "    </tr>\n",
       "    <tr>\n",
       "      <th>4</th>\n",
       "      <td>6090</td>\n",
       "      <td>1</td>\n",
       "      <td>172.0</td>\n",
       "      <td>2017</td>\n",
       "      <td>January</td>\n",
       "      <td>1</td>\n",
       "      <td>1</td>\n",
       "      <td>2</td>\n",
       "      <td>5</td>\n",
       "      <td>2.0</td>\n",
       "      <td>0.0</td>\n",
       "      <td>0.0</td>\n",
       "      <td>BB</td>\n",
       "      <td>BEL</td>\n",
       "      <td>TA/TO</td>\n",
       "      <td>0</td>\n",
       "      <td>0</td>\n",
       "      <td>0</td>\n",
       "      <td>A</td>\n",
       "      <td>0</td>\n",
       "      <td>0</td>\n",
       "      <td>Transient</td>\n",
       "      <td>0</td>\n",
       "      <td>0</td>\n",
       "      <td>7</td>\n",
       "    </tr>\n",
       "  </tbody>\n",
       "</table>\n",
       "</div>"
      ],
      "text/plain": [
       "     id  is_canceled  lead_time  arrival_date_year arrival_date_month  \\\n",
       "0  6086            1       74.0               2017            January   \n",
       "1  6087            1       62.0               2017            January   \n",
       "2  6088            1       62.0               2017            January   \n",
       "3  6089            1       71.0               2017            January   \n",
       "4  6090            1      172.0               2017            January   \n",
       "\n",
       "   arrival_date_week_number  arrival_date_day_of_month  \\\n",
       "0                         1                          1   \n",
       "1                         1                          1   \n",
       "2                         1                          1   \n",
       "3                         1                          1   \n",
       "4                         1                          1   \n",
       "\n",
       "   stays_in_weekend_nights  stays_in_week_nights  adults  children  babies  \\\n",
       "0                        1                     0     2.0       0.0     0.0   \n",
       "1                        2                     2     2.0       0.0     0.0   \n",
       "2                        2                     2     2.0       0.0     0.0   \n",
       "3                        2                     2     1.0       0.0     0.0   \n",
       "4                        2                     5     2.0       0.0     0.0   \n",
       "\n",
       "        meal country distribution_channel  is_repeated_guest  \\\n",
       "0  BB            PRT                TA/TO                  0   \n",
       "1  BB            AUT                TA/TO                  0   \n",
       "2  BB            AUT                TA/TO                  0   \n",
       "3  BB            PRT                TA/TO                  0   \n",
       "4  BB            BEL                TA/TO                  0   \n",
       "\n",
       "   previous_cancellations  previous_bookings_not_canceled reserved_room_type  \\\n",
       "0                       0                               0   A                  \n",
       "1                       0                               0   A                  \n",
       "2                       0                               0   A                  \n",
       "3                       0                               0   A                  \n",
       "4                       0                               0   A                  \n",
       "\n",
       "   booking_changes  days_in_waiting_list customer_type  \\\n",
       "0                0                     0     Transient   \n",
       "1                0                     0     Transient   \n",
       "2                0                     0     Transient   \n",
       "3                0                     0     Transient   \n",
       "4                0                     0     Transient   \n",
       "\n",
       "   required_car_parking_spaces  total_of_special_requests  total_nights  \n",
       "0                            0                          0             1  \n",
       "1                            0                          1             4  \n",
       "2                            0                          1             4  \n",
       "3                            0                          1             4  \n",
       "4                            0                          0             7  "
      ]
     },
     "metadata": {},
     "output_type": "display_data"
    }
   ],
   "source": [
    "display(data_train.head())\n",
    "display(data_test.head())"
   ]
  },
  {
   "cell_type": "markdown",
   "metadata": {},
   "source": [
    "Заменим типы данных столбцов - 'id', 'arrival_date_year', 'arrival_date_week_number', 'arrival_date_day_of_month', поскольку эти столбцы не отражают количество, эти столбцы больше к качественным\n",
    "\n",
    "Также нужно изменить типы данных столбцов 'lead_time', 'adults', 'children', 'babies' с типа числа с точкой на целочисленный"
   ]
  },
  {
   "cell_type": "code",
   "execution_count": 6,
   "metadata": {
    "scrolled": true
   },
   "outputs": [
    {
     "name": "stdout",
     "output_type": "stream",
     "text": [
      "id                                object\n",
      "is_canceled                        int64\n",
      "lead_time                          int64\n",
      "arrival_date_year                 object\n",
      "arrival_date_month                object\n",
      "arrival_date_week_number          object\n",
      "arrival_date_day_of_month         object\n",
      "stays_in_weekend_nights            int64\n",
      "stays_in_week_nights               int64\n",
      "adults                             int64\n",
      "children                           int64\n",
      "babies                             int64\n",
      "meal                              object\n",
      "country                           object\n",
      "distribution_channel              object\n",
      "is_repeated_guest                  int64\n",
      "previous_cancellations             int64\n",
      "previous_bookings_not_canceled     int64\n",
      "reserved_room_type                object\n",
      "booking_changes                    int64\n",
      "days_in_waiting_list               int64\n",
      "customer_type                     object\n",
      "required_car_parking_spaces        int64\n",
      "total_of_special_requests          int64\n",
      "total_nights                       int64\n",
      "dtype: object\n",
      "===============\n",
      "id                                object\n",
      "is_canceled                        int64\n",
      "lead_time                          int64\n",
      "arrival_date_year                 object\n",
      "arrival_date_month                object\n",
      "arrival_date_week_number          object\n",
      "arrival_date_day_of_month         object\n",
      "stays_in_weekend_nights            int64\n",
      "stays_in_week_nights               int64\n",
      "adults                             int64\n",
      "children                           int64\n",
      "babies                             int64\n",
      "meal                              object\n",
      "country                           object\n",
      "distribution_channel              object\n",
      "is_repeated_guest                  int64\n",
      "previous_cancellations             int64\n",
      "previous_bookings_not_canceled     int64\n",
      "reserved_room_type                object\n",
      "booking_changes                    int64\n",
      "days_in_waiting_list               int64\n",
      "customer_type                     object\n",
      "required_car_parking_spaces        int64\n",
      "total_of_special_requests          int64\n",
      "total_nights                       int64\n",
      "dtype: object\n"
     ]
    }
   ],
   "source": [
    "columns = ['id', 'arrival_date_year', 'arrival_date_week_number', 'arrival_date_day_of_month']\n",
    "for column in columns:\n",
    "    data_train[column] = data_train[column].astype('str')\n",
    "    data_test[column] = data_test[column].astype('str')\n",
    "columns = ['lead_time', 'adults', 'children', 'babies']\n",
    "for column in columns:\n",
    "    data_train[column] = data_train[column].astype('int')\n",
    "    data_test[column] = data_test[column].astype('int')\n",
    "\n",
    "print(data_train.dtypes)\n",
    "print('===============')\n",
    "print(data_test.dtypes)"
   ]
  },
  {
   "cell_type": "markdown",
   "metadata": {},
   "source": [
    "Типы данных скорректированы"
   ]
  },
  {
   "cell_type": "markdown",
   "metadata": {},
   "source": [
    "Проверим данные на дубликаты"
   ]
  },
  {
   "cell_type": "code",
   "execution_count": 7,
   "metadata": {
    "scrolled": true
   },
   "outputs": [
    {
     "name": "stdout",
     "output_type": "stream",
     "text": [
      "Кол-во дубликатов в обучающих данных: 0\n",
      "Кол-во дубликатов в тестовых данных: 0\n"
     ]
    }
   ],
   "source": [
    "print('Кол-во дубликатов в обучающих данных:', data_train.duplicated().sum())\n",
    "print('Кол-во дубликатов в тестовых данных:', data_test.duplicated().sum())"
   ]
  },
  {
   "cell_type": "markdown",
   "metadata": {},
   "source": [
    "Удалим столбец 'id' и проверим ещё раз таблицы на дубликаты"
   ]
  },
  {
   "cell_type": "code",
   "execution_count": 8,
   "metadata": {
    "scrolled": true
   },
   "outputs": [
    {
     "name": "stdout",
     "output_type": "stream",
     "text": [
      "Кол-во дубликатов в обучающих данных: 21377\n",
      "Кол-во дубликатов в тестовых данных: 7717\n"
     ]
    }
   ],
   "source": [
    "d_train = data_train.drop(['id'], axis=1)\n",
    "d_test = data_test.drop(['id'], axis=1)\n",
    "\n",
    "print('Кол-во дубликатов в обучающих данных:', d_train.duplicated().sum())\n",
    "print('Кол-во дубликатов в тестовых данных:', d_test.duplicated().sum())\n",
    "# display(d_train)\n",
    "\n"
   ]
  },
  {
   "cell_type": "code",
   "execution_count": 9,
   "metadata": {},
   "outputs": [
    {
     "name": "stdout",
     "output_type": "stream",
     "text": [
      "Обучающая выборка\n",
      "Изначальное кол-во строк - 65229, удалено - 21377, стало - 43852\n",
      "Тестовая выборка\n",
      "Изначальное кол-во строк - 32412, удалено - 7717, стало - 24695\n"
     ]
    }
   ],
   "source": [
    "d_train = d_train.drop_duplicates().reset_index(drop=True)\n",
    "d_test = d_test.drop_duplicates().reset_index(drop=True)\n",
    "print('Обучающая выборка')\n",
    "print(\n",
    "    f'Изначальное кол-во строк - {data_train.shape[0]}, удалено - {data_train.shape[0]-d_train.shape[0]}, стало - {d_train.shape[0]}'\n",
    ")\n",
    "print('Тестовая выборка')\n",
    "print(\n",
    "    f'Изначальное кол-во строк - {data_test.shape[0]}, удалено - {data_test.shape[0]-d_test.shape[0]}, стало - {d_test.shape[0]}'\n",
    ")"
   ]
  },
  {
   "cell_type": "markdown",
   "metadata": {},
   "source": [
    "Явных дубликатов обнаружены после удаления столбца 'id', возможно, пользователь несколько раз пытался внести свои данные, поскольку со столбцом 'id' дубликаты не обнаружены"
   ]
  },
  {
   "cell_type": "markdown",
   "metadata": {},
   "source": [
    "В данных присутствуют столбцы, где могут закрасться неявные дубликаты, с типом данных 'object' - 'arrival_date_month', 'meal', 'country', 'distribution_channel', 'reserved_room_type', 'customer_type'. Пример неявных дубликатов: Июль и July, A и a и т.п."
   ]
  },
  {
   "cell_type": "code",
   "execution_count": 10,
   "metadata": {},
   "outputs": [],
   "source": [
    "columns_object = ['arrival_date_month', 'meal', 'country', 'distribution_channel', 'reserved_room_type', 'customer_type']\n",
    "dfs = [d_train, d_test]"
   ]
  },
  {
   "cell_type": "code",
   "execution_count": 11,
   "metadata": {
    "scrolled": true
   },
   "outputs": [
    {
     "name": "stdout",
     "output_type": "stream",
     "text": [
      "===============\n",
      "---------------\n",
      "arrival_date_month\n",
      "['July' 'August' 'September' 'October' 'November' 'December' 'January'\n",
      " 'February' 'March' 'April' 'May' 'June']\n",
      "---------------\n",
      "meal\n",
      "['BB       ' 'FB       ' 'HB       ' 'SC       ' 'SC']\n",
      "---------------\n",
      "country\n",
      "['GBR' 'PRT' 'ESP' 'IRL' 'FRA' 'ROU' 'NOR' 'USA' 'DEU' 'BEL' 'CHE' 'CN'\n",
      " 'GRC' 'NLD' 'ARG' 'RUS' 'SWE' 'POL' 'EST' 'CZE' 'ITA' 'FIN' 'DNK' 'MOZ'\n",
      " 'BWA' 'LUX' 'BRA' 'SVN' 'ALB' 'CHN' 'MEX' 'MAR' 'SMR' 'LVA' 'CHL' 'AUT'\n",
      " 'LTU' 'TUR' 'ISR' 'IND' 'CYM' 'AUS' 'CPV' 'ZWE' 'DZA' 'KOR' 'CRI' 'HUN'\n",
      " 'TUN' 'ARE' 'HRV' 'HKG' 'IRN' 'GIB' 'JEY' 'URY' 'ZAF' 'COL' 'GGY' 'KWT'\n",
      " 'CYP' 'KAZ' 'THA' 'DOM' 'NGA' 'BLR' 'VEN' 'UKR' 'ARM' 'JPN' 'LKA' 'MYS'\n",
      " 'BIH' 'MUS' 'OMN' 'SUR' 'JAM' 'BGR' 'CIV' 'SRB' 'JOR' 'SYR' 'PHL' 'PRI'\n",
      " 'SGP' 'BDI' 'LBN' 'AGO' 'VNM' 'AZE' 'PLW' 'NZL' 'EGY' 'MDV' 'CMR' 'MLT'\n",
      " 'SVK' 'MWI' 'STP' 'TWN' 'IDN' 'SEN' 'PER' 'SAU' 'KNA' 'ETH' 'ECU' 'IRQ'\n",
      " 'AND' 'HND' 'PAK' 'GEO' 'ZMB' 'QAT' 'KHM' 'MCO' 'BGD' 'ISL' 'UZB' 'IMN'\n",
      " 'TJK' 'NIC' 'BEN' 'MAC' 'VGB' 'TZA' 'GAB' 'MKD' 'TMP' 'GLP' 'KEN' 'LIE'\n",
      " 'MMR' 'PAN' 'BFA' 'LBY' 'GNB' 'MLI' 'BHR' 'NAM' 'BOL' 'SYC' 'PRY' 'BRB'\n",
      " 'ABW' 'SLV' 'DMA' 'CUB' 'PYF' 'UGA' 'GUY' 'LCA' 'ATA' 'RWA' 'MNE']\n",
      "---------------\n",
      "distribution_channel\n",
      "['Direct' 'TA/TO' 'Corporate' 'GDS']\n",
      "---------------\n",
      "reserved_room_type\n",
      "['A               ' 'C               ' 'D               '\n",
      " 'E               ' 'G               ' 'F               '\n",
      " 'B               ']\n",
      "---------------\n",
      "customer_type\n",
      "['Transient' 'Contract' 'Transient-Party' 'Group']\n",
      "===============\n",
      "---------------\n",
      "arrival_date_month\n",
      "['January' 'February' 'March' 'April' 'May' 'June' 'July' 'August']\n",
      "---------------\n",
      "meal\n",
      "['BB       ' 'HB       ' 'SC' 'FB       ' 'SC       ']\n",
      "---------------\n",
      "country\n",
      "['PRT' 'AUT' 'BEL' 'DEU' 'BRA' 'GBR' 'ESP' 'FRA' 'ITA' 'LUX' 'CHE' 'EST'\n",
      " 'NGA' 'IRL' 'CN' 'POL' 'AUS' 'NLD' 'KOR' 'ROU' 'USA' 'CHL' 'DNK' 'FIN'\n",
      " 'RUS' 'SWE' 'HUN' 'HRV' 'MDV' 'ZAF' 'ISR' 'NOR' 'CHN' 'ARE' 'MAR' 'COL'\n",
      " 'FJI' 'LVA' 'LBN' 'PHL' 'HKG' 'SYC' 'GIB' 'AGO' 'MYS' 'MDG' 'IDN' 'LTU'\n",
      " 'ISL' 'TUR' 'ARG' 'JPN' 'SVN' 'SVK' 'BGR' 'CAF' 'JAM' 'UZB' 'UKR' 'IND'\n",
      " 'CZE' 'URY' 'NZL' 'NPL' 'SRB' 'CPV' 'IRN' 'KAZ' 'BHS' 'SUR' 'CUB' 'PAK'\n",
      " 'MAC' 'CYP' 'JOR' 'GRC' 'KWT' 'TWN' 'VNM' 'SGP' 'DOM' 'VEN' 'SEN' 'BLR'\n",
      " 'TZA' 'LIE' 'GNB' 'SAU' 'DZA' 'PER' 'AZE' 'EGY' 'ETH' 'KEN' 'THA' 'MLT'\n",
      " 'ECU' 'AND' 'IMN' 'BHR' 'TUN' 'MNE' 'MEX' 'BEN' 'MOZ' 'UMI' 'JEY' 'MYT'\n",
      " 'QAT' 'BGD' 'GAB' 'CIV' 'ZWE' 'GTM' 'ALB' 'GHA' 'ATA' 'ASM' 'PAN' 'CRI'\n",
      " 'MCO' 'MUS' 'SYR' 'TGO' 'IRQ' 'LKA' 'BIH' 'PRY' 'MRT' 'ABW' 'NCL' 'STP'\n",
      " 'KIR' 'SDN' 'PRI' 'ATF' 'CMR' 'TJK' 'LBY' 'SLE' 'SLV' 'LAO' 'FRO']\n",
      "---------------\n",
      "distribution_channel\n",
      "['TA/TO' 'Direct' 'Corporate' 'GDS']\n",
      "---------------\n",
      "reserved_room_type\n",
      "['A               ' 'E               ' 'G               '\n",
      " 'D               ' 'F               ' 'C               '\n",
      " 'B               ']\n",
      "---------------\n",
      "customer_type\n",
      "['Transient' 'Transient-Party' 'Contract' 'Group']\n"
     ]
    }
   ],
   "source": [
    "for df in dfs:\n",
    "    print('===============')\n",
    "    for column in columns_object:\n",
    "        print('---------------')\n",
    "        print(column)\n",
    "        print(df[column].unique())"
   ]
  },
  {
   "cell_type": "markdown",
   "metadata": {},
   "source": [
    "Мы видим, что в обоих таблицах в столбце 'meal' есть оба неявных дубликата 'SC       ' и 'SC', а также содержатся лишние пробелы в столбцах 'meal' и 'reserved_room_type'"
   ]
  },
  {
   "cell_type": "markdown",
   "metadata": {},
   "source": [
    "Создадим функцию, которая \"убьёт сразу двух зайцев\": уберёт лишние пробелы, тем самым пропадут неявные дубликаты"
   ]
  },
  {
   "cell_type": "code",
   "execution_count": 12,
   "metadata": {},
   "outputs": [],
   "source": [
    "def delete_spaces(df, columns):\n",
    "    for column in columns:\n",
    "        df[column] = df[column].str.strip()\n",
    "    return df"
   ]
  },
  {
   "cell_type": "markdown",
   "metadata": {},
   "source": [
    "Вызовим эту функцию"
   ]
  },
  {
   "cell_type": "code",
   "execution_count": 13,
   "metadata": {},
   "outputs": [],
   "source": [
    "column_spaces = ['meal', 'reserved_room_type']\n",
    "d_train = delete_spaces(d_train, column_spaces)\n",
    "d_test = delete_spaces(d_test, column_spaces)"
   ]
  },
  {
   "cell_type": "markdown",
   "metadata": {},
   "source": [
    "Проверим, что получилось после удаления пробелов"
   ]
  },
  {
   "cell_type": "code",
   "execution_count": 14,
   "metadata": {
    "scrolled": true
   },
   "outputs": [
    {
     "name": "stdout",
     "output_type": "stream",
     "text": [
      "===============\n",
      "---------------\n",
      "arrival_date_month\n",
      "['July' 'August' 'September' 'October' 'November' 'December' 'January'\n",
      " 'February' 'March' 'April' 'May' 'June']\n",
      "---------------\n",
      "meal\n",
      "['BB' 'FB' 'HB' 'SC']\n",
      "---------------\n",
      "country\n",
      "['GBR' 'PRT' 'ESP' 'IRL' 'FRA' 'ROU' 'NOR' 'USA' 'DEU' 'BEL' 'CHE' 'CN'\n",
      " 'GRC' 'NLD' 'ARG' 'RUS' 'SWE' 'POL' 'EST' 'CZE' 'ITA' 'FIN' 'DNK' 'MOZ'\n",
      " 'BWA' 'LUX' 'BRA' 'SVN' 'ALB' 'CHN' 'MEX' 'MAR' 'SMR' 'LVA' 'CHL' 'AUT'\n",
      " 'LTU' 'TUR' 'ISR' 'IND' 'CYM' 'AUS' 'CPV' 'ZWE' 'DZA' 'KOR' 'CRI' 'HUN'\n",
      " 'TUN' 'ARE' 'HRV' 'HKG' 'IRN' 'GIB' 'JEY' 'URY' 'ZAF' 'COL' 'GGY' 'KWT'\n",
      " 'CYP' 'KAZ' 'THA' 'DOM' 'NGA' 'BLR' 'VEN' 'UKR' 'ARM' 'JPN' 'LKA' 'MYS'\n",
      " 'BIH' 'MUS' 'OMN' 'SUR' 'JAM' 'BGR' 'CIV' 'SRB' 'JOR' 'SYR' 'PHL' 'PRI'\n",
      " 'SGP' 'BDI' 'LBN' 'AGO' 'VNM' 'AZE' 'PLW' 'NZL' 'EGY' 'MDV' 'CMR' 'MLT'\n",
      " 'SVK' 'MWI' 'STP' 'TWN' 'IDN' 'SEN' 'PER' 'SAU' 'KNA' 'ETH' 'ECU' 'IRQ'\n",
      " 'AND' 'HND' 'PAK' 'GEO' 'ZMB' 'QAT' 'KHM' 'MCO' 'BGD' 'ISL' 'UZB' 'IMN'\n",
      " 'TJK' 'NIC' 'BEN' 'MAC' 'VGB' 'TZA' 'GAB' 'MKD' 'TMP' 'GLP' 'KEN' 'LIE'\n",
      " 'MMR' 'PAN' 'BFA' 'LBY' 'GNB' 'MLI' 'BHR' 'NAM' 'BOL' 'SYC' 'PRY' 'BRB'\n",
      " 'ABW' 'SLV' 'DMA' 'CUB' 'PYF' 'UGA' 'GUY' 'LCA' 'ATA' 'RWA' 'MNE']\n",
      "---------------\n",
      "distribution_channel\n",
      "['Direct' 'TA/TO' 'Corporate' 'GDS']\n",
      "---------------\n",
      "reserved_room_type\n",
      "['A' 'C' 'D' 'E' 'G' 'F' 'B']\n",
      "---------------\n",
      "customer_type\n",
      "['Transient' 'Contract' 'Transient-Party' 'Group']\n",
      "===============\n",
      "---------------\n",
      "arrival_date_month\n",
      "['January' 'February' 'March' 'April' 'May' 'June' 'July' 'August']\n",
      "---------------\n",
      "meal\n",
      "['BB' 'HB' 'SC' 'FB']\n",
      "---------------\n",
      "country\n",
      "['PRT' 'AUT' 'BEL' 'DEU' 'BRA' 'GBR' 'ESP' 'FRA' 'ITA' 'LUX' 'CHE' 'EST'\n",
      " 'NGA' 'IRL' 'CN' 'POL' 'AUS' 'NLD' 'KOR' 'ROU' 'USA' 'CHL' 'DNK' 'FIN'\n",
      " 'RUS' 'SWE' 'HUN' 'HRV' 'MDV' 'ZAF' 'ISR' 'NOR' 'CHN' 'ARE' 'MAR' 'COL'\n",
      " 'FJI' 'LVA' 'LBN' 'PHL' 'HKG' 'SYC' 'GIB' 'AGO' 'MYS' 'MDG' 'IDN' 'LTU'\n",
      " 'ISL' 'TUR' 'ARG' 'JPN' 'SVN' 'SVK' 'BGR' 'CAF' 'JAM' 'UZB' 'UKR' 'IND'\n",
      " 'CZE' 'URY' 'NZL' 'NPL' 'SRB' 'CPV' 'IRN' 'KAZ' 'BHS' 'SUR' 'CUB' 'PAK'\n",
      " 'MAC' 'CYP' 'JOR' 'GRC' 'KWT' 'TWN' 'VNM' 'SGP' 'DOM' 'VEN' 'SEN' 'BLR'\n",
      " 'TZA' 'LIE' 'GNB' 'SAU' 'DZA' 'PER' 'AZE' 'EGY' 'ETH' 'KEN' 'THA' 'MLT'\n",
      " 'ECU' 'AND' 'IMN' 'BHR' 'TUN' 'MNE' 'MEX' 'BEN' 'MOZ' 'UMI' 'JEY' 'MYT'\n",
      " 'QAT' 'BGD' 'GAB' 'CIV' 'ZWE' 'GTM' 'ALB' 'GHA' 'ATA' 'ASM' 'PAN' 'CRI'\n",
      " 'MCO' 'MUS' 'SYR' 'TGO' 'IRQ' 'LKA' 'BIH' 'PRY' 'MRT' 'ABW' 'NCL' 'STP'\n",
      " 'KIR' 'SDN' 'PRI' 'ATF' 'CMR' 'TJK' 'LBY' 'SLE' 'SLV' 'LAO' 'FRO']\n",
      "---------------\n",
      "distribution_channel\n",
      "['TA/TO' 'Direct' 'Corporate' 'GDS']\n",
      "---------------\n",
      "reserved_room_type\n",
      "['A' 'E' 'G' 'D' 'F' 'C' 'B']\n",
      "---------------\n",
      "customer_type\n",
      "['Transient' 'Transient-Party' 'Contract' 'Group']\n"
     ]
    }
   ],
   "source": [
    "dfs = [d_train, d_test]\n",
    "for df in dfs:\n",
    "    print('===============')\n",
    "    for column in columns_object:\n",
    "        print('---------------')\n",
    "        print(column)\n",
    "        print(df[column].unique())"
   ]
  },
  {
   "cell_type": "markdown",
   "metadata": {},
   "source": [
    "Теперь исследуем данные на выбросы"
   ]
  },
  {
   "cell_type": "code",
   "execution_count": 15,
   "metadata": {
    "scrolled": true
   },
   "outputs": [
    {
     "data": {
      "text/html": [
       "<div>\n",
       "<style scoped>\n",
       "    .dataframe tbody tr th:only-of-type {\n",
       "        vertical-align: middle;\n",
       "    }\n",
       "\n",
       "    .dataframe tbody tr th {\n",
       "        vertical-align: top;\n",
       "    }\n",
       "\n",
       "    .dataframe thead th {\n",
       "        text-align: right;\n",
       "    }\n",
       "</style>\n",
       "<table border=\"1\" class=\"dataframe\">\n",
       "  <thead>\n",
       "    <tr style=\"text-align: right;\">\n",
       "      <th></th>\n",
       "      <th>is_canceled</th>\n",
       "      <th>lead_time</th>\n",
       "      <th>stays_in_weekend_nights</th>\n",
       "      <th>stays_in_week_nights</th>\n",
       "      <th>adults</th>\n",
       "      <th>children</th>\n",
       "      <th>babies</th>\n",
       "      <th>is_repeated_guest</th>\n",
       "      <th>previous_cancellations</th>\n",
       "      <th>previous_bookings_not_canceled</th>\n",
       "      <th>booking_changes</th>\n",
       "      <th>days_in_waiting_list</th>\n",
       "      <th>required_car_parking_spaces</th>\n",
       "      <th>total_of_special_requests</th>\n",
       "      <th>total_nights</th>\n",
       "    </tr>\n",
       "  </thead>\n",
       "  <tbody>\n",
       "    <tr>\n",
       "      <th>count</th>\n",
       "      <td>43852.000000</td>\n",
       "      <td>43852.000000</td>\n",
       "      <td>43852.000000</td>\n",
       "      <td>43852.000000</td>\n",
       "      <td>43852.000000</td>\n",
       "      <td>43852.000000</td>\n",
       "      <td>43852.000000</td>\n",
       "      <td>43852.000000</td>\n",
       "      <td>43852.000000</td>\n",
       "      <td>43852.000000</td>\n",
       "      <td>43852.000000</td>\n",
       "      <td>43852.000000</td>\n",
       "      <td>43852.000000</td>\n",
       "      <td>43852.000000</td>\n",
       "      <td>43852.000000</td>\n",
       "    </tr>\n",
       "    <tr>\n",
       "      <th>mean</th>\n",
       "      <td>0.254219</td>\n",
       "      <td>67.893779</td>\n",
       "      <td>0.896014</td>\n",
       "      <td>2.312141</td>\n",
       "      <td>1.856289</td>\n",
       "      <td>0.107589</td>\n",
       "      <td>0.010695</td>\n",
       "      <td>0.032929</td>\n",
       "      <td>0.041640</td>\n",
       "      <td>0.154748</td>\n",
       "      <td>0.249453</td>\n",
       "      <td>0.821354</td>\n",
       "      <td>0.082368</td>\n",
       "      <td>0.670847</td>\n",
       "      <td>3.208155</td>\n",
       "    </tr>\n",
       "    <tr>\n",
       "      <th>std</th>\n",
       "      <td>0.435426</td>\n",
       "      <td>73.990715</td>\n",
       "      <td>0.867677</td>\n",
       "      <td>1.454810</td>\n",
       "      <td>0.504892</td>\n",
       "      <td>0.397146</td>\n",
       "      <td>0.120050</td>\n",
       "      <td>0.178453</td>\n",
       "      <td>0.459333</td>\n",
       "      <td>1.583894</td>\n",
       "      <td>0.679791</td>\n",
       "      <td>9.902211</td>\n",
       "      <td>0.276086</td>\n",
       "      <td>0.802964</td>\n",
       "      <td>1.877202</td>\n",
       "    </tr>\n",
       "    <tr>\n",
       "      <th>min</th>\n",
       "      <td>0.000000</td>\n",
       "      <td>0.000000</td>\n",
       "      <td>0.000000</td>\n",
       "      <td>0.000000</td>\n",
       "      <td>0.000000</td>\n",
       "      <td>0.000000</td>\n",
       "      <td>0.000000</td>\n",
       "      <td>0.000000</td>\n",
       "      <td>0.000000</td>\n",
       "      <td>0.000000</td>\n",
       "      <td>0.000000</td>\n",
       "      <td>0.000000</td>\n",
       "      <td>0.000000</td>\n",
       "      <td>0.000000</td>\n",
       "      <td>1.000000</td>\n",
       "    </tr>\n",
       "    <tr>\n",
       "      <th>25%</th>\n",
       "      <td>0.000000</td>\n",
       "      <td>9.000000</td>\n",
       "      <td>0.000000</td>\n",
       "      <td>1.000000</td>\n",
       "      <td>2.000000</td>\n",
       "      <td>0.000000</td>\n",
       "      <td>0.000000</td>\n",
       "      <td>0.000000</td>\n",
       "      <td>0.000000</td>\n",
       "      <td>0.000000</td>\n",
       "      <td>0.000000</td>\n",
       "      <td>0.000000</td>\n",
       "      <td>0.000000</td>\n",
       "      <td>0.000000</td>\n",
       "      <td>2.000000</td>\n",
       "    </tr>\n",
       "    <tr>\n",
       "      <th>50%</th>\n",
       "      <td>0.000000</td>\n",
       "      <td>41.000000</td>\n",
       "      <td>1.000000</td>\n",
       "      <td>2.000000</td>\n",
       "      <td>2.000000</td>\n",
       "      <td>0.000000</td>\n",
       "      <td>0.000000</td>\n",
       "      <td>0.000000</td>\n",
       "      <td>0.000000</td>\n",
       "      <td>0.000000</td>\n",
       "      <td>0.000000</td>\n",
       "      <td>0.000000</td>\n",
       "      <td>0.000000</td>\n",
       "      <td>0.000000</td>\n",
       "      <td>3.000000</td>\n",
       "    </tr>\n",
       "    <tr>\n",
       "      <th>75%</th>\n",
       "      <td>1.000000</td>\n",
       "      <td>103.000000</td>\n",
       "      <td>2.000000</td>\n",
       "      <td>3.000000</td>\n",
       "      <td>2.000000</td>\n",
       "      <td>0.000000</td>\n",
       "      <td>0.000000</td>\n",
       "      <td>0.000000</td>\n",
       "      <td>0.000000</td>\n",
       "      <td>0.000000</td>\n",
       "      <td>0.000000</td>\n",
       "      <td>0.000000</td>\n",
       "      <td>0.000000</td>\n",
       "      <td>1.000000</td>\n",
       "      <td>4.000000</td>\n",
       "    </tr>\n",
       "    <tr>\n",
       "      <th>max</th>\n",
       "      <td>1.000000</td>\n",
       "      <td>374.000000</td>\n",
       "      <td>4.000000</td>\n",
       "      <td>6.000000</td>\n",
       "      <td>4.000000</td>\n",
       "      <td>3.000000</td>\n",
       "      <td>10.000000</td>\n",
       "      <td>1.000000</td>\n",
       "      <td>26.000000</td>\n",
       "      <td>58.000000</td>\n",
       "      <td>17.000000</td>\n",
       "      <td>259.000000</td>\n",
       "      <td>3.000000</td>\n",
       "      <td>5.000000</td>\n",
       "      <td>10.000000</td>\n",
       "    </tr>\n",
       "  </tbody>\n",
       "</table>\n",
       "</div>"
      ],
      "text/plain": [
       "        is_canceled     lead_time  stays_in_weekend_nights  \\\n",
       "count  43852.000000  43852.000000             43852.000000   \n",
       "mean       0.254219     67.893779                 0.896014   \n",
       "std        0.435426     73.990715                 0.867677   \n",
       "min        0.000000      0.000000                 0.000000   \n",
       "25%        0.000000      9.000000                 0.000000   \n",
       "50%        0.000000     41.000000                 1.000000   \n",
       "75%        1.000000    103.000000                 2.000000   \n",
       "max        1.000000    374.000000                 4.000000   \n",
       "\n",
       "       stays_in_week_nights        adults      children        babies  \\\n",
       "count          43852.000000  43852.000000  43852.000000  43852.000000   \n",
       "mean               2.312141      1.856289      0.107589      0.010695   \n",
       "std                1.454810      0.504892      0.397146      0.120050   \n",
       "min                0.000000      0.000000      0.000000      0.000000   \n",
       "25%                1.000000      2.000000      0.000000      0.000000   \n",
       "50%                2.000000      2.000000      0.000000      0.000000   \n",
       "75%                3.000000      2.000000      0.000000      0.000000   \n",
       "max                6.000000      4.000000      3.000000     10.000000   \n",
       "\n",
       "       is_repeated_guest  previous_cancellations  \\\n",
       "count       43852.000000            43852.000000   \n",
       "mean            0.032929                0.041640   \n",
       "std             0.178453                0.459333   \n",
       "min             0.000000                0.000000   \n",
       "25%             0.000000                0.000000   \n",
       "50%             0.000000                0.000000   \n",
       "75%             0.000000                0.000000   \n",
       "max             1.000000               26.000000   \n",
       "\n",
       "       previous_bookings_not_canceled  booking_changes  days_in_waiting_list  \\\n",
       "count                    43852.000000     43852.000000          43852.000000   \n",
       "mean                         0.154748         0.249453              0.821354   \n",
       "std                          1.583894         0.679791              9.902211   \n",
       "min                          0.000000         0.000000              0.000000   \n",
       "25%                          0.000000         0.000000              0.000000   \n",
       "50%                          0.000000         0.000000              0.000000   \n",
       "75%                          0.000000         0.000000              0.000000   \n",
       "max                         58.000000        17.000000            259.000000   \n",
       "\n",
       "       required_car_parking_spaces  total_of_special_requests  total_nights  \n",
       "count                 43852.000000               43852.000000  43852.000000  \n",
       "mean                      0.082368                   0.670847      3.208155  \n",
       "std                       0.276086                   0.802964      1.877202  \n",
       "min                       0.000000                   0.000000      1.000000  \n",
       "25%                       0.000000                   0.000000      2.000000  \n",
       "50%                       0.000000                   0.000000      3.000000  \n",
       "75%                       0.000000                   1.000000      4.000000  \n",
       "max                       3.000000                   5.000000     10.000000  "
      ]
     },
     "metadata": {},
     "output_type": "display_data"
    },
    {
     "data": {
      "text/html": [
       "<div>\n",
       "<style scoped>\n",
       "    .dataframe tbody tr th:only-of-type {\n",
       "        vertical-align: middle;\n",
       "    }\n",
       "\n",
       "    .dataframe tbody tr th {\n",
       "        vertical-align: top;\n",
       "    }\n",
       "\n",
       "    .dataframe thead th {\n",
       "        text-align: right;\n",
       "    }\n",
       "</style>\n",
       "<table border=\"1\" class=\"dataframe\">\n",
       "  <thead>\n",
       "    <tr style=\"text-align: right;\">\n",
       "      <th></th>\n",
       "      <th>is_canceled</th>\n",
       "      <th>lead_time</th>\n",
       "      <th>stays_in_weekend_nights</th>\n",
       "      <th>stays_in_week_nights</th>\n",
       "      <th>adults</th>\n",
       "      <th>children</th>\n",
       "      <th>babies</th>\n",
       "      <th>is_repeated_guest</th>\n",
       "      <th>previous_cancellations</th>\n",
       "      <th>previous_bookings_not_canceled</th>\n",
       "      <th>booking_changes</th>\n",
       "      <th>days_in_waiting_list</th>\n",
       "      <th>required_car_parking_spaces</th>\n",
       "      <th>total_of_special_requests</th>\n",
       "      <th>total_nights</th>\n",
       "    </tr>\n",
       "  </thead>\n",
       "  <tbody>\n",
       "    <tr>\n",
       "      <th>count</th>\n",
       "      <td>24695.000000</td>\n",
       "      <td>24695.000000</td>\n",
       "      <td>24695.000000</td>\n",
       "      <td>24695.000000</td>\n",
       "      <td>24695.000000</td>\n",
       "      <td>24695.000000</td>\n",
       "      <td>24695.000000</td>\n",
       "      <td>24695.000000</td>\n",
       "      <td>24695.000000</td>\n",
       "      <td>24695.000000</td>\n",
       "      <td>24695.000000</td>\n",
       "      <td>24695.000000</td>\n",
       "      <td>24695.000000</td>\n",
       "      <td>24695.000000</td>\n",
       "      <td>24695.000000</td>\n",
       "    </tr>\n",
       "    <tr>\n",
       "      <th>mean</th>\n",
       "      <td>0.315246</td>\n",
       "      <td>88.834541</td>\n",
       "      <td>0.910306</td>\n",
       "      <td>2.379186</td>\n",
       "      <td>1.887265</td>\n",
       "      <td>0.106054</td>\n",
       "      <td>0.007208</td>\n",
       "      <td>0.040535</td>\n",
       "      <td>0.015104</td>\n",
       "      <td>0.223527</td>\n",
       "      <td>0.254343</td>\n",
       "      <td>0.341486</td>\n",
       "      <td>0.059567</td>\n",
       "      <td>0.763272</td>\n",
       "      <td>3.289492</td>\n",
       "    </tr>\n",
       "    <tr>\n",
       "      <th>std</th>\n",
       "      <td>0.464623</td>\n",
       "      <td>85.506551</td>\n",
       "      <td>0.859874</td>\n",
       "      <td>1.426038</td>\n",
       "      <td>0.495552</td>\n",
       "      <td>0.384630</td>\n",
       "      <td>0.086488</td>\n",
       "      <td>0.197213</td>\n",
       "      <td>0.206339</td>\n",
       "      <td>2.144022</td>\n",
       "      <td>0.698303</td>\n",
       "      <td>5.404491</td>\n",
       "      <td>0.247559</td>\n",
       "      <td>0.861233</td>\n",
       "      <td>1.818364</td>\n",
       "    </tr>\n",
       "    <tr>\n",
       "      <th>min</th>\n",
       "      <td>0.000000</td>\n",
       "      <td>0.000000</td>\n",
       "      <td>0.000000</td>\n",
       "      <td>0.000000</td>\n",
       "      <td>0.000000</td>\n",
       "      <td>0.000000</td>\n",
       "      <td>0.000000</td>\n",
       "      <td>0.000000</td>\n",
       "      <td>0.000000</td>\n",
       "      <td>0.000000</td>\n",
       "      <td>0.000000</td>\n",
       "      <td>0.000000</td>\n",
       "      <td>0.000000</td>\n",
       "      <td>0.000000</td>\n",
       "      <td>1.000000</td>\n",
       "    </tr>\n",
       "    <tr>\n",
       "      <th>25%</th>\n",
       "      <td>0.000000</td>\n",
       "      <td>16.000000</td>\n",
       "      <td>0.000000</td>\n",
       "      <td>1.000000</td>\n",
       "      <td>2.000000</td>\n",
       "      <td>0.000000</td>\n",
       "      <td>0.000000</td>\n",
       "      <td>0.000000</td>\n",
       "      <td>0.000000</td>\n",
       "      <td>0.000000</td>\n",
       "      <td>0.000000</td>\n",
       "      <td>0.000000</td>\n",
       "      <td>0.000000</td>\n",
       "      <td>0.000000</td>\n",
       "      <td>2.000000</td>\n",
       "    </tr>\n",
       "    <tr>\n",
       "      <th>50%</th>\n",
       "      <td>0.000000</td>\n",
       "      <td>63.000000</td>\n",
       "      <td>1.000000</td>\n",
       "      <td>2.000000</td>\n",
       "      <td>2.000000</td>\n",
       "      <td>0.000000</td>\n",
       "      <td>0.000000</td>\n",
       "      <td>0.000000</td>\n",
       "      <td>0.000000</td>\n",
       "      <td>0.000000</td>\n",
       "      <td>0.000000</td>\n",
       "      <td>0.000000</td>\n",
       "      <td>0.000000</td>\n",
       "      <td>1.000000</td>\n",
       "      <td>3.000000</td>\n",
       "    </tr>\n",
       "    <tr>\n",
       "      <th>75%</th>\n",
       "      <td>1.000000</td>\n",
       "      <td>143.000000</td>\n",
       "      <td>2.000000</td>\n",
       "      <td>3.000000</td>\n",
       "      <td>2.000000</td>\n",
       "      <td>0.000000</td>\n",
       "      <td>0.000000</td>\n",
       "      <td>0.000000</td>\n",
       "      <td>0.000000</td>\n",
       "      <td>0.000000</td>\n",
       "      <td>0.000000</td>\n",
       "      <td>0.000000</td>\n",
       "      <td>0.000000</td>\n",
       "      <td>1.000000</td>\n",
       "      <td>4.000000</td>\n",
       "    </tr>\n",
       "    <tr>\n",
       "      <th>max</th>\n",
       "      <td>1.000000</td>\n",
       "      <td>373.000000</td>\n",
       "      <td>4.000000</td>\n",
       "      <td>6.000000</td>\n",
       "      <td>4.000000</td>\n",
       "      <td>3.000000</td>\n",
       "      <td>2.000000</td>\n",
       "      <td>1.000000</td>\n",
       "      <td>6.000000</td>\n",
       "      <td>72.000000</td>\n",
       "      <td>18.000000</td>\n",
       "      <td>223.000000</td>\n",
       "      <td>8.000000</td>\n",
       "      <td>5.000000</td>\n",
       "      <td>10.000000</td>\n",
       "    </tr>\n",
       "  </tbody>\n",
       "</table>\n",
       "</div>"
      ],
      "text/plain": [
       "        is_canceled     lead_time  stays_in_weekend_nights  \\\n",
       "count  24695.000000  24695.000000             24695.000000   \n",
       "mean       0.315246     88.834541                 0.910306   \n",
       "std        0.464623     85.506551                 0.859874   \n",
       "min        0.000000      0.000000                 0.000000   \n",
       "25%        0.000000     16.000000                 0.000000   \n",
       "50%        0.000000     63.000000                 1.000000   \n",
       "75%        1.000000    143.000000                 2.000000   \n",
       "max        1.000000    373.000000                 4.000000   \n",
       "\n",
       "       stays_in_week_nights        adults      children        babies  \\\n",
       "count          24695.000000  24695.000000  24695.000000  24695.000000   \n",
       "mean               2.379186      1.887265      0.106054      0.007208   \n",
       "std                1.426038      0.495552      0.384630      0.086488   \n",
       "min                0.000000      0.000000      0.000000      0.000000   \n",
       "25%                1.000000      2.000000      0.000000      0.000000   \n",
       "50%                2.000000      2.000000      0.000000      0.000000   \n",
       "75%                3.000000      2.000000      0.000000      0.000000   \n",
       "max                6.000000      4.000000      3.000000      2.000000   \n",
       "\n",
       "       is_repeated_guest  previous_cancellations  \\\n",
       "count       24695.000000            24695.000000   \n",
       "mean            0.040535                0.015104   \n",
       "std             0.197213                0.206339   \n",
       "min             0.000000                0.000000   \n",
       "25%             0.000000                0.000000   \n",
       "50%             0.000000                0.000000   \n",
       "75%             0.000000                0.000000   \n",
       "max             1.000000                6.000000   \n",
       "\n",
       "       previous_bookings_not_canceled  booking_changes  days_in_waiting_list  \\\n",
       "count                    24695.000000     24695.000000          24695.000000   \n",
       "mean                         0.223527         0.254343              0.341486   \n",
       "std                          2.144022         0.698303              5.404491   \n",
       "min                          0.000000         0.000000              0.000000   \n",
       "25%                          0.000000         0.000000              0.000000   \n",
       "50%                          0.000000         0.000000              0.000000   \n",
       "75%                          0.000000         0.000000              0.000000   \n",
       "max                         72.000000        18.000000            223.000000   \n",
       "\n",
       "       required_car_parking_spaces  total_of_special_requests  total_nights  \n",
       "count                 24695.000000               24695.000000  24695.000000  \n",
       "mean                      0.059567                   0.763272      3.289492  \n",
       "std                       0.247559                   0.861233      1.818364  \n",
       "min                       0.000000                   0.000000      1.000000  \n",
       "25%                       0.000000                   0.000000      2.000000  \n",
       "50%                       0.000000                   1.000000      3.000000  \n",
       "75%                       0.000000                   1.000000      4.000000  \n",
       "max                       8.000000                   5.000000     10.000000  "
      ]
     },
     "metadata": {},
     "output_type": "display_data"
    }
   ],
   "source": [
    "display(d_train.describe())\n",
    "display(d_test.describe())"
   ]
  },
  {
   "cell_type": "code",
   "execution_count": 16,
   "metadata": {},
   "outputs": [],
   "source": [
    "def out_boxplot(dfs, columns):\n",
    "    count_df = len(dfs)\n",
    "    count_columns = len(columns)\n",
    "    fig, axs = plt.subplots(nrows= count_df, ncols= count_columns, figsize = (20,15))\n",
    "    fig.tight_layout(h_pad=2)\n",
    "    for row in range(count_df):\n",
    "         for column in range(count_columns):\n",
    "#             print(columns[column])\n",
    "            axs[row][column].boxplot(x=columns[column], data=dfs[row])\n",
    "#             axs[row][column].hist(x=columns[column], data=dfs[row])\n",
    "            axs[0][column].set_xlabel(columns[column])\n",
    "            if row == 0:\n",
    "                axs[row][0].set_ylabel('data_train')\n",
    "            elif row == 1:\n",
    "                axs[row][0].set_ylabel('data_test')\n",
    "            "
   ]
  },
  {
   "cell_type": "code",
   "execution_count": 17,
   "metadata": {
    "scrolled": false
   },
   "outputs": [
    {
     "data": {
      "image/png": "[encoded data removed]",
      "text/plain": [
       "<Figure size 1440x1080 with 26 Axes>"
      ]
     },
     "metadata": {
      "needs_background": "light"
     },
     "output_type": "display_data"
    }
   ],
   "source": [
    "columns_numeric = d_test.columns.tolist()\n",
    "columns_object = ['arrival_date_year', 'arrival_date_week_number', 'arrival_date_day_of_month', 'arrival_date_month', 'meal', 'country', 'distribution_channel', 'reserved_room_type', 'customer_type', 'is_canceled', 'is_repeated_guest']\n",
    "for column in columns_object:\n",
    "    columns_numeric.remove(column)\n",
    "dfs = [d_train, d_test]\n",
    "\n",
    "out_boxplot(dfs, columns_numeric)"
   ]
  },
  {
   "cell_type": "markdown",
   "metadata": {},
   "source": [
    "Удалим строки с выбросами, для этого напишем функцию, которую потом вызовем"
   ]
  },
  {
   "cell_type": "code",
   "execution_count": 18,
   "metadata": {},
   "outputs": [],
   "source": [
    "def df_process(df, columns):\n",
    "    df_processed = df\n",
    "    for column in columns:\n",
    "        q25 = df_processed[column].quantile(.25)\n",
    "        q75 = df_processed[column].quantile(.75)        \n",
    "        q_min = q25 - 1.5*(q75-q25)\n",
    "        q_max = q75 + 1.5*(q75-q25)\n",
    "        df_processed = df_processed[df_processed[column] >= q_min]\n",
    "        df_processed = df_processed[df_processed[column] <= q_max]\n",
    "    return df_processed"
   ]
  },
  {
   "cell_type": "markdown",
   "metadata": {},
   "source": [
    "Для удаления ненужных строк рассматриваем столбцы, где получился график в виде \"ящика с усами\" - 'lead_time', 'stays_in_weekend_nights', 'stays_in_week_nights', 'total_of_special_requests', 'total_nights'"
   ]
  },
  {
   "cell_type": "code",
   "execution_count": 19,
   "metadata": {},
   "outputs": [
    {
     "name": "stdout",
     "output_type": "stream",
     "text": [
      "Кол-во оставшихся строк df_train - 40666, удалено - 3186\n",
      "Кол-во оставшихся строк df_test - 23238, удалено - 1457\n"
     ]
    }
   ],
   "source": [
    "need_columns = ['lead_time', 'stays_in_weekend_nights', 'stays_in_week_nights', 'total_of_special_requests', 'total_nights']\n",
    "\n",
    "\n",
    "df_train = df_process(d_train, need_columns).reset_index(drop=True)\n",
    "df_test = df_process(d_test, need_columns).reset_index(drop=True)\n",
    "print(f'Кол-во оставшихся строк df_train - {df_train.shape[0]}, удалено - {d_train.shape[0] - df_train.shape[0]}')\n",
    "print(f'Кол-во оставшихся строк df_test - {df_test.shape[0]}, удалено - {d_test.shape[0] - df_test.shape[0]}')"
   ]
  },
  {
   "cell_type": "code",
   "execution_count": 20,
   "metadata": {},
   "outputs": [
    {
     "data": {
      "image/png": "[encoded data removed]",
      "text/plain": [
       "<Figure size 1440x1080 with 26 Axes>"
      ]
     },
     "metadata": {
      "needs_background": "light"
     },
     "output_type": "display_data"
    }
   ],
   "source": [
    "dfs = [df_train, df_test]\n",
    "\n",
    "out_boxplot(dfs, columns_numeric)"
   ]
  },
  {
   "cell_type": "markdown",
   "metadata": {},
   "source": [
    "Можем заметить, что 5% данных оказалось с выбросами, которые впоследствии удалились"
   ]
  },
  {
   "cell_type": "markdown",
   "metadata": {},
   "source": [
    "Также нельзя учитывать записи о заездах без самих постояльцев, где кол-во взрослых постояльцев равно 0, т.е. по факту заезда не было, а запись в данные внесена "
   ]
  },
  {
   "cell_type": "code",
   "execution_count": 21,
   "metadata": {
    "scrolled": true
   },
   "outputs": [
    {
     "name": "stdout",
     "output_type": "stream",
     "text": [
      "Кол-во оставшихся строк hotel_train - 40519, удалено - 147\n",
      "Кол-во оставшихся строк hotel_test - 23184, удалено - 54\n"
     ]
    }
   ],
   "source": [
    "hotel_train = df_train.query('adults > 0')\n",
    "hotel_test = df_test.query('adults > 0')\n",
    "print(f'Кол-во оставшихся строк hotel_train - {hotel_train.shape[0]}, удалено - {df_train.shape[0] - hotel_train.shape[0]}')\n",
    "print(f'Кол-во оставшихся строк hotel_test - {hotel_test.shape[0]}, удалено - {df_test.shape[0] - hotel_test.shape[0]}')"
   ]
  },
  {
   "cell_type": "code",
   "execution_count": 22,
   "metadata": {},
   "outputs": [
    {
     "name": "stdout",
     "output_type": "stream",
     "text": [
      "['2015' '2016']\n",
      "['2017']\n"
     ]
    }
   ],
   "source": [
    "print(hotel_train['arrival_date_year'].unique())\n",
    "print(hotel_test['arrival_date_year'].unique())"
   ]
  },
  {
   "cell_type": "code",
   "execution_count": 23,
   "metadata": {},
   "outputs": [
    {
     "data": {
      "text/html": [
       "<div>\n",
       "<style scoped>\n",
       "    .dataframe tbody tr th:only-of-type {\n",
       "        vertical-align: middle;\n",
       "    }\n",
       "\n",
       "    .dataframe tbody tr th {\n",
       "        vertical-align: top;\n",
       "    }\n",
       "\n",
       "    .dataframe thead th {\n",
       "        text-align: right;\n",
       "    }\n",
       "</style>\n",
       "<table border=\"1\" class=\"dataframe\">\n",
       "  <thead>\n",
       "    <tr style=\"text-align: right;\">\n",
       "      <th></th>\n",
       "      <th>stays_in_week_nights</th>\n",
       "      <th>stays_in_weekend_nights</th>\n",
       "      <th>total_nights</th>\n",
       "    </tr>\n",
       "  </thead>\n",
       "  <tbody>\n",
       "    <tr>\n",
       "      <th>0</th>\n",
       "      <td>0</td>\n",
       "      <td>1</td>\n",
       "      <td>1</td>\n",
       "    </tr>\n",
       "    <tr>\n",
       "      <th>1</th>\n",
       "      <td>2</td>\n",
       "      <td>2</td>\n",
       "      <td>4</td>\n",
       "    </tr>\n",
       "    <tr>\n",
       "      <th>2</th>\n",
       "      <td>2</td>\n",
       "      <td>2</td>\n",
       "      <td>4</td>\n",
       "    </tr>\n",
       "    <tr>\n",
       "      <th>3</th>\n",
       "      <td>5</td>\n",
       "      <td>2</td>\n",
       "      <td>7</td>\n",
       "    </tr>\n",
       "    <tr>\n",
       "      <th>4</th>\n",
       "      <td>5</td>\n",
       "      <td>2</td>\n",
       "      <td>7</td>\n",
       "    </tr>\n",
       "  </tbody>\n",
       "</table>\n",
       "</div>"
      ],
      "text/plain": [
       "   stays_in_week_nights  stays_in_weekend_nights  total_nights\n",
       "0                     0                        1             1\n",
       "1                     2                        2             4\n",
       "2                     2                        2             4\n",
       "3                     5                        2             7\n",
       "4                     5                        2             7"
      ]
     },
     "metadata": {},
     "output_type": "display_data"
    }
   ],
   "source": [
    "display(hotel_test[['stays_in_week_nights', 'stays_in_weekend_nights', 'total_nights']].head())"
   ]
  },
  {
   "cell_type": "markdown",
   "metadata": {},
   "source": [
    "Примечательно, что в обучающих данных представлены записи за 2015 и 2016 года, а в тестовых - за 2017, чем и объясняется разница между размерами в два раза в пользу первых, столбцы с годами, неделями и днями можем удалить, оставим только месяцы, т.к. они могут исказить предсказания; также можно заметить столбец 'total_nights' - сумма столбцов 'stays_in_week_nights' и 'stays_in_weekend_nights', поэтому удалим вторые столбцы"
   ]
  },
  {
   "cell_type": "code",
   "execution_count": 24,
   "metadata": {
    "scrolled": true
   },
   "outputs": [
    {
     "data": {
      "text/html": [
       "<div>\n",
       "<style scoped>\n",
       "    .dataframe tbody tr th:only-of-type {\n",
       "        vertical-align: middle;\n",
       "    }\n",
       "\n",
       "    .dataframe tbody tr th {\n",
       "        vertical-align: top;\n",
       "    }\n",
       "\n",
       "    .dataframe thead th {\n",
       "        text-align: right;\n",
       "    }\n",
       "</style>\n",
       "<table border=\"1\" class=\"dataframe\">\n",
       "  <thead>\n",
       "    <tr style=\"text-align: right;\">\n",
       "      <th></th>\n",
       "      <th>is_canceled</th>\n",
       "      <th>lead_time</th>\n",
       "      <th>arrival_date_month</th>\n",
       "      <th>adults</th>\n",
       "      <th>children</th>\n",
       "      <th>babies</th>\n",
       "      <th>meal</th>\n",
       "      <th>country</th>\n",
       "      <th>distribution_channel</th>\n",
       "      <th>is_repeated_guest</th>\n",
       "      <th>previous_cancellations</th>\n",
       "      <th>previous_bookings_not_canceled</th>\n",
       "      <th>reserved_room_type</th>\n",
       "      <th>booking_changes</th>\n",
       "      <th>days_in_waiting_list</th>\n",
       "      <th>customer_type</th>\n",
       "      <th>required_car_parking_spaces</th>\n",
       "      <th>total_of_special_requests</th>\n",
       "      <th>total_nights</th>\n",
       "    </tr>\n",
       "  </thead>\n",
       "  <tbody>\n",
       "    <tr>\n",
       "      <th>0</th>\n",
       "      <td>0</td>\n",
       "      <td>7</td>\n",
       "      <td>July</td>\n",
       "      <td>1</td>\n",
       "      <td>0</td>\n",
       "      <td>0</td>\n",
       "      <td>BB</td>\n",
       "      <td>GBR</td>\n",
       "      <td>Direct</td>\n",
       "      <td>0</td>\n",
       "      <td>0</td>\n",
       "      <td>0</td>\n",
       "      <td>A</td>\n",
       "      <td>0</td>\n",
       "      <td>0</td>\n",
       "      <td>Transient</td>\n",
       "      <td>0</td>\n",
       "      <td>0</td>\n",
       "      <td>1</td>\n",
       "    </tr>\n",
       "    <tr>\n",
       "      <th>1</th>\n",
       "      <td>0</td>\n",
       "      <td>14</td>\n",
       "      <td>July</td>\n",
       "      <td>2</td>\n",
       "      <td>0</td>\n",
       "      <td>0</td>\n",
       "      <td>BB</td>\n",
       "      <td>GBR</td>\n",
       "      <td>TA/TO</td>\n",
       "      <td>0</td>\n",
       "      <td>0</td>\n",
       "      <td>0</td>\n",
       "      <td>A</td>\n",
       "      <td>0</td>\n",
       "      <td>0</td>\n",
       "      <td>Transient</td>\n",
       "      <td>0</td>\n",
       "      <td>1</td>\n",
       "      <td>2</td>\n",
       "    </tr>\n",
       "    <tr>\n",
       "      <th>2</th>\n",
       "      <td>0</td>\n",
       "      <td>0</td>\n",
       "      <td>July</td>\n",
       "      <td>2</td>\n",
       "      <td>0</td>\n",
       "      <td>0</td>\n",
       "      <td>BB</td>\n",
       "      <td>PRT</td>\n",
       "      <td>Direct</td>\n",
       "      <td>0</td>\n",
       "      <td>0</td>\n",
       "      <td>0</td>\n",
       "      <td>C</td>\n",
       "      <td>0</td>\n",
       "      <td>0</td>\n",
       "      <td>Transient</td>\n",
       "      <td>0</td>\n",
       "      <td>0</td>\n",
       "      <td>2</td>\n",
       "    </tr>\n",
       "    <tr>\n",
       "      <th>3</th>\n",
       "      <td>0</td>\n",
       "      <td>9</td>\n",
       "      <td>July</td>\n",
       "      <td>2</td>\n",
       "      <td>0</td>\n",
       "      <td>0</td>\n",
       "      <td>FB</td>\n",
       "      <td>PRT</td>\n",
       "      <td>Direct</td>\n",
       "      <td>0</td>\n",
       "      <td>0</td>\n",
       "      <td>0</td>\n",
       "      <td>C</td>\n",
       "      <td>0</td>\n",
       "      <td>0</td>\n",
       "      <td>Transient</td>\n",
       "      <td>0</td>\n",
       "      <td>1</td>\n",
       "      <td>2</td>\n",
       "    </tr>\n",
       "    <tr>\n",
       "      <th>4</th>\n",
       "      <td>1</td>\n",
       "      <td>85</td>\n",
       "      <td>July</td>\n",
       "      <td>2</td>\n",
       "      <td>0</td>\n",
       "      <td>0</td>\n",
       "      <td>BB</td>\n",
       "      <td>PRT</td>\n",
       "      <td>TA/TO</td>\n",
       "      <td>0</td>\n",
       "      <td>0</td>\n",
       "      <td>0</td>\n",
       "      <td>A</td>\n",
       "      <td>0</td>\n",
       "      <td>0</td>\n",
       "      <td>Transient</td>\n",
       "      <td>0</td>\n",
       "      <td>1</td>\n",
       "      <td>3</td>\n",
       "    </tr>\n",
       "  </tbody>\n",
       "</table>\n",
       "</div>"
      ],
      "text/plain": [
       "   is_canceled  lead_time arrival_date_month  adults  children  babies meal  \\\n",
       "0            0          7               July       1         0       0   BB   \n",
       "1            0         14               July       2         0       0   BB   \n",
       "2            0          0               July       2         0       0   BB   \n",
       "3            0          9               July       2         0       0   FB   \n",
       "4            1         85               July       2         0       0   BB   \n",
       "\n",
       "  country distribution_channel  is_repeated_guest  previous_cancellations  \\\n",
       "0     GBR               Direct                  0                       0   \n",
       "1     GBR                TA/TO                  0                       0   \n",
       "2     PRT               Direct                  0                       0   \n",
       "3     PRT               Direct                  0                       0   \n",
       "4     PRT                TA/TO                  0                       0   \n",
       "\n",
       "   previous_bookings_not_canceled reserved_room_type  booking_changes  \\\n",
       "0                               0                  A                0   \n",
       "1                               0                  A                0   \n",
       "2                               0                  C                0   \n",
       "3                               0                  C                0   \n",
       "4                               0                  A                0   \n",
       "\n",
       "   days_in_waiting_list customer_type  required_car_parking_spaces  \\\n",
       "0                     0     Transient                            0   \n",
       "1                     0     Transient                            0   \n",
       "2                     0     Transient                            0   \n",
       "3                     0     Transient                            0   \n",
       "4                     0     Transient                            0   \n",
       "\n",
       "   total_of_special_requests  total_nights  \n",
       "0                          0             1  \n",
       "1                          1             2  \n",
       "2                          0             2  \n",
       "3                          1             2  \n",
       "4                          1             3  "
      ]
     },
     "metadata": {},
     "output_type": "display_data"
    },
    {
     "data": {
      "text/html": [
       "<div>\n",
       "<style scoped>\n",
       "    .dataframe tbody tr th:only-of-type {\n",
       "        vertical-align: middle;\n",
       "    }\n",
       "\n",
       "    .dataframe tbody tr th {\n",
       "        vertical-align: top;\n",
       "    }\n",
       "\n",
       "    .dataframe thead th {\n",
       "        text-align: right;\n",
       "    }\n",
       "</style>\n",
       "<table border=\"1\" class=\"dataframe\">\n",
       "  <thead>\n",
       "    <tr style=\"text-align: right;\">\n",
       "      <th></th>\n",
       "      <th>is_canceled</th>\n",
       "      <th>lead_time</th>\n",
       "      <th>arrival_date_month</th>\n",
       "      <th>adults</th>\n",
       "      <th>children</th>\n",
       "      <th>babies</th>\n",
       "      <th>meal</th>\n",
       "      <th>country</th>\n",
       "      <th>distribution_channel</th>\n",
       "      <th>is_repeated_guest</th>\n",
       "      <th>previous_cancellations</th>\n",
       "      <th>previous_bookings_not_canceled</th>\n",
       "      <th>reserved_room_type</th>\n",
       "      <th>booking_changes</th>\n",
       "      <th>days_in_waiting_list</th>\n",
       "      <th>customer_type</th>\n",
       "      <th>required_car_parking_spaces</th>\n",
       "      <th>total_of_special_requests</th>\n",
       "      <th>total_nights</th>\n",
       "    </tr>\n",
       "  </thead>\n",
       "  <tbody>\n",
       "    <tr>\n",
       "      <th>0</th>\n",
       "      <td>1</td>\n",
       "      <td>74</td>\n",
       "      <td>January</td>\n",
       "      <td>2</td>\n",
       "      <td>0</td>\n",
       "      <td>0</td>\n",
       "      <td>BB</td>\n",
       "      <td>PRT</td>\n",
       "      <td>TA/TO</td>\n",
       "      <td>0</td>\n",
       "      <td>0</td>\n",
       "      <td>0</td>\n",
       "      <td>A</td>\n",
       "      <td>0</td>\n",
       "      <td>0</td>\n",
       "      <td>Transient</td>\n",
       "      <td>0</td>\n",
       "      <td>0</td>\n",
       "      <td>1</td>\n",
       "    </tr>\n",
       "    <tr>\n",
       "      <th>1</th>\n",
       "      <td>1</td>\n",
       "      <td>62</td>\n",
       "      <td>January</td>\n",
       "      <td>2</td>\n",
       "      <td>0</td>\n",
       "      <td>0</td>\n",
       "      <td>BB</td>\n",
       "      <td>AUT</td>\n",
       "      <td>TA/TO</td>\n",
       "      <td>0</td>\n",
       "      <td>0</td>\n",
       "      <td>0</td>\n",
       "      <td>A</td>\n",
       "      <td>0</td>\n",
       "      <td>0</td>\n",
       "      <td>Transient</td>\n",
       "      <td>0</td>\n",
       "      <td>1</td>\n",
       "      <td>4</td>\n",
       "    </tr>\n",
       "    <tr>\n",
       "      <th>2</th>\n",
       "      <td>1</td>\n",
       "      <td>71</td>\n",
       "      <td>January</td>\n",
       "      <td>1</td>\n",
       "      <td>0</td>\n",
       "      <td>0</td>\n",
       "      <td>BB</td>\n",
       "      <td>PRT</td>\n",
       "      <td>TA/TO</td>\n",
       "      <td>0</td>\n",
       "      <td>0</td>\n",
       "      <td>0</td>\n",
       "      <td>A</td>\n",
       "      <td>0</td>\n",
       "      <td>0</td>\n",
       "      <td>Transient</td>\n",
       "      <td>0</td>\n",
       "      <td>1</td>\n",
       "      <td>4</td>\n",
       "    </tr>\n",
       "    <tr>\n",
       "      <th>3</th>\n",
       "      <td>1</td>\n",
       "      <td>172</td>\n",
       "      <td>January</td>\n",
       "      <td>2</td>\n",
       "      <td>0</td>\n",
       "      <td>0</td>\n",
       "      <td>BB</td>\n",
       "      <td>BEL</td>\n",
       "      <td>TA/TO</td>\n",
       "      <td>0</td>\n",
       "      <td>0</td>\n",
       "      <td>0</td>\n",
       "      <td>A</td>\n",
       "      <td>0</td>\n",
       "      <td>0</td>\n",
       "      <td>Transient</td>\n",
       "      <td>0</td>\n",
       "      <td>0</td>\n",
       "      <td>7</td>\n",
       "    </tr>\n",
       "    <tr>\n",
       "      <th>4</th>\n",
       "      <td>1</td>\n",
       "      <td>52</td>\n",
       "      <td>January</td>\n",
       "      <td>1</td>\n",
       "      <td>0</td>\n",
       "      <td>0</td>\n",
       "      <td>BB</td>\n",
       "      <td>DEU</td>\n",
       "      <td>TA/TO</td>\n",
       "      <td>0</td>\n",
       "      <td>0</td>\n",
       "      <td>0</td>\n",
       "      <td>A</td>\n",
       "      <td>0</td>\n",
       "      <td>0</td>\n",
       "      <td>Transient</td>\n",
       "      <td>0</td>\n",
       "      <td>0</td>\n",
       "      <td>7</td>\n",
       "    </tr>\n",
       "  </tbody>\n",
       "</table>\n",
       "</div>"
      ],
      "text/plain": [
       "   is_canceled  lead_time arrival_date_month  adults  children  babies meal  \\\n",
       "0            1         74            January       2         0       0   BB   \n",
       "1            1         62            January       2         0       0   BB   \n",
       "2            1         71            January       1         0       0   BB   \n",
       "3            1        172            January       2         0       0   BB   \n",
       "4            1         52            January       1         0       0   BB   \n",
       "\n",
       "  country distribution_channel  is_repeated_guest  previous_cancellations  \\\n",
       "0     PRT                TA/TO                  0                       0   \n",
       "1     AUT                TA/TO                  0                       0   \n",
       "2     PRT                TA/TO                  0                       0   \n",
       "3     BEL                TA/TO                  0                       0   \n",
       "4     DEU                TA/TO                  0                       0   \n",
       "\n",
       "   previous_bookings_not_canceled reserved_room_type  booking_changes  \\\n",
       "0                               0                  A                0   \n",
       "1                               0                  A                0   \n",
       "2                               0                  A                0   \n",
       "3                               0                  A                0   \n",
       "4                               0                  A                0   \n",
       "\n",
       "   days_in_waiting_list customer_type  required_car_parking_spaces  \\\n",
       "0                     0     Transient                            0   \n",
       "1                     0     Transient                            0   \n",
       "2                     0     Transient                            0   \n",
       "3                     0     Transient                            0   \n",
       "4                     0     Transient                            0   \n",
       "\n",
       "   total_of_special_requests  total_nights  \n",
       "0                          0             1  \n",
       "1                          1             4  \n",
       "2                          1             4  \n",
       "3                          0             7  \n",
       "4                          0             7  "
      ]
     },
     "metadata": {},
     "output_type": "display_data"
    }
   ],
   "source": [
    "columns_delete = ['arrival_date_year', 'arrival_date_week_number', 'arrival_date_day_of_month', 'stays_in_week_nights', 'stays_in_weekend_nights']\n",
    "hotel_train_0 = hotel_train.drop(columns_delete, axis=1)\n",
    "hotel_test_0 = hotel_test.drop(columns_delete, axis=1)\n",
    "#Выведем, что получилось после удаления столбцов\n",
    "display(hotel_train_0.head())\n",
    "display(hotel_test_0.head())"
   ]
  },
  {
   "cell_type": "markdown",
   "metadata": {},
   "source": [
    "### Шаг 3. Формулировка ML-задачи на основе бизнес-задачи"
   ]
  },
  {
   "cell_type": "markdown",
   "metadata": {},
   "source": [
    "Оценим прибыль отеля без внедрения депозитов"
   ]
  },
  {
   "cell_type": "markdown",
   "metadata": {},
   "source": [
    "У нас есть вводные данные:\n",
    "\n",
    "Основная бизнес-метрика для любой сети отелей — её прибыль. Прибыль отеля — это разница между стоимостью номера за все ночи и затраты на обслуживание: как при подготовке номера, так и при проживании постояльца. \n",
    "В отеле есть несколько типов номеров. В зависимости от типа номера назначается стоимость за одну ночь. Есть также затраты на уборку. Если клиент снял номер надолго, то убираются каждые два дня.\n",
    "\n",
    "**Стоимость номеров отеля:**\n",
    "- категория A: за ночь — 1 000, разовое обслуживание — 400;\n",
    "- категория B: за ночь — 800, разовое обслуживание — 350;\n",
    "- категория C: за ночь — 600, разовое обслуживание — 350;\n",
    "- категория D: за ночь — 550, разовое обслуживание — 150;\n",
    "- категория E: за ночь — 500, разовое обслуживание — 150;\n",
    "- категория F: за ночь — 450, разовое обслуживание — 150;\n",
    "- категория G: за ночь — 350, разовое обслуживание — 150.\n",
    "\n",
    "В ценовой политике отеля используются сезонные коэффициенты: весной и осенью цены повышаются на 20%, летом — на 40%.\n",
    "Убытки отеля в случае отмены брони номера — это стоимость одной уборки и одной ночи с учётом сезонного коэффициента."
   ]
  },
  {
   "cell_type": "markdown",
   "metadata": {},
   "source": [
    "Анализ будем производить на тестовых данных с необходимыми столбцами для вычисления прибыли/убытка - 'arrival_date_month', 'is_canceled', 'reserved_room_type', 'total_nights'"
   ]
  },
  {
   "cell_type": "code",
   "execution_count": 25,
   "metadata": {},
   "outputs": [
    {
     "data": {
      "text/html": [
       "<div>\n",
       "<style scoped>\n",
       "    .dataframe tbody tr th:only-of-type {\n",
       "        vertical-align: middle;\n",
       "    }\n",
       "\n",
       "    .dataframe tbody tr th {\n",
       "        vertical-align: top;\n",
       "    }\n",
       "\n",
       "    .dataframe thead th {\n",
       "        text-align: right;\n",
       "    }\n",
       "</style>\n",
       "<table border=\"1\" class=\"dataframe\">\n",
       "  <thead>\n",
       "    <tr style=\"text-align: right;\">\n",
       "      <th></th>\n",
       "      <th>arrival_date_month</th>\n",
       "      <th>is_canceled</th>\n",
       "      <th>reserved_room_type</th>\n",
       "      <th>total_nights</th>\n",
       "    </tr>\n",
       "  </thead>\n",
       "  <tbody>\n",
       "    <tr>\n",
       "      <th>0</th>\n",
       "      <td>January</td>\n",
       "      <td>1</td>\n",
       "      <td>A</td>\n",
       "      <td>1</td>\n",
       "    </tr>\n",
       "    <tr>\n",
       "      <th>1</th>\n",
       "      <td>January</td>\n",
       "      <td>1</td>\n",
       "      <td>A</td>\n",
       "      <td>4</td>\n",
       "    </tr>\n",
       "    <tr>\n",
       "      <th>2</th>\n",
       "      <td>January</td>\n",
       "      <td>1</td>\n",
       "      <td>A</td>\n",
       "      <td>4</td>\n",
       "    </tr>\n",
       "    <tr>\n",
       "      <th>3</th>\n",
       "      <td>January</td>\n",
       "      <td>1</td>\n",
       "      <td>A</td>\n",
       "      <td>7</td>\n",
       "    </tr>\n",
       "    <tr>\n",
       "      <th>4</th>\n",
       "      <td>January</td>\n",
       "      <td>1</td>\n",
       "      <td>A</td>\n",
       "      <td>7</td>\n",
       "    </tr>\n",
       "  </tbody>\n",
       "</table>\n",
       "</div>"
      ],
      "text/plain": [
       "  arrival_date_month  is_canceled reserved_room_type  total_nights\n",
       "0            January            1                  A             1\n",
       "1            January            1                  A             4\n",
       "2            January            1                  A             4\n",
       "3            January            1                  A             7\n",
       "4            January            1                  A             7"
      ]
     },
     "metadata": {},
     "output_type": "display_data"
    },
    {
     "data": {
      "text/plain": [
       "(23184, 4)"
      ]
     },
     "metadata": {},
     "output_type": "display_data"
    }
   ],
   "source": [
    "analis_columns = ['arrival_date_month', 'is_canceled', 'reserved_room_type', 'total_nights']\n",
    "hotel_profit = hotel_test_0[analis_columns]\n",
    "display(hotel_profit.head())\n",
    "display(hotel_profit.shape)"
   ]
  },
  {
   "cell_type": "markdown",
   "metadata": {},
   "source": [
    "Определим уникальные значения месяцев, чтобы не писать лишние строчки далее"
   ]
  },
  {
   "cell_type": "code",
   "execution_count": 26,
   "metadata": {},
   "outputs": [
    {
     "data": {
      "text/plain": [
       "array(['January', 'February', 'March', 'April', 'May', 'June', 'July',\n",
       "       'August'], dtype=object)"
      ]
     },
     "execution_count": 26,
     "metadata": {},
     "output_type": "execute_result"
    }
   ],
   "source": [
    "hotel_profit['arrival_date_month'].unique()"
   ]
  },
  {
   "cell_type": "markdown",
   "metadata": {},
   "source": [
    "Создадим вспомогательные таблицы для их объединения с предыдущей таблицей: \n",
    "- с коэффициентами для её объединения с предыдущей таблицей по месяцу с созданием нового столбца - 'koeff' \n",
    "- с ценами за ночь, стоимостью по типу номеров с созданием нового столбца - 'price_per_night', 'service_price' "
   ]
  },
  {
   "cell_type": "code",
   "execution_count": 27,
   "metadata": {},
   "outputs": [
    {
     "data": {
      "text/html": [
       "<div>\n",
       "<style scoped>\n",
       "    .dataframe tbody tr th:only-of-type {\n",
       "        vertical-align: middle;\n",
       "    }\n",
       "\n",
       "    .dataframe tbody tr th {\n",
       "        vertical-align: top;\n",
       "    }\n",
       "\n",
       "    .dataframe thead th {\n",
       "        text-align: right;\n",
       "    }\n",
       "</style>\n",
       "<table border=\"1\" class=\"dataframe\">\n",
       "  <thead>\n",
       "    <tr style=\"text-align: right;\">\n",
       "      <th></th>\n",
       "      <th>arrival_date_month</th>\n",
       "      <th>is_canceled</th>\n",
       "      <th>reserved_room_type</th>\n",
       "      <th>total_nights</th>\n",
       "      <th>koeff</th>\n",
       "      <th>price_per_night</th>\n",
       "      <th>service_price</th>\n",
       "    </tr>\n",
       "  </thead>\n",
       "  <tbody>\n",
       "    <tr>\n",
       "      <th>0</th>\n",
       "      <td>January</td>\n",
       "      <td>1</td>\n",
       "      <td>A</td>\n",
       "      <td>1</td>\n",
       "      <td>1.0</td>\n",
       "      <td>1000</td>\n",
       "      <td>400</td>\n",
       "    </tr>\n",
       "    <tr>\n",
       "      <th>1</th>\n",
       "      <td>January</td>\n",
       "      <td>1</td>\n",
       "      <td>A</td>\n",
       "      <td>4</td>\n",
       "      <td>1.0</td>\n",
       "      <td>1000</td>\n",
       "      <td>400</td>\n",
       "    </tr>\n",
       "    <tr>\n",
       "      <th>2</th>\n",
       "      <td>January</td>\n",
       "      <td>1</td>\n",
       "      <td>A</td>\n",
       "      <td>4</td>\n",
       "      <td>1.0</td>\n",
       "      <td>1000</td>\n",
       "      <td>400</td>\n",
       "    </tr>\n",
       "    <tr>\n",
       "      <th>3</th>\n",
       "      <td>January</td>\n",
       "      <td>1</td>\n",
       "      <td>A</td>\n",
       "      <td>7</td>\n",
       "      <td>1.0</td>\n",
       "      <td>1000</td>\n",
       "      <td>400</td>\n",
       "    </tr>\n",
       "    <tr>\n",
       "      <th>4</th>\n",
       "      <td>January</td>\n",
       "      <td>1</td>\n",
       "      <td>A</td>\n",
       "      <td>7</td>\n",
       "      <td>1.0</td>\n",
       "      <td>1000</td>\n",
       "      <td>400</td>\n",
       "    </tr>\n",
       "  </tbody>\n",
       "</table>\n",
       "</div>"
      ],
      "text/plain": [
       "  arrival_date_month  is_canceled reserved_room_type  total_nights  koeff  \\\n",
       "0            January            1                  A             1    1.0   \n",
       "1            January            1                  A             4    1.0   \n",
       "2            January            1                  A             4    1.0   \n",
       "3            January            1                  A             7    1.0   \n",
       "4            January            1                  A             7    1.0   \n",
       "\n",
       "   price_per_night  service_price  \n",
       "0             1000            400  \n",
       "1             1000            400  \n",
       "2             1000            400  \n",
       "3             1000            400  \n",
       "4             1000            400  "
      ]
     },
     "metadata": {},
     "output_type": "display_data"
    },
    {
     "data": {
      "text/plain": [
       "(23184, 7)"
      ]
     },
     "metadata": {},
     "output_type": "display_data"
    }
   ],
   "source": [
    "koeff_df = pd.DataFrame({'arrival_date_month' : [month for month in hotel_profit['arrival_date_month'].unique()],\n",
    "                          'koeff' : [1, 1, 1.2, 1.2, 1.2, 1.4, 1.4, 1.4]})\n",
    "hotel_for_profit = hotel_profit.merge(koeff_df, on='arrival_date_month', how='left')\n",
    "room_price_df = pd.DataFrame({'reserved_room_type' : [type_room for type_room in sorted(hotel_profit['reserved_room_type'].unique())],\n",
    "                         'price_per_night' : [1000, 800, 600, 550, 500, 450, 350],\n",
    "                         'service_price' : [400, 350, 350, 150, 150, 150, 150]})\n",
    "hotel_for_profit = hotel_for_profit.merge(room_price_df, on='reserved_room_type', how='left')\n",
    "display(hotel_for_profit.head())\n",
    "display(hotel_for_profit.shape)\n"
   ]
  },
  {
   "cell_type": "markdown",
   "metadata": {},
   "source": [
    "Теперь можем рассчитать прибыль или убыток в зависимости от отмены брони, для этого надо написать функцию, которая будет создавать новый столбец - 'profit' "
   ]
  },
  {
   "cell_type": "code",
   "execution_count": 28,
   "metadata": {},
   "outputs": [],
   "source": [
    "def profit_column(row):    \n",
    "    if row['is_canceled'] == 1:\n",
    "        income = 0\n",
    "        expenses = row['service_price'] + (row['price_per_night'] * row['koeff'])\n",
    "    elif row['is_canceled'] == 0:\n",
    "        income = row['price_per_night'] * row['total_nights'] * row['koeff']\n",
    "        expenses = row['service_price'] * (1 + row['total_nights'] // 2)\n",
    "    profit = income - expenses\n",
    "    return profit"
   ]
  },
  {
   "cell_type": "code",
   "execution_count": 29,
   "metadata": {},
   "outputs": [
    {
     "data": {
      "text/html": [
       "<div>\n",
       "<style scoped>\n",
       "    .dataframe tbody tr th:only-of-type {\n",
       "        vertical-align: middle;\n",
       "    }\n",
       "\n",
       "    .dataframe tbody tr th {\n",
       "        vertical-align: top;\n",
       "    }\n",
       "\n",
       "    .dataframe thead th {\n",
       "        text-align: right;\n",
       "    }\n",
       "</style>\n",
       "<table border=\"1\" class=\"dataframe\">\n",
       "  <thead>\n",
       "    <tr style=\"text-align: right;\">\n",
       "      <th></th>\n",
       "      <th>arrival_date_month</th>\n",
       "      <th>is_canceled</th>\n",
       "      <th>reserved_room_type</th>\n",
       "      <th>total_nights</th>\n",
       "      <th>koeff</th>\n",
       "      <th>price_per_night</th>\n",
       "      <th>service_price</th>\n",
       "      <th>profit</th>\n",
       "    </tr>\n",
       "  </thead>\n",
       "  <tbody>\n",
       "    <tr>\n",
       "      <th>0</th>\n",
       "      <td>January</td>\n",
       "      <td>1</td>\n",
       "      <td>A</td>\n",
       "      <td>1</td>\n",
       "      <td>1.0</td>\n",
       "      <td>1000</td>\n",
       "      <td>400</td>\n",
       "      <td>-1400.0</td>\n",
       "    </tr>\n",
       "    <tr>\n",
       "      <th>1</th>\n",
       "      <td>January</td>\n",
       "      <td>1</td>\n",
       "      <td>A</td>\n",
       "      <td>4</td>\n",
       "      <td>1.0</td>\n",
       "      <td>1000</td>\n",
       "      <td>400</td>\n",
       "      <td>-1400.0</td>\n",
       "    </tr>\n",
       "    <tr>\n",
       "      <th>2</th>\n",
       "      <td>January</td>\n",
       "      <td>1</td>\n",
       "      <td>A</td>\n",
       "      <td>4</td>\n",
       "      <td>1.0</td>\n",
       "      <td>1000</td>\n",
       "      <td>400</td>\n",
       "      <td>-1400.0</td>\n",
       "    </tr>\n",
       "    <tr>\n",
       "      <th>3</th>\n",
       "      <td>January</td>\n",
       "      <td>1</td>\n",
       "      <td>A</td>\n",
       "      <td>7</td>\n",
       "      <td>1.0</td>\n",
       "      <td>1000</td>\n",
       "      <td>400</td>\n",
       "      <td>-1400.0</td>\n",
       "    </tr>\n",
       "    <tr>\n",
       "      <th>4</th>\n",
       "      <td>January</td>\n",
       "      <td>1</td>\n",
       "      <td>A</td>\n",
       "      <td>7</td>\n",
       "      <td>1.0</td>\n",
       "      <td>1000</td>\n",
       "      <td>400</td>\n",
       "      <td>-1400.0</td>\n",
       "    </tr>\n",
       "  </tbody>\n",
       "</table>\n",
       "</div>"
      ],
      "text/plain": [
       "  arrival_date_month  is_canceled reserved_room_type  total_nights  koeff  \\\n",
       "0            January            1                  A             1    1.0   \n",
       "1            January            1                  A             4    1.0   \n",
       "2            January            1                  A             4    1.0   \n",
       "3            January            1                  A             7    1.0   \n",
       "4            January            1                  A             7    1.0   \n",
       "\n",
       "   price_per_night  service_price  profit  \n",
       "0             1000            400 -1400.0  \n",
       "1             1000            400 -1400.0  \n",
       "2             1000            400 -1400.0  \n",
       "3             1000            400 -1400.0  \n",
       "4             1000            400 -1400.0  "
      ]
     },
     "metadata": {},
     "output_type": "display_data"
    }
   ],
   "source": [
    "hotel_for_profit['profit'] = hotel_for_profit.apply(profit_column, axis=1)\n",
    "display(hotel_for_profit.head())"
   ]
  },
  {
   "cell_type": "code",
   "execution_count": 30,
   "metadata": {},
   "outputs": [
    {
     "name": "stdout",
     "output_type": "stream",
     "text": [
      "Прибыль отеля - 29356830 руб.\n"
     ]
    }
   ],
   "source": [
    "hotel_for_profit['profit'].sum()\n",
    "print(f'Прибыль отеля - {int(hotel_for_profit[\"profit\"].sum())} руб.')"
   ]
  },
  {
   "cell_type": "markdown",
   "metadata": {},
   "source": [
    "Прибыль отеля за 2017 год (январь-август) составляет 29 356 830 руб."
   ]
  },
  {
   "cell_type": "markdown",
   "metadata": {},
   "source": [
    "### Шаг 4. Разработка модели ML"
   ]
  },
  {
   "cell_type": "markdown",
   "metadata": {},
   "source": [
    "#### Подготовка данных для прогнозирования"
   ]
  },
  {
   "cell_type": "markdown",
   "metadata": {},
   "source": [
    "Проведём кодирование признаков"
   ]
  },
  {
   "cell_type": "code",
   "execution_count": 58,
   "metadata": {},
   "outputs": [
    {
     "name": "stdout",
     "output_type": "stream",
     "text": [
      "до кодирования тренировочных данных\n"
     ]
    },
    {
     "data": {
      "text/html": [
       "<div>\n",
       "<style scoped>\n",
       "    .dataframe tbody tr th:only-of-type {\n",
       "        vertical-align: middle;\n",
       "    }\n",
       "\n",
       "    .dataframe tbody tr th {\n",
       "        vertical-align: top;\n",
       "    }\n",
       "\n",
       "    .dataframe thead th {\n",
       "        text-align: right;\n",
       "    }\n",
       "</style>\n",
       "<table border=\"1\" class=\"dataframe\">\n",
       "  <thead>\n",
       "    <tr style=\"text-align: right;\">\n",
       "      <th></th>\n",
       "      <th>is_canceled</th>\n",
       "      <th>lead_time</th>\n",
       "      <th>arrival_date_month</th>\n",
       "      <th>adults</th>\n",
       "      <th>children</th>\n",
       "      <th>babies</th>\n",
       "      <th>meal</th>\n",
       "      <th>country</th>\n",
       "      <th>distribution_channel</th>\n",
       "      <th>is_repeated_guest</th>\n",
       "      <th>previous_cancellations</th>\n",
       "      <th>previous_bookings_not_canceled</th>\n",
       "      <th>reserved_room_type</th>\n",
       "      <th>booking_changes</th>\n",
       "      <th>days_in_waiting_list</th>\n",
       "      <th>customer_type</th>\n",
       "      <th>required_car_parking_spaces</th>\n",
       "      <th>total_of_special_requests</th>\n",
       "      <th>total_nights</th>\n",
       "    </tr>\n",
       "  </thead>\n",
       "  <tbody>\n",
       "    <tr>\n",
       "      <th>0</th>\n",
       "      <td>0</td>\n",
       "      <td>7</td>\n",
       "      <td>July</td>\n",
       "      <td>1</td>\n",
       "      <td>0</td>\n",
       "      <td>0</td>\n",
       "      <td>BB</td>\n",
       "      <td>GBR</td>\n",
       "      <td>Direct</td>\n",
       "      <td>0</td>\n",
       "      <td>0</td>\n",
       "      <td>0</td>\n",
       "      <td>A</td>\n",
       "      <td>0</td>\n",
       "      <td>0</td>\n",
       "      <td>Transient</td>\n",
       "      <td>0</td>\n",
       "      <td>0</td>\n",
       "      <td>1</td>\n",
       "    </tr>\n",
       "    <tr>\n",
       "      <th>1</th>\n",
       "      <td>0</td>\n",
       "      <td>14</td>\n",
       "      <td>July</td>\n",
       "      <td>2</td>\n",
       "      <td>0</td>\n",
       "      <td>0</td>\n",
       "      <td>BB</td>\n",
       "      <td>GBR</td>\n",
       "      <td>TA/TO</td>\n",
       "      <td>0</td>\n",
       "      <td>0</td>\n",
       "      <td>0</td>\n",
       "      <td>A</td>\n",
       "      <td>0</td>\n",
       "      <td>0</td>\n",
       "      <td>Transient</td>\n",
       "      <td>0</td>\n",
       "      <td>1</td>\n",
       "      <td>2</td>\n",
       "    </tr>\n",
       "    <tr>\n",
       "      <th>2</th>\n",
       "      <td>0</td>\n",
       "      <td>0</td>\n",
       "      <td>July</td>\n",
       "      <td>2</td>\n",
       "      <td>0</td>\n",
       "      <td>0</td>\n",
       "      <td>BB</td>\n",
       "      <td>PRT</td>\n",
       "      <td>Direct</td>\n",
       "      <td>0</td>\n",
       "      <td>0</td>\n",
       "      <td>0</td>\n",
       "      <td>C</td>\n",
       "      <td>0</td>\n",
       "      <td>0</td>\n",
       "      <td>Transient</td>\n",
       "      <td>0</td>\n",
       "      <td>0</td>\n",
       "      <td>2</td>\n",
       "    </tr>\n",
       "    <tr>\n",
       "      <th>3</th>\n",
       "      <td>0</td>\n",
       "      <td>9</td>\n",
       "      <td>July</td>\n",
       "      <td>2</td>\n",
       "      <td>0</td>\n",
       "      <td>0</td>\n",
       "      <td>FB</td>\n",
       "      <td>PRT</td>\n",
       "      <td>Direct</td>\n",
       "      <td>0</td>\n",
       "      <td>0</td>\n",
       "      <td>0</td>\n",
       "      <td>C</td>\n",
       "      <td>0</td>\n",
       "      <td>0</td>\n",
       "      <td>Transient</td>\n",
       "      <td>0</td>\n",
       "      <td>1</td>\n",
       "      <td>2</td>\n",
       "    </tr>\n",
       "    <tr>\n",
       "      <th>4</th>\n",
       "      <td>1</td>\n",
       "      <td>85</td>\n",
       "      <td>July</td>\n",
       "      <td>2</td>\n",
       "      <td>0</td>\n",
       "      <td>0</td>\n",
       "      <td>BB</td>\n",
       "      <td>PRT</td>\n",
       "      <td>TA/TO</td>\n",
       "      <td>0</td>\n",
       "      <td>0</td>\n",
       "      <td>0</td>\n",
       "      <td>A</td>\n",
       "      <td>0</td>\n",
       "      <td>0</td>\n",
       "      <td>Transient</td>\n",
       "      <td>0</td>\n",
       "      <td>1</td>\n",
       "      <td>3</td>\n",
       "    </tr>\n",
       "  </tbody>\n",
       "</table>\n",
       "</div>"
      ],
      "text/plain": [
       "   is_canceled  lead_time arrival_date_month  adults  children  babies meal  \\\n",
       "0            0          7               July       1         0       0   BB   \n",
       "1            0         14               July       2         0       0   BB   \n",
       "2            0          0               July       2         0       0   BB   \n",
       "3            0          9               July       2         0       0   FB   \n",
       "4            1         85               July       2         0       0   BB   \n",
       "\n",
       "  country distribution_channel  is_repeated_guest  previous_cancellations  \\\n",
       "0     GBR               Direct                  0                       0   \n",
       "1     GBR                TA/TO                  0                       0   \n",
       "2     PRT               Direct                  0                       0   \n",
       "3     PRT               Direct                  0                       0   \n",
       "4     PRT                TA/TO                  0                       0   \n",
       "\n",
       "   previous_bookings_not_canceled reserved_room_type  booking_changes  \\\n",
       "0                               0                  A                0   \n",
       "1                               0                  A                0   \n",
       "2                               0                  C                0   \n",
       "3                               0                  C                0   \n",
       "4                               0                  A                0   \n",
       "\n",
       "   days_in_waiting_list customer_type  required_car_parking_spaces  \\\n",
       "0                     0     Transient                            0   \n",
       "1                     0     Transient                            0   \n",
       "2                     0     Transient                            0   \n",
       "3                     0     Transient                            0   \n",
       "4                     0     Transient                            0   \n",
       "\n",
       "   total_of_special_requests  total_nights  \n",
       "0                          0             1  \n",
       "1                          1             2  \n",
       "2                          0             2  \n",
       "3                          1             2  \n",
       "4                          1             3  "
      ]
     },
     "metadata": {},
     "output_type": "display_data"
    },
    {
     "name": "stdout",
     "output_type": "stream",
     "text": [
      "после\n"
     ]
    },
    {
     "data": {
      "text/html": [
       "<div>\n",
       "<style scoped>\n",
       "    .dataframe tbody tr th:only-of-type {\n",
       "        vertical-align: middle;\n",
       "    }\n",
       "\n",
       "    .dataframe tbody tr th {\n",
       "        vertical-align: top;\n",
       "    }\n",
       "\n",
       "    .dataframe thead th {\n",
       "        text-align: right;\n",
       "    }\n",
       "</style>\n",
       "<table border=\"1\" class=\"dataframe\">\n",
       "  <thead>\n",
       "    <tr style=\"text-align: right;\">\n",
       "      <th></th>\n",
       "      <th>is_canceled</th>\n",
       "      <th>lead_time</th>\n",
       "      <th>arrival_date_month</th>\n",
       "      <th>adults</th>\n",
       "      <th>children</th>\n",
       "      <th>babies</th>\n",
       "      <th>meal</th>\n",
       "      <th>country</th>\n",
       "      <th>distribution_channel</th>\n",
       "      <th>is_repeated_guest</th>\n",
       "      <th>previous_cancellations</th>\n",
       "      <th>previous_bookings_not_canceled</th>\n",
       "      <th>reserved_room_type</th>\n",
       "      <th>booking_changes</th>\n",
       "      <th>days_in_waiting_list</th>\n",
       "      <th>customer_type</th>\n",
       "      <th>required_car_parking_spaces</th>\n",
       "      <th>total_of_special_requests</th>\n",
       "      <th>total_nights</th>\n",
       "    </tr>\n",
       "  </thead>\n",
       "  <tbody>\n",
       "    <tr>\n",
       "      <th>0</th>\n",
       "      <td>0.0</td>\n",
       "      <td>7.0</td>\n",
       "      <td>5.0</td>\n",
       "      <td>0.0</td>\n",
       "      <td>0.0</td>\n",
       "      <td>0.0</td>\n",
       "      <td>0.0</td>\n",
       "      <td>49.0</td>\n",
       "      <td>1.0</td>\n",
       "      <td>0.0</td>\n",
       "      <td>0.0</td>\n",
       "      <td>0.0</td>\n",
       "      <td>0.0</td>\n",
       "      <td>0.0</td>\n",
       "      <td>0.0</td>\n",
       "      <td>2.0</td>\n",
       "      <td>0.0</td>\n",
       "      <td>0.0</td>\n",
       "      <td>0.0</td>\n",
       "    </tr>\n",
       "    <tr>\n",
       "      <th>1</th>\n",
       "      <td>0.0</td>\n",
       "      <td>14.0</td>\n",
       "      <td>5.0</td>\n",
       "      <td>1.0</td>\n",
       "      <td>0.0</td>\n",
       "      <td>0.0</td>\n",
       "      <td>0.0</td>\n",
       "      <td>49.0</td>\n",
       "      <td>3.0</td>\n",
       "      <td>0.0</td>\n",
       "      <td>0.0</td>\n",
       "      <td>0.0</td>\n",
       "      <td>0.0</td>\n",
       "      <td>0.0</td>\n",
       "      <td>0.0</td>\n",
       "      <td>2.0</td>\n",
       "      <td>0.0</td>\n",
       "      <td>1.0</td>\n",
       "      <td>1.0</td>\n",
       "    </tr>\n",
       "    <tr>\n",
       "      <th>2</th>\n",
       "      <td>0.0</td>\n",
       "      <td>0.0</td>\n",
       "      <td>5.0</td>\n",
       "      <td>1.0</td>\n",
       "      <td>0.0</td>\n",
       "      <td>0.0</td>\n",
       "      <td>0.0</td>\n",
       "      <td>115.0</td>\n",
       "      <td>1.0</td>\n",
       "      <td>0.0</td>\n",
       "      <td>0.0</td>\n",
       "      <td>0.0</td>\n",
       "      <td>2.0</td>\n",
       "      <td>0.0</td>\n",
       "      <td>0.0</td>\n",
       "      <td>2.0</td>\n",
       "      <td>0.0</td>\n",
       "      <td>0.0</td>\n",
       "      <td>1.0</td>\n",
       "    </tr>\n",
       "    <tr>\n",
       "      <th>3</th>\n",
       "      <td>0.0</td>\n",
       "      <td>9.0</td>\n",
       "      <td>5.0</td>\n",
       "      <td>1.0</td>\n",
       "      <td>0.0</td>\n",
       "      <td>0.0</td>\n",
       "      <td>1.0</td>\n",
       "      <td>115.0</td>\n",
       "      <td>1.0</td>\n",
       "      <td>0.0</td>\n",
       "      <td>0.0</td>\n",
       "      <td>0.0</td>\n",
       "      <td>2.0</td>\n",
       "      <td>0.0</td>\n",
       "      <td>0.0</td>\n",
       "      <td>2.0</td>\n",
       "      <td>0.0</td>\n",
       "      <td>1.0</td>\n",
       "      <td>1.0</td>\n",
       "    </tr>\n",
       "    <tr>\n",
       "      <th>4</th>\n",
       "      <td>1.0</td>\n",
       "      <td>85.0</td>\n",
       "      <td>5.0</td>\n",
       "      <td>1.0</td>\n",
       "      <td>0.0</td>\n",
       "      <td>0.0</td>\n",
       "      <td>0.0</td>\n",
       "      <td>115.0</td>\n",
       "      <td>3.0</td>\n",
       "      <td>0.0</td>\n",
       "      <td>0.0</td>\n",
       "      <td>0.0</td>\n",
       "      <td>0.0</td>\n",
       "      <td>0.0</td>\n",
       "      <td>0.0</td>\n",
       "      <td>2.0</td>\n",
       "      <td>0.0</td>\n",
       "      <td>1.0</td>\n",
       "      <td>2.0</td>\n",
       "    </tr>\n",
       "  </tbody>\n",
       "</table>\n",
       "</div>"
      ],
      "text/plain": [
       "   is_canceled  lead_time  arrival_date_month  adults  children  babies  meal  \\\n",
       "0          0.0        7.0                 5.0     0.0       0.0     0.0   0.0   \n",
       "1          0.0       14.0                 5.0     1.0       0.0     0.0   0.0   \n",
       "2          0.0        0.0                 5.0     1.0       0.0     0.0   0.0   \n",
       "3          0.0        9.0                 5.0     1.0       0.0     0.0   1.0   \n",
       "4          1.0       85.0                 5.0     1.0       0.0     0.0   0.0   \n",
       "\n",
       "   country  distribution_channel  is_repeated_guest  previous_cancellations  \\\n",
       "0     49.0                   1.0                0.0                     0.0   \n",
       "1     49.0                   3.0                0.0                     0.0   \n",
       "2    115.0                   1.0                0.0                     0.0   \n",
       "3    115.0                   1.0                0.0                     0.0   \n",
       "4    115.0                   3.0                0.0                     0.0   \n",
       "\n",
       "   previous_bookings_not_canceled  reserved_room_type  booking_changes  \\\n",
       "0                             0.0                 0.0              0.0   \n",
       "1                             0.0                 0.0              0.0   \n",
       "2                             0.0                 2.0              0.0   \n",
       "3                             0.0                 2.0              0.0   \n",
       "4                             0.0                 0.0              0.0   \n",
       "\n",
       "   days_in_waiting_list  customer_type  required_car_parking_spaces  \\\n",
       "0                   0.0            2.0                          0.0   \n",
       "1                   0.0            2.0                          0.0   \n",
       "2                   0.0            2.0                          0.0   \n",
       "3                   0.0            2.0                          0.0   \n",
       "4                   0.0            2.0                          0.0   \n",
       "\n",
       "   total_of_special_requests  total_nights  \n",
       "0                        0.0           0.0  \n",
       "1                        1.0           1.0  \n",
       "2                        0.0           1.0  \n",
       "3                        1.0           1.0  \n",
       "4                        1.0           2.0  "
      ]
     },
     "metadata": {},
     "output_type": "display_data"
    },
    {
     "name": "stdout",
     "output_type": "stream",
     "text": [
      "до кодирования тестовых данных\n"
     ]
    },
    {
     "data": {
      "text/html": [
       "<div>\n",
       "<style scoped>\n",
       "    .dataframe tbody tr th:only-of-type {\n",
       "        vertical-align: middle;\n",
       "    }\n",
       "\n",
       "    .dataframe tbody tr th {\n",
       "        vertical-align: top;\n",
       "    }\n",
       "\n",
       "    .dataframe thead th {\n",
       "        text-align: right;\n",
       "    }\n",
       "</style>\n",
       "<table border=\"1\" class=\"dataframe\">\n",
       "  <thead>\n",
       "    <tr style=\"text-align: right;\">\n",
       "      <th></th>\n",
       "      <th>is_canceled</th>\n",
       "      <th>lead_time</th>\n",
       "      <th>arrival_date_month</th>\n",
       "      <th>adults</th>\n",
       "      <th>children</th>\n",
       "      <th>babies</th>\n",
       "      <th>meal</th>\n",
       "      <th>country</th>\n",
       "      <th>distribution_channel</th>\n",
       "      <th>is_repeated_guest</th>\n",
       "      <th>previous_cancellations</th>\n",
       "      <th>previous_bookings_not_canceled</th>\n",
       "      <th>reserved_room_type</th>\n",
       "      <th>booking_changes</th>\n",
       "      <th>days_in_waiting_list</th>\n",
       "      <th>customer_type</th>\n",
       "      <th>required_car_parking_spaces</th>\n",
       "      <th>total_of_special_requests</th>\n",
       "      <th>total_nights</th>\n",
       "    </tr>\n",
       "  </thead>\n",
       "  <tbody>\n",
       "    <tr>\n",
       "      <th>0</th>\n",
       "      <td>1</td>\n",
       "      <td>74</td>\n",
       "      <td>January</td>\n",
       "      <td>2</td>\n",
       "      <td>0</td>\n",
       "      <td>0</td>\n",
       "      <td>BB</td>\n",
       "      <td>PRT</td>\n",
       "      <td>TA/TO</td>\n",
       "      <td>0</td>\n",
       "      <td>0</td>\n",
       "      <td>0</td>\n",
       "      <td>A</td>\n",
       "      <td>0</td>\n",
       "      <td>0</td>\n",
       "      <td>Transient</td>\n",
       "      <td>0</td>\n",
       "      <td>0</td>\n",
       "      <td>1</td>\n",
       "    </tr>\n",
       "    <tr>\n",
       "      <th>1</th>\n",
       "      <td>1</td>\n",
       "      <td>62</td>\n",
       "      <td>January</td>\n",
       "      <td>2</td>\n",
       "      <td>0</td>\n",
       "      <td>0</td>\n",
       "      <td>BB</td>\n",
       "      <td>AUT</td>\n",
       "      <td>TA/TO</td>\n",
       "      <td>0</td>\n",
       "      <td>0</td>\n",
       "      <td>0</td>\n",
       "      <td>A</td>\n",
       "      <td>0</td>\n",
       "      <td>0</td>\n",
       "      <td>Transient</td>\n",
       "      <td>0</td>\n",
       "      <td>1</td>\n",
       "      <td>4</td>\n",
       "    </tr>\n",
       "    <tr>\n",
       "      <th>2</th>\n",
       "      <td>1</td>\n",
       "      <td>71</td>\n",
       "      <td>January</td>\n",
       "      <td>1</td>\n",
       "      <td>0</td>\n",
       "      <td>0</td>\n",
       "      <td>BB</td>\n",
       "      <td>PRT</td>\n",
       "      <td>TA/TO</td>\n",
       "      <td>0</td>\n",
       "      <td>0</td>\n",
       "      <td>0</td>\n",
       "      <td>A</td>\n",
       "      <td>0</td>\n",
       "      <td>0</td>\n",
       "      <td>Transient</td>\n",
       "      <td>0</td>\n",
       "      <td>1</td>\n",
       "      <td>4</td>\n",
       "    </tr>\n",
       "    <tr>\n",
       "      <th>3</th>\n",
       "      <td>1</td>\n",
       "      <td>172</td>\n",
       "      <td>January</td>\n",
       "      <td>2</td>\n",
       "      <td>0</td>\n",
       "      <td>0</td>\n",
       "      <td>BB</td>\n",
       "      <td>BEL</td>\n",
       "      <td>TA/TO</td>\n",
       "      <td>0</td>\n",
       "      <td>0</td>\n",
       "      <td>0</td>\n",
       "      <td>A</td>\n",
       "      <td>0</td>\n",
       "      <td>0</td>\n",
       "      <td>Transient</td>\n",
       "      <td>0</td>\n",
       "      <td>0</td>\n",
       "      <td>7</td>\n",
       "    </tr>\n",
       "    <tr>\n",
       "      <th>4</th>\n",
       "      <td>1</td>\n",
       "      <td>52</td>\n",
       "      <td>January</td>\n",
       "      <td>1</td>\n",
       "      <td>0</td>\n",
       "      <td>0</td>\n",
       "      <td>BB</td>\n",
       "      <td>DEU</td>\n",
       "      <td>TA/TO</td>\n",
       "      <td>0</td>\n",
       "      <td>0</td>\n",
       "      <td>0</td>\n",
       "      <td>A</td>\n",
       "      <td>0</td>\n",
       "      <td>0</td>\n",
       "      <td>Transient</td>\n",
       "      <td>0</td>\n",
       "      <td>0</td>\n",
       "      <td>7</td>\n",
       "    </tr>\n",
       "  </tbody>\n",
       "</table>\n",
       "</div>"
      ],
      "text/plain": [
       "   is_canceled  lead_time arrival_date_month  adults  children  babies meal  \\\n",
       "0            1         74            January       2         0       0   BB   \n",
       "1            1         62            January       2         0       0   BB   \n",
       "2            1         71            January       1         0       0   BB   \n",
       "3            1        172            January       2         0       0   BB   \n",
       "4            1         52            January       1         0       0   BB   \n",
       "\n",
       "  country distribution_channel  is_repeated_guest  previous_cancellations  \\\n",
       "0     PRT                TA/TO                  0                       0   \n",
       "1     AUT                TA/TO                  0                       0   \n",
       "2     PRT                TA/TO                  0                       0   \n",
       "3     BEL                TA/TO                  0                       0   \n",
       "4     DEU                TA/TO                  0                       0   \n",
       "\n",
       "   previous_bookings_not_canceled reserved_room_type  booking_changes  \\\n",
       "0                               0                  A                0   \n",
       "1                               0                  A                0   \n",
       "2                               0                  A                0   \n",
       "3                               0                  A                0   \n",
       "4                               0                  A                0   \n",
       "\n",
       "   days_in_waiting_list customer_type  required_car_parking_spaces  \\\n",
       "0                     0     Transient                            0   \n",
       "1                     0     Transient                            0   \n",
       "2                     0     Transient                            0   \n",
       "3                     0     Transient                            0   \n",
       "4                     0     Transient                            0   \n",
       "\n",
       "   total_of_special_requests  total_nights  \n",
       "0                          0             1  \n",
       "1                          1             4  \n",
       "2                          1             4  \n",
       "3                          0             7  \n",
       "4                          0             7  "
      ]
     },
     "metadata": {},
     "output_type": "display_data"
    },
    {
     "name": "stdout",
     "output_type": "stream",
     "text": [
      "после\n"
     ]
    },
    {
     "data": {
      "text/html": [
       "<div>\n",
       "<style scoped>\n",
       "    .dataframe tbody tr th:only-of-type {\n",
       "        vertical-align: middle;\n",
       "    }\n",
       "\n",
       "    .dataframe tbody tr th {\n",
       "        vertical-align: top;\n",
       "    }\n",
       "\n",
       "    .dataframe thead th {\n",
       "        text-align: right;\n",
       "    }\n",
       "</style>\n",
       "<table border=\"1\" class=\"dataframe\">\n",
       "  <thead>\n",
       "    <tr style=\"text-align: right;\">\n",
       "      <th></th>\n",
       "      <th>is_canceled</th>\n",
       "      <th>lead_time</th>\n",
       "      <th>arrival_date_month</th>\n",
       "      <th>adults</th>\n",
       "      <th>children</th>\n",
       "      <th>babies</th>\n",
       "      <th>meal</th>\n",
       "      <th>country</th>\n",
       "      <th>distribution_channel</th>\n",
       "      <th>is_repeated_guest</th>\n",
       "      <th>previous_cancellations</th>\n",
       "      <th>previous_bookings_not_canceled</th>\n",
       "      <th>reserved_room_type</th>\n",
       "      <th>booking_changes</th>\n",
       "      <th>days_in_waiting_list</th>\n",
       "      <th>customer_type</th>\n",
       "      <th>required_car_parking_spaces</th>\n",
       "      <th>total_of_special_requests</th>\n",
       "      <th>total_nights</th>\n",
       "    </tr>\n",
       "  </thead>\n",
       "  <tbody>\n",
       "    <tr>\n",
       "      <th>0</th>\n",
       "      <td>1.0</td>\n",
       "      <td>74.0</td>\n",
       "      <td>4.0</td>\n",
       "      <td>1.0</td>\n",
       "      <td>0.0</td>\n",
       "      <td>0.0</td>\n",
       "      <td>0.0</td>\n",
       "      <td>115.0</td>\n",
       "      <td>3.0</td>\n",
       "      <td>0.0</td>\n",
       "      <td>0.0</td>\n",
       "      <td>0.0</td>\n",
       "      <td>0.0</td>\n",
       "      <td>0.0</td>\n",
       "      <td>0.0</td>\n",
       "      <td>2.0</td>\n",
       "      <td>0.0</td>\n",
       "      <td>0.0</td>\n",
       "      <td>0.0</td>\n",
       "    </tr>\n",
       "    <tr>\n",
       "      <th>1</th>\n",
       "      <td>1.0</td>\n",
       "      <td>62.0</td>\n",
       "      <td>4.0</td>\n",
       "      <td>1.0</td>\n",
       "      <td>0.0</td>\n",
       "      <td>0.0</td>\n",
       "      <td>0.0</td>\n",
       "      <td>9.0</td>\n",
       "      <td>3.0</td>\n",
       "      <td>0.0</td>\n",
       "      <td>0.0</td>\n",
       "      <td>0.0</td>\n",
       "      <td>0.0</td>\n",
       "      <td>0.0</td>\n",
       "      <td>0.0</td>\n",
       "      <td>2.0</td>\n",
       "      <td>0.0</td>\n",
       "      <td>1.0</td>\n",
       "      <td>3.0</td>\n",
       "    </tr>\n",
       "    <tr>\n",
       "      <th>2</th>\n",
       "      <td>1.0</td>\n",
       "      <td>71.0</td>\n",
       "      <td>4.0</td>\n",
       "      <td>0.0</td>\n",
       "      <td>0.0</td>\n",
       "      <td>0.0</td>\n",
       "      <td>0.0</td>\n",
       "      <td>115.0</td>\n",
       "      <td>3.0</td>\n",
       "      <td>0.0</td>\n",
       "      <td>0.0</td>\n",
       "      <td>0.0</td>\n",
       "      <td>0.0</td>\n",
       "      <td>0.0</td>\n",
       "      <td>0.0</td>\n",
       "      <td>2.0</td>\n",
       "      <td>0.0</td>\n",
       "      <td>1.0</td>\n",
       "      <td>3.0</td>\n",
       "    </tr>\n",
       "    <tr>\n",
       "      <th>3</th>\n",
       "      <td>1.0</td>\n",
       "      <td>172.0</td>\n",
       "      <td>4.0</td>\n",
       "      <td>1.0</td>\n",
       "      <td>0.0</td>\n",
       "      <td>0.0</td>\n",
       "      <td>0.0</td>\n",
       "      <td>12.0</td>\n",
       "      <td>3.0</td>\n",
       "      <td>0.0</td>\n",
       "      <td>0.0</td>\n",
       "      <td>0.0</td>\n",
       "      <td>0.0</td>\n",
       "      <td>0.0</td>\n",
       "      <td>0.0</td>\n",
       "      <td>2.0</td>\n",
       "      <td>0.0</td>\n",
       "      <td>0.0</td>\n",
       "      <td>6.0</td>\n",
       "    </tr>\n",
       "    <tr>\n",
       "      <th>4</th>\n",
       "      <td>1.0</td>\n",
       "      <td>52.0</td>\n",
       "      <td>4.0</td>\n",
       "      <td>0.0</td>\n",
       "      <td>0.0</td>\n",
       "      <td>0.0</td>\n",
       "      <td>0.0</td>\n",
       "      <td>36.0</td>\n",
       "      <td>3.0</td>\n",
       "      <td>0.0</td>\n",
       "      <td>0.0</td>\n",
       "      <td>0.0</td>\n",
       "      <td>0.0</td>\n",
       "      <td>0.0</td>\n",
       "      <td>0.0</td>\n",
       "      <td>2.0</td>\n",
       "      <td>0.0</td>\n",
       "      <td>0.0</td>\n",
       "      <td>6.0</td>\n",
       "    </tr>\n",
       "  </tbody>\n",
       "</table>\n",
       "</div>"
      ],
      "text/plain": [
       "   is_canceled  lead_time  arrival_date_month  adults  children  babies  meal  \\\n",
       "0          1.0       74.0                 4.0     1.0       0.0     0.0   0.0   \n",
       "1          1.0       62.0                 4.0     1.0       0.0     0.0   0.0   \n",
       "2          1.0       71.0                 4.0     0.0       0.0     0.0   0.0   \n",
       "3          1.0      172.0                 4.0     1.0       0.0     0.0   0.0   \n",
       "4          1.0       52.0                 4.0     0.0       0.0     0.0   0.0   \n",
       "\n",
       "   country  distribution_channel  is_repeated_guest  previous_cancellations  \\\n",
       "0    115.0                   3.0                0.0                     0.0   \n",
       "1      9.0                   3.0                0.0                     0.0   \n",
       "2    115.0                   3.0                0.0                     0.0   \n",
       "3     12.0                   3.0                0.0                     0.0   \n",
       "4     36.0                   3.0                0.0                     0.0   \n",
       "\n",
       "   previous_bookings_not_canceled  reserved_room_type  booking_changes  \\\n",
       "0                             0.0                 0.0              0.0   \n",
       "1                             0.0                 0.0              0.0   \n",
       "2                             0.0                 0.0              0.0   \n",
       "3                             0.0                 0.0              0.0   \n",
       "4                             0.0                 0.0              0.0   \n",
       "\n",
       "   days_in_waiting_list  customer_type  required_car_parking_spaces  \\\n",
       "0                   0.0            2.0                          0.0   \n",
       "1                   0.0            2.0                          0.0   \n",
       "2                   0.0            2.0                          0.0   \n",
       "3                   0.0            2.0                          0.0   \n",
       "4                   0.0            2.0                          0.0   \n",
       "\n",
       "   total_of_special_requests  total_nights  \n",
       "0                        0.0           0.0  \n",
       "1                        1.0           3.0  \n",
       "2                        1.0           3.0  \n",
       "3                        0.0           6.0  \n",
       "4                        0.0           6.0  "
      ]
     },
     "metadata": {},
     "output_type": "display_data"
    }
   ],
   "source": [
    "# hotel_train_ohe = pd.get_dummies(hotel_train, drop_first=True)\n",
    "# hotel_test_ohe = pd.get_dummies(hotel_test, drop_first=True)\n",
    "# hotel_train = hotel_train.drop(['id'], axis=1)\n",
    "# hotel_test = hotel_test.drop(['id'], axis=1)\n",
    "# display(hotel_test.head())\n",
    "\n",
    "encoder = OrdinalEncoder(handle_unknown=\"use_encoded_value\", unknown_value=-1)\n",
    "print('до кодирования тренировочных данных')\n",
    "display(hotel_train_0.head())\n",
    "hotel_train_ordinal = pd.DataFrame(encoder.fit_transform(hotel_train_0), \n",
    "                                       columns=hotel_train_0.columns)\n",
    "print('после')\n",
    "display(hotel_train_ordinal.head())\n",
    "# hotel_test_ordinal = encoder.fit_transform(hotel_test_0)\n",
    "print('до кодирования тестовых данных')\n",
    "display(hotel_test_0.head())\n",
    "hotel_test_ordinal = pd.DataFrame(encoder.transform(hotel_test_0), columns=hotel_test_0.columns)\n",
    "print('после')\n",
    "display(hotel_test_ordinal.head())\n"
   ]
  },
  {
   "cell_type": "markdown",
   "metadata": {},
   "source": [
    "Разделим обучающие и тестовые данные на признаки и ответы"
   ]
  },
  {
   "cell_type": "code",
   "execution_count": 59,
   "metadata": {},
   "outputs": [],
   "source": [
    "features_train = hotel_train_ordinal.drop(['is_canceled'], axis=1)\n",
    "target_train = hotel_train_ordinal['is_canceled']\n",
    "# display(hotel_train_ordinal)\n",
    "features_test = hotel_test_ordinal.drop(['is_canceled'], axis=1)\n",
    "target_test = hotel_test_ordinal['is_canceled']"
   ]
  },
  {
   "cell_type": "markdown",
   "metadata": {},
   "source": [
    "Проведём масштабирование признаков"
   ]
  },
  {
   "cell_type": "code",
   "execution_count": 33,
   "metadata": {},
   "outputs": [],
   "source": [
    "column_delete_numeric = ['stays_in_weekend_nights', 'stays_in_week_nights']\n",
    "for column in column_delete_numeric:\n",
    "    columns_numeric.remove(column)\n",
    "numeric = columns_numeric"
   ]
  },
  {
   "cell_type": "code",
   "execution_count": 34,
   "metadata": {},
   "outputs": [],
   "source": [
    "scaler = StandardScaler()\n",
    "numeric = columns_numeric\n",
    "scaler.fit(features_train[numeric])\n",
    "\n",
    "features_train[numeric] = scaler.transform(features_train[numeric])\n",
    "features_test[numeric] = scaler.transform(features_test[numeric])"
   ]
  },
  {
   "cell_type": "markdown",
   "metadata": {},
   "source": [
    "#### Выбор лучшей модели на обучающей выборке с помощью кросс-валидации"
   ]
  },
  {
   "cell_type": "markdown",
   "metadata": {},
   "source": [
    "*Обучим данные разными моделями и выберем лучшую из них на обучающей выборке*"
   ]
  },
  {
   "cell_type": "markdown",
   "metadata": {},
   "source": [
    "Дерево решений"
   ]
  },
  {
   "cell_type": "code",
   "execution_count": 39,
   "metadata": {},
   "outputs": [
    {
     "name": "stdout",
     "output_type": "stream",
     "text": [
      "max_b_accuracy_tree - 0.6774396835869085\n",
      "best_depth_tree - 7\n",
      "best_min_samples_split - 4\n",
      "best_min_samples_leaf - 1\n"
     ]
    }
   ],
   "source": [
    "max_depth = 10\n",
    "\n",
    "max_b_accuracy_tree = 0\n",
    "best_depth_tree = 0\n",
    "best_min_samples_split = 0\n",
    "best_min_samples_leaf = 0\n",
    "best_model_tree = None\n",
    "for depth in range(1, max_depth+1):\n",
    "    for split in range(1, 6):\n",
    "        for leaf in range(1, 6):\n",
    "            model = DecisionTreeClassifier(\n",
    "                max_depth=depth, random_state=STATE, \n",
    "                class_weight='balanced', min_samples_split = split, min_samples_leaf = leaf)\n",
    "            scores = cross_val_score(model, features_train, target_train, scoring='balanced_accuracy', cv=5)\n",
    "            b_accuracy_tree = scores.mean()\n",
    "            if b_accuracy_tree > max_b_accuracy_tree:\n",
    "                max_b_accuracy_tree = b_accuracy_tree\n",
    "                best_depth_tree = depth\n",
    "                best_model_tree = model\n",
    "                best_min_samples_split = split\n",
    "                best_min_samples_leaf = leaf\n",
    "        \n",
    "print(f'max_b_accuracy_tree - {max_b_accuracy_tree}')\n",
    "print(f'best_depth_tree - {best_depth_tree}')\n",
    "print(f'best_min_samples_split - {best_min_samples_split}')\n",
    "print(f'best_min_samples_leaf - {best_min_samples_leaf}')"
   ]
  },
  {
   "cell_type": "markdown",
   "metadata": {},
   "source": [
    "Случайный лес"
   ]
  },
  {
   "cell_type": "code",
   "execution_count": 44,
   "metadata": {},
   "outputs": [
    {
     "name": "stdout",
     "output_type": "stream",
     "text": [
      "max_b_accuracy_forest - 0.6756477859151311\n",
      "best_depth_forest - 5\n",
      "best_est - 21\n",
      "best_min_samples_split - 2\n",
      "best_min_samples_leaf - 2\n"
     ]
    }
   ],
   "source": [
    "max_b_accuracy_forest = 0\n",
    "best_depth_forest = 0\n",
    "best_est = 0\n",
    "best_min_samples_split_forest = 0\n",
    "best_min_samples_leaf_forest = 0\n",
    "best_model_forest = None\n",
    "for est in range(1, 151, 10):\n",
    "    for depth in range(1, 10):\n",
    "        for split in range(1, 5):\n",
    "            for leaf in range(1, 5):\n",
    "                model = RandomForestClassifier(max_depth=depth, random_state=STATE, \n",
    "                                               n_estimators=est, class_weight='balanced',\n",
    "                                              min_samples_split = split, min_samples_leaf = leaf)\n",
    "                scores = cross_val_score(model, features_train, target_train, scoring='balanced_accuracy', cv=5)\n",
    "                b_accuracy_forest = scores.mean()\n",
    "\n",
    "                if b_accuracy_forest > max_b_accuracy_forest:\n",
    "                    max_b_accuracy_forest = b_accuracy_forest\n",
    "                    best_est=est\n",
    "                    best_model_forest = model\n",
    "                    best_depth_forest = depth\n",
    "                    best_min_samples_split_forest = split\n",
    "                    best_min_samples_leaf_forest = leaf\n",
    "        \n",
    "print(f'max_b_accuracy_forest - {max_b_accuracy_forest}')\n",
    "print(f'best_depth_forest - {best_depth_forest}')\n",
    "print(f'best_est - {best_est}')\n",
    "print(f'best_min_samples_split - {best_min_samples_split_forest}')\n",
    "print(f'best_min_samples_leaf - {best_min_samples_leaf_forest}')"
   ]
  },
  {
   "cell_type": "markdown",
   "metadata": {},
   "source": [
    "Логистическая регрессия"
   ]
  },
  {
   "cell_type": "code",
   "execution_count": 43,
   "metadata": {},
   "outputs": [
    {
     "name": "stdout",
     "output_type": "stream",
     "text": [
      "max_b_accuracy_log - 0.6526368503656497\n",
      "best_iter - 300\n"
     ]
    }
   ],
   "source": [
    "best_model_log = None\n",
    "best_iter = 0\n",
    "max_b_accuracy_log = 0\n",
    "\n",
    "for iterat in range (100, 1001, 100):\n",
    "    model = LogisticRegression(random_state=STATE, max_iter=iterat, class_weight='balanced')\n",
    "# model.fit(features_train, target_train)\n",
    "# predicted_valid = model.predict(features_valid)\n",
    "    scores = cross_val_score(model, features_train, target_train, cv=5, scoring='balanced_accuracy')\n",
    "    b_accuracy_log = scores.mean()\n",
    "    if b_accuracy_log > max_b_accuracy_log:\n",
    "        best_model_log = model\n",
    "        max_b_accuracy_log = b_accuracy_log\n",
    "        best_iter = iterat\n",
    "# best_cross_score_log = f1_score(target_valid, predicted_valid)\n",
    "print(f'max_b_accuracy_log - {max_b_accuracy_log}')\n",
    "print(f'best_iter - {best_iter}')"
   ]
  },
  {
   "cell_type": "code",
   "execution_count": 46,
   "metadata": {},
   "outputs": [],
   "source": [
    "best_model_tree.fit(features_train, target_train) \n",
    "best_model_forest.fit(features_train, target_train)\n",
    "best_model_log.fit(features_train, target_train)\n",
    "\n",
    "predicted_train_tree = best_model_tree.predict(features_train)\n",
    "predicted_train_forest = best_model_forest.predict(features_train)\n",
    "predicted_train_log = best_model_forest.predict(features_train)\n",
    "\n",
    "\n",
    "\n",
    "best_f1_tree = cross_val_score(best_model_tree, features_train, target_train, cv=5, scoring='f1').mean()\n",
    "best_f1_forest = cross_val_score(best_model_forest, features_train, target_train, cv=5, scoring='f1').mean()\n",
    "best_f1_log = cross_val_score(model, features_train, target_train, cv=5, scoring='f1').mean()"
   ]
  },
  {
   "cell_type": "markdown",
   "metadata": {},
   "source": [
    "Выведем сводную таблицу с результатами качества моделей"
   ]
  },
  {
   "cell_type": "code",
   "execution_count": 47,
   "metadata": {},
   "outputs": [
    {
     "data": {
      "text/html": [
       "<div>\n",
       "<style scoped>\n",
       "    .dataframe tbody tr th:only-of-type {\n",
       "        vertical-align: middle;\n",
       "    }\n",
       "\n",
       "    .dataframe tbody tr th {\n",
       "        vertical-align: top;\n",
       "    }\n",
       "\n",
       "    .dataframe thead th {\n",
       "        text-align: right;\n",
       "    }\n",
       "</style>\n",
       "<table border=\"1\" class=\"dataframe\">\n",
       "  <thead>\n",
       "    <tr style=\"text-align: right;\">\n",
       "      <th></th>\n",
       "      <th>tree</th>\n",
       "      <th>forest</th>\n",
       "      <th>log</th>\n",
       "    </tr>\n",
       "  </thead>\n",
       "  <tbody>\n",
       "    <tr>\n",
       "      <th>balanced_accuracy</th>\n",
       "      <td>0.677440</td>\n",
       "      <td>0.675648</td>\n",
       "      <td>0.652637</td>\n",
       "    </tr>\n",
       "    <tr>\n",
       "      <th>f1_score</th>\n",
       "      <td>0.512201</td>\n",
       "      <td>0.466650</td>\n",
       "      <td>0.500771</td>\n",
       "    </tr>\n",
       "  </tbody>\n",
       "</table>\n",
       "</div>"
      ],
      "text/plain": [
       "                       tree    forest       log\n",
       "balanced_accuracy  0.677440  0.675648  0.652637\n",
       "f1_score           0.512201  0.466650  0.500771"
      ]
     },
     "metadata": {},
     "output_type": "display_data"
    }
   ],
   "source": [
    "data_cross_score = {'tree': [max_b_accuracy_tree, best_f1_tree],\n",
    "                    'forest': [max_b_accuracy_forest, best_f1_forest], \n",
    "                    'log': [max_b_accuracy_log, best_f1_log]}\n",
    "df_cross_score = pd.DataFrame(data=data_cross_score, index=['balanced_accuracy', 'f1_score'])\n",
    "display(df_cross_score)"
   ]
  },
  {
   "cell_type": "markdown",
   "metadata": {},
   "source": [
    "Видно, что модель \"дерево решений\" показала себя лучше всего, с помощью кросс-валидации у неё самые высокие показатели f1_score - 0.512201 и balanced_accuracy - 0.67744"
   ]
  },
  {
   "cell_type": "markdown",
   "metadata": {},
   "source": [
    "Для надежности выведем ROC-кривые, чтобы удостовериться, что модель \"дерево решений\" подходит для прогнозирования оттока постояльцев из отеля"
   ]
  },
  {
   "cell_type": "markdown",
   "metadata": {},
   "source": [
    "Перед этим лучшие варианты моделей надо обучить, чтобы построить ROC-кривые"
   ]
  },
  {
   "cell_type": "code",
   "execution_count": 52,
   "metadata": {
    "scrolled": true
   },
   "outputs": [
    {
     "data": {
      "image/png": "[encoded data removed]",
      "text/plain": [
       "<Figure size 432x288 with 1 Axes>"
      ]
     },
     "metadata": {
      "needs_background": "light"
     },
     "output_type": "display_data"
    }
   ],
   "source": [
    "#Дерево решений\n",
    "probabilities_train_tree = cross_val_predict(best_model_tree, features_train, target_train, cv=5, method='predict_proba')\n",
    "probabilities_one_train_tree = probabilities_train_tree[:, 1]\n",
    "fpr_tree, tpr_tree, thresholds_tree = roc_curve(target_train, probabilities_one_train_tree)\n",
    "\n",
    "#Случайный лес\n",
    "probabilities_train_forest = cross_val_predict(best_model_forest, features_train, target_train, cv=5, method='predict_proba')\n",
    "probabilities_one_train_forest = probabilities_train_forest[:, 1]\n",
    "fpr_forest, tpr_forest, thresholds_forest = roc_curve(target_train, probabilities_one_train_forest) \n",
    "\n",
    "#Логистическая регрессия\n",
    "probabilities_train_log = cross_val_predict(best_model_log, features_train, target_train, cv=5, method='predict_proba')\n",
    "probabilities_one_train_log = probabilities_train_log[:, 1]\n",
    "fpr_log, tpr_log, thresholds_log = roc_curve(target_train, probabilities_one_train_log) \n",
    "\n",
    "plt.figure()\n",
    "\n",
    "# Графики\n",
    "plt.plot(fpr_tree, tpr_tree)\n",
    "plt.plot(fpr_forest, tpr_forest)\n",
    "plt.plot(fpr_log, tpr_log)\n",
    "\n",
    "\n",
    "# ROC-кривая случайной модели\n",
    "plt.plot([0, 1], [0, 1], linestyle='--')\n",
    "\n",
    "#Легенда графиков\n",
    "plt.legend(['Дерево решений','Случайный лес','Логистическая регрессия', 'Случайная модель'])\n",
    "\n",
    "# установка границ от до 1 по обеим осям\n",
    "plt.xlim([-0.0,1.0])\n",
    "plt.ylim([-0.0,1.0])\n",
    "\n",
    "# подпись осей \"False Positive Rate\" и \"True Positive Rate\" >\n",
    "plt.xlabel('False Positive Rate')\n",
    "plt.ylabel('True Positive Rate')\n",
    "\n",
    "# Название графика\n",
    "plt.title('ROC-кривая')\n",
    "plt.grid(True)\n",
    "\n",
    "plt.show()"
   ]
  },
  {
   "cell_type": "markdown",
   "metadata": {},
   "source": [
    "ROC-кривые показали, что все построенные модели качественные, т.к. все линии расположены выше ROC-кривой, т.е. площадь образованных под линией графика фигур значительно больше 0.5; также график подтверждает, что модель \"дерево решений\" больше подходит для прогнозирования отказа от брони с точки зрения качества."
   ]
  },
  {
   "cell_type": "markdown",
   "metadata": {},
   "source": [
    "Можем определить, сколько дохода модель \"дерево решений\""
   ]
  },
  {
   "cell_type": "markdown",
   "metadata": {},
   "source": [
    "По условию \n",
    "\n",
    "Чтобы привлечь клиентов, сеть отелей «Как в гостях» добавила на свой сайт возможность забронировать номер без предоплаты. Однако если клиент отменял бронирование, то компания терпела убытки. Сотрудники отеля могли, например, закупить продукты к приезду гостя или просто не успеть найти другого клиента.\n",
    "\n",
    "Чтобы решить эту проблему, чуть выше были разработаны разные модели, которые предсказывают отказ от брони. \n",
    "\n",
    "Нам нужно определить лучшую модель, которая предскажет отмененную бронь, то клиенту предлагается внести депозит. Размер депозита — 80% от стоимости номера за одни сутки и затрат на разовую уборку. Деньги будут списаны со счёта клиента, если он всё же отменит бронь."
   ]
  },
  {
   "cell_type": "markdown",
   "metadata": {},
   "source": [
    "Мы определили, что лучшей моделью является \"дерево решений\""
   ]
  },
  {
   "cell_type": "code",
   "execution_count": 60,
   "metadata": {},
   "outputs": [],
   "source": [
    "predicted_test_tree = best_model_tree.predict(features_test)\n",
    "predicted_test_tree = pd.Series(predicted_test_tree)\n",
    "# display(features_test.head())"
   ]
  },
  {
   "cell_type": "code",
   "execution_count": 61,
   "metadata": {},
   "outputs": [],
   "source": [
    "def display_side_by_side(dfs:list, captions:list):\n",
    "    output = \"\"\n",
    "    combined = dict(zip(captions, dfs))\n",
    "    for caption, df in combined.items():\n",
    "        output += df.style.set_table_attributes(\"style='display:inline'\").set_caption(caption)._repr_html_()\n",
    "        output += \"\\xa0\\xa0\\xa0\"\n",
    "    display(HTML(output))"
   ]
  },
  {
   "cell_type": "code",
   "execution_count": 62,
   "metadata": {
    "scrolled": true
   },
   "outputs": [
    {
     "name": "stdout",
     "output_type": "stream",
     "text": [
      "Decision Tree\n"
     ]
    },
    {
     "data": {
      "text/html": [
       "<style  type=\"text/css\" >\n",
       "</style><table id=\"T_c1753_\" style='display:inline'><caption>Абсолютные значения</caption><thead>    <tr>        <th class=\"blank level0\" ></th>        <th class=\"col_heading level0 col0\" >predict_0</th>        <th class=\"col_heading level0 col1\" >predict_1</th>    </tr></thead><tbody>\n",
       "                <tr>\n",
       "                        <th id=\"T_c1753_level0_row0\" class=\"row_heading level0 row0\" >target_0</th>\n",
       "                        <td id=\"T_c1753_row0_col0\" class=\"data row0 col0\" >11119</td>\n",
       "                        <td id=\"T_c1753_row0_col1\" class=\"data row0 col1\" >4694</td>\n",
       "            </tr>\n",
       "            <tr>\n",
       "                        <th id=\"T_c1753_level0_row1\" class=\"row_heading level0 row1\" >target_1</th>\n",
       "                        <td id=\"T_c1753_row1_col0\" class=\"data row1 col0\" >4441</td>\n",
       "                        <td id=\"T_c1753_row1_col1\" class=\"data row1 col1\" >2930</td>\n",
       "            </tr>\n",
       "    </tbody></table>|<style  type=\"text/css\" >\n",
       "</style><table id=\"T_76d1e_\" style='display:inline'><caption>Относительные значения</caption><thead>    <tr>        <th class=\"blank level0\" ></th>        <th class=\"col_heading level0 col0\" >predict_0</th>        <th class=\"col_heading level0 col1\" >predict_1</th>    </tr></thead><tbody>\n",
       "                <tr>\n",
       "                        <th id=\"T_76d1e_level0_row0\" class=\"row_heading level0 row0\" >target_0</th>\n",
       "                        <td id=\"T_76d1e_row0_col0\" class=\"data row0 col0\" >47.96%</td>\n",
       "                        <td id=\"T_76d1e_row0_col1\" class=\"data row0 col1\" >20.25%</td>\n",
       "            </tr>\n",
       "            <tr>\n",
       "                        <th id=\"T_76d1e_level0_row1\" class=\"row_heading level0 row1\" >target_1</th>\n",
       "                        <td id=\"T_76d1e_row1_col0\" class=\"data row1 col0\" >19.16%</td>\n",
       "                        <td id=\"T_76d1e_row1_col1\" class=\"data row1 col1\" >12.64%</td>\n",
       "            </tr>\n",
       "    </tbody></table>"
      ]
     },
     "metadata": {},
     "output_type": "display_data"
    }
   ],
   "source": [
    "predicts = [predicted_test_tree]\n",
    "models_name = ['Decision Tree']\n",
    "\n",
    "for i in range(len(models_name)):\n",
    "    FP = 0\n",
    "    FN = 0\n",
    "    TP = 0\n",
    "    TN = 0\n",
    "    predict_need = predicts[i]\n",
    "    for j in range(len(target_test)):\n",
    "        if predict_need[j] == target_test[j]:\n",
    "            if predict_need[j] == 1:\n",
    "                TP += 1\n",
    "            elif predict_need[j] == 0:\n",
    "                TN += 1\n",
    "        if predict_need[j] != target_test[j]:\n",
    "            if predict_need[j] == 1:\n",
    "                FP += 1\n",
    "            elif predict_need[j] == 0:\n",
    "                FN += 1\n",
    "    \n",
    "    sum_pt = FP+FN+TP+TN\n",
    "    predict_map = {'predict_0': [TN, FN], 'predict_1': [FP, TP]}\n",
    "    df_predict_map = pd.DataFrame(data=predict_map, index=['target_0', 'target_1'])\n",
    "    \n",
    "    predict_map_per = (\n",
    "        {'predict_0': ['{:.2%}'.format(TN/sum_pt), '{:.2%}'.format(FN/sum_pt)], 'predict_1': ['{:.2%}'.format(FP/sum_pt), '{:.2%}'.format(TP/sum_pt)]}\n",
    "    )\n",
    "    df_predict_map_per = pd.DataFrame(data=predict_map_per, index=['target_0', 'target_1'])\n",
    "    print(models_name[i])\n",
    "    \n",
    "    df1_styler = df_predict_map.style.set_table_attributes(\"style='display:inline'\").set_caption('Абсолютные значения')\n",
    "    df2_styler = df_predict_map_per.style.set_table_attributes(\"style='display:inline'\").set_caption('Относительные значения')\n",
    "    display_html(df1_styler._repr_html_()+'|'+df2_styler._repr_html_(), raw=True)\n"
   ]
  },
  {
   "cell_type": "markdown",
   "metadata": {},
   "source": [
    "Добавим столбцы предсказаний в таблицу hotel_for_profit и выведем, что получилось"
   ]
  },
  {
   "cell_type": "code",
   "execution_count": 63,
   "metadata": {},
   "outputs": [
    {
     "data": {
      "text/html": [
       "<div>\n",
       "<style scoped>\n",
       "    .dataframe tbody tr th:only-of-type {\n",
       "        vertical-align: middle;\n",
       "    }\n",
       "\n",
       "    .dataframe tbody tr th {\n",
       "        vertical-align: top;\n",
       "    }\n",
       "\n",
       "    .dataframe thead th {\n",
       "        text-align: right;\n",
       "    }\n",
       "</style>\n",
       "<table border=\"1\" class=\"dataframe\">\n",
       "  <thead>\n",
       "    <tr style=\"text-align: right;\">\n",
       "      <th></th>\n",
       "      <th>arrival_date_month</th>\n",
       "      <th>is_canceled</th>\n",
       "      <th>reserved_room_type</th>\n",
       "      <th>total_nights</th>\n",
       "      <th>koeff</th>\n",
       "      <th>price_per_night</th>\n",
       "      <th>service_price</th>\n",
       "      <th>profit</th>\n",
       "      <th>is_canceled_tree</th>\n",
       "    </tr>\n",
       "  </thead>\n",
       "  <tbody>\n",
       "    <tr>\n",
       "      <th>0</th>\n",
       "      <td>January</td>\n",
       "      <td>1</td>\n",
       "      <td>A</td>\n",
       "      <td>1</td>\n",
       "      <td>1.0</td>\n",
       "      <td>1000</td>\n",
       "      <td>400</td>\n",
       "      <td>-1400.0</td>\n",
       "      <td>1.0</td>\n",
       "    </tr>\n",
       "    <tr>\n",
       "      <th>1</th>\n",
       "      <td>January</td>\n",
       "      <td>1</td>\n",
       "      <td>A</td>\n",
       "      <td>4</td>\n",
       "      <td>1.0</td>\n",
       "      <td>1000</td>\n",
       "      <td>400</td>\n",
       "      <td>-1400.0</td>\n",
       "      <td>0.0</td>\n",
       "    </tr>\n",
       "    <tr>\n",
       "      <th>2</th>\n",
       "      <td>January</td>\n",
       "      <td>1</td>\n",
       "      <td>A</td>\n",
       "      <td>4</td>\n",
       "      <td>1.0</td>\n",
       "      <td>1000</td>\n",
       "      <td>400</td>\n",
       "      <td>-1400.0</td>\n",
       "      <td>1.0</td>\n",
       "    </tr>\n",
       "    <tr>\n",
       "      <th>3</th>\n",
       "      <td>January</td>\n",
       "      <td>1</td>\n",
       "      <td>A</td>\n",
       "      <td>7</td>\n",
       "      <td>1.0</td>\n",
       "      <td>1000</td>\n",
       "      <td>400</td>\n",
       "      <td>-1400.0</td>\n",
       "      <td>0.0</td>\n",
       "    </tr>\n",
       "    <tr>\n",
       "      <th>4</th>\n",
       "      <td>January</td>\n",
       "      <td>1</td>\n",
       "      <td>A</td>\n",
       "      <td>7</td>\n",
       "      <td>1.0</td>\n",
       "      <td>1000</td>\n",
       "      <td>400</td>\n",
       "      <td>-1400.0</td>\n",
       "      <td>0.0</td>\n",
       "    </tr>\n",
       "  </tbody>\n",
       "</table>\n",
       "</div>"
      ],
      "text/plain": [
       "  arrival_date_month  is_canceled reserved_room_type  total_nights  koeff  \\\n",
       "0            January            1                  A             1    1.0   \n",
       "1            January            1                  A             4    1.0   \n",
       "2            January            1                  A             4    1.0   \n",
       "3            January            1                  A             7    1.0   \n",
       "4            January            1                  A             7    1.0   \n",
       "\n",
       "   price_per_night  service_price  profit  is_canceled_tree  \n",
       "0             1000            400 -1400.0               1.0  \n",
       "1             1000            400 -1400.0               0.0  \n",
       "2             1000            400 -1400.0               1.0  \n",
       "3             1000            400 -1400.0               0.0  \n",
       "4             1000            400 -1400.0               0.0  "
      ]
     },
     "metadata": {},
     "output_type": "display_data"
    }
   ],
   "source": [
    "i_num = 0\n",
    "predicts_columns = ['is_canceled_tree']\n",
    "for column in predicts_columns:\n",
    "    hotel_for_profit[column] = predicts[i_num]\n",
    "    i_num += 1\n",
    "display(hotel_for_profit.head())"
   ]
  },
  {
   "cell_type": "markdown",
   "metadata": {},
   "source": [
    "Для этого мы создадим функцию predicted_profit, аналогичную функции profit_column, но с измененными условиями в соответствии с текстом выше"
   ]
  },
  {
   "cell_type": "code",
   "execution_count": 64,
   "metadata": {},
   "outputs": [],
   "source": [
    "def predicted_profit(row, col):    \n",
    "    if row['is_canceled'] == 0:\n",
    "        income = row['price_per_night'] * row['total_nights'] * row['koeff']\n",
    "        expenses = row['service_price'] * (1 + row['total_nights'] // 2)\n",
    "    elif row['is_canceled'] == 1:\n",
    "        if row[col] == 0:\n",
    "            income = 0\n",
    "            expenses = row['service_price'] + (row['price_per_night'] * row['koeff'])            \n",
    "        elif row[col] == 1:\n",
    "            income = 0.8 * (row['service_price'] + (row['price_per_night'] * row['koeff']))\n",
    "            expenses = row['service_price'] + (row['price_per_night'] * row['koeff'])\n",
    "    profit = income - expenses\n",
    "    return profit"
   ]
  },
  {
   "cell_type": "code",
   "execution_count": 65,
   "metadata": {},
   "outputs": [
    {
     "data": {
      "text/html": [
       "<div>\n",
       "<style scoped>\n",
       "    .dataframe tbody tr th:only-of-type {\n",
       "        vertical-align: middle;\n",
       "    }\n",
       "\n",
       "    .dataframe tbody tr th {\n",
       "        vertical-align: top;\n",
       "    }\n",
       "\n",
       "    .dataframe thead th {\n",
       "        text-align: right;\n",
       "    }\n",
       "</style>\n",
       "<table border=\"1\" class=\"dataframe\">\n",
       "  <thead>\n",
       "    <tr style=\"text-align: right;\">\n",
       "      <th></th>\n",
       "      <th>arrival_date_month</th>\n",
       "      <th>is_canceled</th>\n",
       "      <th>reserved_room_type</th>\n",
       "      <th>total_nights</th>\n",
       "      <th>koeff</th>\n",
       "      <th>price_per_night</th>\n",
       "      <th>service_price</th>\n",
       "      <th>profit</th>\n",
       "      <th>is_canceled_tree</th>\n",
       "      <th>profit_tree</th>\n",
       "    </tr>\n",
       "  </thead>\n",
       "  <tbody>\n",
       "    <tr>\n",
       "      <th>0</th>\n",
       "      <td>January</td>\n",
       "      <td>1</td>\n",
       "      <td>A</td>\n",
       "      <td>1</td>\n",
       "      <td>1.0</td>\n",
       "      <td>1000</td>\n",
       "      <td>400</td>\n",
       "      <td>-1400.0</td>\n",
       "      <td>1.0</td>\n",
       "      <td>-280.0</td>\n",
       "    </tr>\n",
       "    <tr>\n",
       "      <th>1</th>\n",
       "      <td>January</td>\n",
       "      <td>1</td>\n",
       "      <td>A</td>\n",
       "      <td>4</td>\n",
       "      <td>1.0</td>\n",
       "      <td>1000</td>\n",
       "      <td>400</td>\n",
       "      <td>-1400.0</td>\n",
       "      <td>0.0</td>\n",
       "      <td>-1400.0</td>\n",
       "    </tr>\n",
       "    <tr>\n",
       "      <th>2</th>\n",
       "      <td>January</td>\n",
       "      <td>1</td>\n",
       "      <td>A</td>\n",
       "      <td>4</td>\n",
       "      <td>1.0</td>\n",
       "      <td>1000</td>\n",
       "      <td>400</td>\n",
       "      <td>-1400.0</td>\n",
       "      <td>1.0</td>\n",
       "      <td>-280.0</td>\n",
       "    </tr>\n",
       "    <tr>\n",
       "      <th>3</th>\n",
       "      <td>January</td>\n",
       "      <td>1</td>\n",
       "      <td>A</td>\n",
       "      <td>7</td>\n",
       "      <td>1.0</td>\n",
       "      <td>1000</td>\n",
       "      <td>400</td>\n",
       "      <td>-1400.0</td>\n",
       "      <td>0.0</td>\n",
       "      <td>-1400.0</td>\n",
       "    </tr>\n",
       "    <tr>\n",
       "      <th>4</th>\n",
       "      <td>January</td>\n",
       "      <td>1</td>\n",
       "      <td>A</td>\n",
       "      <td>7</td>\n",
       "      <td>1.0</td>\n",
       "      <td>1000</td>\n",
       "      <td>400</td>\n",
       "      <td>-1400.0</td>\n",
       "      <td>0.0</td>\n",
       "      <td>-1400.0</td>\n",
       "    </tr>\n",
       "  </tbody>\n",
       "</table>\n",
       "</div>"
      ],
      "text/plain": [
       "  arrival_date_month  is_canceled reserved_room_type  total_nights  koeff  \\\n",
       "0            January            1                  A             1    1.0   \n",
       "1            January            1                  A             4    1.0   \n",
       "2            January            1                  A             4    1.0   \n",
       "3            January            1                  A             7    1.0   \n",
       "4            January            1                  A             7    1.0   \n",
       "\n",
       "   price_per_night  service_price  profit  is_canceled_tree  profit_tree  \n",
       "0             1000            400 -1400.0               1.0       -280.0  \n",
       "1             1000            400 -1400.0               0.0      -1400.0  \n",
       "2             1000            400 -1400.0               1.0       -280.0  \n",
       "3             1000            400 -1400.0               0.0      -1400.0  \n",
       "4             1000            400 -1400.0               0.0      -1400.0  "
      ]
     },
     "metadata": {},
     "output_type": "display_data"
    }
   ],
   "source": [
    "profit_columns = ['profit_tree']\n",
    "predicts_columns = ['is_canceled_tree']\n",
    "for i in range(len(profit_columns)):\n",
    "    col = profit_columns[i]\n",
    "    hotel_for_profit[col] = hotel_for_profit.apply(lambda x: predicted_profit(x, col=predicts_columns[i]), axis=1)\n",
    "display(hotel_for_profit.head())"
   ]
  },
  {
   "cell_type": "code",
   "execution_count": 66,
   "metadata": {},
   "outputs": [
    {
     "name": "stdout",
     "output_type": "stream",
     "text": [
      "Прибыль после обучения DT: 32889238.0\n"
     ]
    }
   ],
   "source": [
    "print('Прибыль после обучения DT:', hotel_for_profit['profit_tree'].sum())"
   ]
  },
  {
   "cell_type": "code",
   "execution_count": 67,
   "metadata": {},
   "outputs": [
    {
     "name": "stdout",
     "output_type": "stream",
     "text": [
      "Полученная выгода от обучения DT: 3132408.0\n"
     ]
    }
   ],
   "source": [
    "print('Полученная выгода от обучения DT:', hotel_for_profit['profit_tree'].sum() - hotel_for_profit['profit'].sum() - 400000)"
   ]
  },
  {
   "cell_type": "markdown",
   "metadata": {},
   "source": [
    "Данная разработанная система с помощью модели предсказания \"Дерево решений\" принесла дополнительную прибыль в размере - 3 132 408 руб. "
   ]
  },
  {
   "cell_type": "markdown",
   "metadata": {},
   "source": [
    "### Шаг 5. Описание портрета «ненадёжного» клиента"
   ]
  },
  {
   "cell_type": "markdown",
   "metadata": {},
   "source": [
    "Добавим столбец 'is_canceled_tree' в таблицу hotel_test_0 из данных серии predicted_test_tree и выведем, что получилось"
   ]
  },
  {
   "cell_type": "code",
   "execution_count": 71,
   "metadata": {},
   "outputs": [
    {
     "data": {
      "text/html": [
       "<div>\n",
       "<style scoped>\n",
       "    .dataframe tbody tr th:only-of-type {\n",
       "        vertical-align: middle;\n",
       "    }\n",
       "\n",
       "    .dataframe tbody tr th {\n",
       "        vertical-align: top;\n",
       "    }\n",
       "\n",
       "    .dataframe thead th {\n",
       "        text-align: right;\n",
       "    }\n",
       "</style>\n",
       "<table border=\"1\" class=\"dataframe\">\n",
       "  <thead>\n",
       "    <tr style=\"text-align: right;\">\n",
       "      <th></th>\n",
       "      <th>is_canceled</th>\n",
       "      <th>lead_time</th>\n",
       "      <th>arrival_date_month</th>\n",
       "      <th>adults</th>\n",
       "      <th>children</th>\n",
       "      <th>babies</th>\n",
       "      <th>meal</th>\n",
       "      <th>country</th>\n",
       "      <th>distribution_channel</th>\n",
       "      <th>is_repeated_guest</th>\n",
       "      <th>previous_cancellations</th>\n",
       "      <th>previous_bookings_not_canceled</th>\n",
       "      <th>reserved_room_type</th>\n",
       "      <th>booking_changes</th>\n",
       "      <th>days_in_waiting_list</th>\n",
       "      <th>customer_type</th>\n",
       "      <th>required_car_parking_spaces</th>\n",
       "      <th>total_of_special_requests</th>\n",
       "      <th>total_nights</th>\n",
       "      <th>is_canceled_tree</th>\n",
       "    </tr>\n",
       "  </thead>\n",
       "  <tbody>\n",
       "    <tr>\n",
       "      <th>0</th>\n",
       "      <td>1</td>\n",
       "      <td>74</td>\n",
       "      <td>January</td>\n",
       "      <td>2</td>\n",
       "      <td>0</td>\n",
       "      <td>0</td>\n",
       "      <td>BB</td>\n",
       "      <td>PRT</td>\n",
       "      <td>TA/TO</td>\n",
       "      <td>0</td>\n",
       "      <td>0</td>\n",
       "      <td>0</td>\n",
       "      <td>A</td>\n",
       "      <td>0</td>\n",
       "      <td>0</td>\n",
       "      <td>Transient</td>\n",
       "      <td>0</td>\n",
       "      <td>0</td>\n",
       "      <td>1</td>\n",
       "      <td>1.0</td>\n",
       "    </tr>\n",
       "    <tr>\n",
       "      <th>1</th>\n",
       "      <td>1</td>\n",
       "      <td>62</td>\n",
       "      <td>January</td>\n",
       "      <td>2</td>\n",
       "      <td>0</td>\n",
       "      <td>0</td>\n",
       "      <td>BB</td>\n",
       "      <td>AUT</td>\n",
       "      <td>TA/TO</td>\n",
       "      <td>0</td>\n",
       "      <td>0</td>\n",
       "      <td>0</td>\n",
       "      <td>A</td>\n",
       "      <td>0</td>\n",
       "      <td>0</td>\n",
       "      <td>Transient</td>\n",
       "      <td>0</td>\n",
       "      <td>1</td>\n",
       "      <td>4</td>\n",
       "      <td>0.0</td>\n",
       "    </tr>\n",
       "    <tr>\n",
       "      <th>2</th>\n",
       "      <td>1</td>\n",
       "      <td>71</td>\n",
       "      <td>January</td>\n",
       "      <td>1</td>\n",
       "      <td>0</td>\n",
       "      <td>0</td>\n",
       "      <td>BB</td>\n",
       "      <td>PRT</td>\n",
       "      <td>TA/TO</td>\n",
       "      <td>0</td>\n",
       "      <td>0</td>\n",
       "      <td>0</td>\n",
       "      <td>A</td>\n",
       "      <td>0</td>\n",
       "      <td>0</td>\n",
       "      <td>Transient</td>\n",
       "      <td>0</td>\n",
       "      <td>1</td>\n",
       "      <td>4</td>\n",
       "      <td>1.0</td>\n",
       "    </tr>\n",
       "    <tr>\n",
       "      <th>3</th>\n",
       "      <td>1</td>\n",
       "      <td>172</td>\n",
       "      <td>January</td>\n",
       "      <td>2</td>\n",
       "      <td>0</td>\n",
       "      <td>0</td>\n",
       "      <td>BB</td>\n",
       "      <td>BEL</td>\n",
       "      <td>TA/TO</td>\n",
       "      <td>0</td>\n",
       "      <td>0</td>\n",
       "      <td>0</td>\n",
       "      <td>A</td>\n",
       "      <td>0</td>\n",
       "      <td>0</td>\n",
       "      <td>Transient</td>\n",
       "      <td>0</td>\n",
       "      <td>0</td>\n",
       "      <td>7</td>\n",
       "      <td>0.0</td>\n",
       "    </tr>\n",
       "    <tr>\n",
       "      <th>4</th>\n",
       "      <td>1</td>\n",
       "      <td>52</td>\n",
       "      <td>January</td>\n",
       "      <td>1</td>\n",
       "      <td>0</td>\n",
       "      <td>0</td>\n",
       "      <td>BB</td>\n",
       "      <td>DEU</td>\n",
       "      <td>TA/TO</td>\n",
       "      <td>0</td>\n",
       "      <td>0</td>\n",
       "      <td>0</td>\n",
       "      <td>A</td>\n",
       "      <td>0</td>\n",
       "      <td>0</td>\n",
       "      <td>Transient</td>\n",
       "      <td>0</td>\n",
       "      <td>0</td>\n",
       "      <td>7</td>\n",
       "      <td>0.0</td>\n",
       "    </tr>\n",
       "  </tbody>\n",
       "</table>\n",
       "</div>"
      ],
      "text/plain": [
       "   is_canceled  lead_time arrival_date_month  adults  children  babies meal  \\\n",
       "0            1         74            January       2         0       0   BB   \n",
       "1            1         62            January       2         0       0   BB   \n",
       "2            1         71            January       1         0       0   BB   \n",
       "3            1        172            January       2         0       0   BB   \n",
       "4            1         52            January       1         0       0   BB   \n",
       "\n",
       "  country distribution_channel  is_repeated_guest  previous_cancellations  \\\n",
       "0     PRT                TA/TO                  0                       0   \n",
       "1     AUT                TA/TO                  0                       0   \n",
       "2     PRT                TA/TO                  0                       0   \n",
       "3     BEL                TA/TO                  0                       0   \n",
       "4     DEU                TA/TO                  0                       0   \n",
       "\n",
       "   previous_bookings_not_canceled reserved_room_type  booking_changes  \\\n",
       "0                               0                  A                0   \n",
       "1                               0                  A                0   \n",
       "2                               0                  A                0   \n",
       "3                               0                  A                0   \n",
       "4                               0                  A                0   \n",
       "\n",
       "   days_in_waiting_list customer_type  required_car_parking_spaces  \\\n",
       "0                     0     Transient                            0   \n",
       "1                     0     Transient                            0   \n",
       "2                     0     Transient                            0   \n",
       "3                     0     Transient                            0   \n",
       "4                     0     Transient                            0   \n",
       "\n",
       "   total_of_special_requests  total_nights  is_canceled_tree  \n",
       "0                          0             1               1.0  \n",
       "1                          1             4               0.0  \n",
       "2                          1             4               1.0  \n",
       "3                          0             7               0.0  \n",
       "4                          0             7               0.0  "
      ]
     },
     "metadata": {},
     "output_type": "display_data"
    }
   ],
   "source": [
    "hotel_test_0['is_canceled_tree'] = predicted_test_tree\n",
    "display(hotel_test_0.head())"
   ]
  },
  {
   "cell_type": "markdown",
   "metadata": {},
   "source": [
    "Теперь рассмотрим столбцы 'arrival_date_month', 'booking_changes', 'country', 'customer_type', 'meal', 'reserved_room_type', 'total_nights' по отдельности для составления портрета. Для этого сгруппируем данные по каждому столбцу, посчитаем количество уникальных значений, а также проведём сортировку по убыванию"
   ]
  },
  {
   "cell_type": "code",
   "execution_count": 81,
   "metadata": {},
   "outputs": [
    {
     "data": {
      "text/html": [
       "<style  type=\"text/css\" >\n",
       "</style><table id=\"T_bf1c2_\" style='display:inline'><caption>Реальные значения</caption><thead>    <tr>        <th class=\"blank level0\" ></th>        <th class=\"col_heading level0 col0\" >is_canceled</th>    </tr>    <tr>        <th class=\"index_name level0\" >arrival_date_month</th>        <th class=\"blank\" ></th>    </tr></thead><tbody>\n",
       "                <tr>\n",
       "                        <th id=\"T_bf1c2_level0_row0\" class=\"row_heading level0 row0\" >May</th>\n",
       "                        <td id=\"T_bf1c2_row0_col0\" class=\"data row0 col0\" >1169</td>\n",
       "            </tr>\n",
       "            <tr>\n",
       "                        <th id=\"T_bf1c2_level0_row1\" class=\"row_heading level0 row1\" >April</th>\n",
       "                        <td id=\"T_bf1c2_row1_col0\" class=\"data row1 col0\" >1132</td>\n",
       "            </tr>\n",
       "            <tr>\n",
       "                        <th id=\"T_bf1c2_level0_row2\" class=\"row_heading level0 row2\" >June</th>\n",
       "                        <td id=\"T_bf1c2_row2_col0\" class=\"data row2 col0\" >1078</td>\n",
       "            </tr>\n",
       "            <tr>\n",
       "                        <th id=\"T_bf1c2_level0_row3\" class=\"row_heading level0 row3\" >July</th>\n",
       "                        <td id=\"T_bf1c2_row3_col0\" class=\"data row3 col0\" >1007</td>\n",
       "            </tr>\n",
       "            <tr>\n",
       "                        <th id=\"T_bf1c2_level0_row4\" class=\"row_heading level0 row4\" >August</th>\n",
       "                        <td id=\"T_bf1c2_row4_col0\" class=\"data row4 col0\" >907</td>\n",
       "            </tr>\n",
       "            <tr>\n",
       "                        <th id=\"T_bf1c2_level0_row5\" class=\"row_heading level0 row5\" >March</th>\n",
       "                        <td id=\"T_bf1c2_row5_col0\" class=\"data row5 col0\" >787</td>\n",
       "            </tr>\n",
       "            <tr>\n",
       "                        <th id=\"T_bf1c2_level0_row6\" class=\"row_heading level0 row6\" >February</th>\n",
       "                        <td id=\"T_bf1c2_row6_col0\" class=\"data row6 col0\" >717</td>\n",
       "            </tr>\n",
       "            <tr>\n",
       "                        <th id=\"T_bf1c2_level0_row7\" class=\"row_heading level0 row7\" >January</th>\n",
       "                        <td id=\"T_bf1c2_row7_col0\" class=\"data row7 col0\" >574</td>\n",
       "            </tr>\n",
       "    </tbody></table>|<style  type=\"text/css\" >\n",
       "</style><table id=\"T_9d167_\" style='display:inline'><caption>Предсказанные значения</caption><thead>    <tr>        <th class=\"blank level0\" ></th>        <th class=\"col_heading level0 col0\" >is_canceled_tree</th>    </tr>    <tr>        <th class=\"index_name level0\" >arrival_date_month</th>        <th class=\"blank\" ></th>    </tr></thead><tbody>\n",
       "                <tr>\n",
       "                        <th id=\"T_9d167_level0_row0\" class=\"row_heading level0 row0\" >May</th>\n",
       "                        <td id=\"T_9d167_row0_col0\" class=\"data row0 col0\" >1062</td>\n",
       "            </tr>\n",
       "            <tr>\n",
       "                        <th id=\"T_9d167_level0_row1\" class=\"row_heading level0 row1\" >June</th>\n",
       "                        <td id=\"T_9d167_row1_col0\" class=\"data row1 col0\" >1057</td>\n",
       "            </tr>\n",
       "            <tr>\n",
       "                        <th id=\"T_9d167_level0_row2\" class=\"row_heading level0 row2\" >March</th>\n",
       "                        <td id=\"T_9d167_row2_col0\" class=\"data row2 col0\" >1009</td>\n",
       "            </tr>\n",
       "            <tr>\n",
       "                        <th id=\"T_9d167_level0_row3\" class=\"row_heading level0 row3\" >April</th>\n",
       "                        <td id=\"T_9d167_row3_col0\" class=\"data row3 col0\" >970</td>\n",
       "            </tr>\n",
       "            <tr>\n",
       "                        <th id=\"T_9d167_level0_row4\" class=\"row_heading level0 row4\" >February</th>\n",
       "                        <td id=\"T_9d167_row4_col0\" class=\"data row4 col0\" >969</td>\n",
       "            </tr>\n",
       "            <tr>\n",
       "                        <th id=\"T_9d167_level0_row5\" class=\"row_heading level0 row5\" >July</th>\n",
       "                        <td id=\"T_9d167_row5_col0\" class=\"data row5 col0\" >916</td>\n",
       "            </tr>\n",
       "            <tr>\n",
       "                        <th id=\"T_9d167_level0_row6\" class=\"row_heading level0 row6\" >January</th>\n",
       "                        <td id=\"T_9d167_row6_col0\" class=\"data row6 col0\" >819</td>\n",
       "            </tr>\n",
       "            <tr>\n",
       "                        <th id=\"T_9d167_level0_row7\" class=\"row_heading level0 row7\" >August</th>\n",
       "                        <td id=\"T_9d167_row7_col0\" class=\"data row7 col0\" >805</td>\n",
       "            </tr>\n",
       "    </tbody></table>"
      ]
     },
     "metadata": {},
     "output_type": "display_data"
    }
   ],
   "source": [
    "df_real = hotel_test_0.query('is_canceled == 1').groupby('arrival_date_month')['is_canceled'].count().sort_values(ascending=False)\n",
    "df_predict = hotel_test_0.query('is_canceled_tree == 1').groupby('arrival_date_month')['is_canceled_tree'].count().sort_values(ascending=False)\n",
    "\n",
    "df_real = pd.DataFrame(df_real)\n",
    "df_predict = pd.DataFrame(df_predict)\n",
    "\n",
    "df1_styler = df_real.style.set_table_attributes(\"style='display:inline'\").set_caption('Реальные значения')\n",
    "df2_styler = df_predict.style.set_table_attributes(\"style='display:inline'\").set_caption('Предсказанные значения')\n",
    "display_html(df1_styler._repr_html_()+'|'+df2_styler._repr_html_(), raw=True)"
   ]
  },
  {
   "cell_type": "markdown",
   "metadata": {},
   "source": [
    "По представленным данным можем сказать, что клиенты чаще всего отменяют свою бронь в мае."
   ]
  },
  {
   "cell_type": "code",
   "execution_count": 82,
   "metadata": {},
   "outputs": [
    {
     "data": {
      "text/html": [
       "<style  type=\"text/css\" >\n",
       "</style><table id=\"T_cd335_\" style='display:inline'><caption>Реальные значения</caption><thead>    <tr>        <th class=\"blank level0\" ></th>        <th class=\"col_heading level0 col0\" >is_canceled</th>    </tr>    <tr>        <th class=\"index_name level0\" >booking_changes</th>        <th class=\"blank\" ></th>    </tr></thead><tbody>\n",
       "                <tr>\n",
       "                        <th id=\"T_cd335_level0_row0\" class=\"row_heading level0 row0\" >0</th>\n",
       "                        <td id=\"T_cd335_row0_col0\" class=\"data row0 col0\" >6709</td>\n",
       "            </tr>\n",
       "            <tr>\n",
       "                        <th id=\"T_cd335_level0_row1\" class=\"row_heading level0 row1\" >1</th>\n",
       "                        <td id=\"T_cd335_row1_col0\" class=\"data row1 col0\" >317</td>\n",
       "            </tr>\n",
       "            <tr>\n",
       "                        <th id=\"T_cd335_level0_row2\" class=\"row_heading level0 row2\" >2</th>\n",
       "                        <td id=\"T_cd335_row2_col0\" class=\"data row2 col0\" >272</td>\n",
       "            </tr>\n",
       "            <tr>\n",
       "                        <th id=\"T_cd335_level0_row3\" class=\"row_heading level0 row3\" >3</th>\n",
       "                        <td id=\"T_cd335_row3_col0\" class=\"data row3 col0\" >45</td>\n",
       "            </tr>\n",
       "            <tr>\n",
       "                        <th id=\"T_cd335_level0_row4\" class=\"row_heading level0 row4\" >4</th>\n",
       "                        <td id=\"T_cd335_row4_col0\" class=\"data row4 col0\" >18</td>\n",
       "            </tr>\n",
       "            <tr>\n",
       "                        <th id=\"T_cd335_level0_row5\" class=\"row_heading level0 row5\" >6</th>\n",
       "                        <td id=\"T_cd335_row5_col0\" class=\"data row5 col0\" >6</td>\n",
       "            </tr>\n",
       "            <tr>\n",
       "                        <th id=\"T_cd335_level0_row6\" class=\"row_heading level0 row6\" >5</th>\n",
       "                        <td id=\"T_cd335_row6_col0\" class=\"data row6 col0\" >4</td>\n",
       "            </tr>\n",
       "    </tbody></table>|<style  type=\"text/css\" >\n",
       "</style><table id=\"T_72733_\" style='display:inline'><caption>Предсказанные значения</caption><thead>    <tr>        <th class=\"blank level0\" ></th>        <th class=\"col_heading level0 col0\" >is_canceled_tree</th>    </tr>    <tr>        <th class=\"index_name level0\" >booking_changes</th>        <th class=\"blank\" ></th>    </tr></thead><tbody>\n",
       "                <tr>\n",
       "                        <th id=\"T_72733_level0_row0\" class=\"row_heading level0 row0\" >0</th>\n",
       "                        <td id=\"T_72733_row0_col0\" class=\"data row0 col0\" >6634</td>\n",
       "            </tr>\n",
       "            <tr>\n",
       "                        <th id=\"T_72733_level0_row1\" class=\"row_heading level0 row1\" >1</th>\n",
       "                        <td id=\"T_72733_row1_col0\" class=\"data row1 col0\" >631</td>\n",
       "            </tr>\n",
       "            <tr>\n",
       "                        <th id=\"T_72733_level0_row2\" class=\"row_heading level0 row2\" >2</th>\n",
       "                        <td id=\"T_72733_row2_col0\" class=\"data row2 col0\" >254</td>\n",
       "            </tr>\n",
       "            <tr>\n",
       "                        <th id=\"T_72733_level0_row3\" class=\"row_heading level0 row3\" >3</th>\n",
       "                        <td id=\"T_72733_row3_col0\" class=\"data row3 col0\" >49</td>\n",
       "            </tr>\n",
       "            <tr>\n",
       "                        <th id=\"T_72733_level0_row4\" class=\"row_heading level0 row4\" >4</th>\n",
       "                        <td id=\"T_72733_row4_col0\" class=\"data row4 col0\" >31</td>\n",
       "            </tr>\n",
       "            <tr>\n",
       "                        <th id=\"T_72733_level0_row5\" class=\"row_heading level0 row5\" >5</th>\n",
       "                        <td id=\"T_72733_row5_col0\" class=\"data row5 col0\" >6</td>\n",
       "            </tr>\n",
       "            <tr>\n",
       "                        <th id=\"T_72733_level0_row6\" class=\"row_heading level0 row6\" >10</th>\n",
       "                        <td id=\"T_72733_row6_col0\" class=\"data row6 col0\" >1</td>\n",
       "            </tr>\n",
       "            <tr>\n",
       "                        <th id=\"T_72733_level0_row7\" class=\"row_heading level0 row7\" >15</th>\n",
       "                        <td id=\"T_72733_row7_col0\" class=\"data row7 col0\" >1</td>\n",
       "            </tr>\n",
       "    </tbody></table>"
      ]
     },
     "metadata": {},
     "output_type": "display_data"
    }
   ],
   "source": [
    "df_real = hotel_test_0.query('is_canceled == 1').groupby('booking_changes')['is_canceled'].count().sort_values(ascending=False)\n",
    "df_predict = hotel_test_0.query('is_canceled_tree == 1').groupby('booking_changes')['is_canceled_tree'].count().sort_values(ascending=False)\n",
    "\n",
    "df_real = pd.DataFrame(df_real)\n",
    "df_predict = pd.DataFrame(df_predict)\n",
    "\n",
    "df1_styler = df_real.style.set_table_attributes(\"style='display:inline'\").set_caption('Реальные значения')\n",
    "df2_styler = df_predict.style.set_table_attributes(\"style='display:inline'\").set_caption('Предсказанные значения')\n",
    "display_html(df1_styler._repr_html_()+'|'+df2_styler._repr_html_(), raw=True)"
   ]
  },
  {
   "cell_type": "markdown",
   "metadata": {},
   "source": [
    "Эти данные дают понять, что клиенты чаще всего отменяют свою бронь без изменений желаемого номера"
   ]
  },
  {
   "cell_type": "code",
   "execution_count": 83,
   "metadata": {},
   "outputs": [
    {
     "data": {
      "text/html": [
       "<style  type=\"text/css\" >\n",
       "</style><table id=\"T_ec59b_\" style='display:inline'><caption>Реальные значения</caption><thead>    <tr>        <th class=\"blank level0\" ></th>        <th class=\"col_heading level0 col0\" >is_canceled</th>    </tr>    <tr>        <th class=\"index_name level0\" >country</th>        <th class=\"blank\" ></th>    </tr></thead><tbody>\n",
       "                <tr>\n",
       "                        <th id=\"T_ec59b_level0_row0\" class=\"row_heading level0 row0\" >PRT</th>\n",
       "                        <td id=\"T_ec59b_row0_col0\" class=\"data row0 col0\" >1939</td>\n",
       "            </tr>\n",
       "            <tr>\n",
       "                        <th id=\"T_ec59b_level0_row1\" class=\"row_heading level0 row1\" >GBR</th>\n",
       "                        <td id=\"T_ec59b_row1_col0\" class=\"data row1 col0\" >827</td>\n",
       "            </tr>\n",
       "            <tr>\n",
       "                        <th id=\"T_ec59b_level0_row2\" class=\"row_heading level0 row2\" >FRA</th>\n",
       "                        <td id=\"T_ec59b_row2_col0\" class=\"data row2 col0\" >738</td>\n",
       "            </tr>\n",
       "            <tr>\n",
       "                        <th id=\"T_ec59b_level0_row3\" class=\"row_heading level0 row3\" >ESP</th>\n",
       "                        <td id=\"T_ec59b_row3_col0\" class=\"data row3 col0\" >518</td>\n",
       "            </tr>\n",
       "            <tr>\n",
       "                        <th id=\"T_ec59b_level0_row4\" class=\"row_heading level0 row4\" >DEU</th>\n",
       "                        <td id=\"T_ec59b_row4_col0\" class=\"data row4 col0\" >470</td>\n",
       "            </tr>\n",
       "            <tr>\n",
       "                        <th id=\"T_ec59b_level0_row5\" class=\"row_heading level0 row5\" >ITA</th>\n",
       "                        <td id=\"T_ec59b_row5_col0\" class=\"data row5 col0\" >381</td>\n",
       "            </tr>\n",
       "            <tr>\n",
       "                        <th id=\"T_ec59b_level0_row6\" class=\"row_heading level0 row6\" >BRA</th>\n",
       "                        <td id=\"T_ec59b_row6_col0\" class=\"data row6 col0\" >297</td>\n",
       "            </tr>\n",
       "            <tr>\n",
       "                        <th id=\"T_ec59b_level0_row7\" class=\"row_heading level0 row7\" >IRL</th>\n",
       "                        <td id=\"T_ec59b_row7_col0\" class=\"data row7 col0\" >265</td>\n",
       "            </tr>\n",
       "            <tr>\n",
       "                        <th id=\"T_ec59b_level0_row8\" class=\"row_heading level0 row8\" >USA</th>\n",
       "                        <td id=\"T_ec59b_row8_col0\" class=\"data row8 col0\" >204</td>\n",
       "            </tr>\n",
       "            <tr>\n",
       "                        <th id=\"T_ec59b_level0_row9\" class=\"row_heading level0 row9\" >BEL</th>\n",
       "                        <td id=\"T_ec59b_row9_col0\" class=\"data row9 col0\" >176</td>\n",
       "            </tr>\n",
       "    </tbody></table>|<style  type=\"text/css\" >\n",
       "</style><table id=\"T_9ca95_\" style='display:inline'><caption>Предсказанные значения</caption><thead>    <tr>        <th class=\"blank level0\" ></th>        <th class=\"col_heading level0 col0\" >is_canceled_tree</th>    </tr>    <tr>        <th class=\"index_name level0\" >country</th>        <th class=\"blank\" ></th>    </tr></thead><tbody>\n",
       "                <tr>\n",
       "                        <th id=\"T_9ca95_level0_row0\" class=\"row_heading level0 row0\" >PRT</th>\n",
       "                        <td id=\"T_9ca95_row0_col0\" class=\"data row0 col0\" >3017</td>\n",
       "            </tr>\n",
       "            <tr>\n",
       "                        <th id=\"T_9ca95_level0_row1\" class=\"row_heading level0 row1\" >FRA</th>\n",
       "                        <td id=\"T_9ca95_row1_col0\" class=\"data row1 col0\" >823</td>\n",
       "            </tr>\n",
       "            <tr>\n",
       "                        <th id=\"T_9ca95_level0_row2\" class=\"row_heading level0 row2\" >GBR</th>\n",
       "                        <td id=\"T_9ca95_row2_col0\" class=\"data row2 col0\" >618</td>\n",
       "            </tr>\n",
       "            <tr>\n",
       "                        <th id=\"T_9ca95_level0_row3\" class=\"row_heading level0 row3\" >DEU</th>\n",
       "                        <td id=\"T_9ca95_row3_col0\" class=\"data row3 col0\" >523</td>\n",
       "            </tr>\n",
       "            <tr>\n",
       "                        <th id=\"T_9ca95_level0_row4\" class=\"row_heading level0 row4\" >ESP</th>\n",
       "                        <td id=\"T_9ca95_row4_col0\" class=\"data row4 col0\" >329</td>\n",
       "            </tr>\n",
       "            <tr>\n",
       "                        <th id=\"T_9ca95_level0_row5\" class=\"row_heading level0 row5\" >ITA</th>\n",
       "                        <td id=\"T_9ca95_row5_col0\" class=\"data row5 col0\" >273</td>\n",
       "            </tr>\n",
       "            <tr>\n",
       "                        <th id=\"T_9ca95_level0_row6\" class=\"row_heading level0 row6\" >BEL</th>\n",
       "                        <td id=\"T_9ca95_row6_col0\" class=\"data row6 col0\" >207</td>\n",
       "            </tr>\n",
       "            <tr>\n",
       "                        <th id=\"T_9ca95_level0_row7\" class=\"row_heading level0 row7\" >USA</th>\n",
       "                        <td id=\"T_9ca95_row7_col0\" class=\"data row7 col0\" >195</td>\n",
       "            </tr>\n",
       "            <tr>\n",
       "                        <th id=\"T_9ca95_level0_row8\" class=\"row_heading level0 row8\" >BRA</th>\n",
       "                        <td id=\"T_9ca95_row8_col0\" class=\"data row8 col0\" >173</td>\n",
       "            </tr>\n",
       "            <tr>\n",
       "                        <th id=\"T_9ca95_level0_row9\" class=\"row_heading level0 row9\" >IRL</th>\n",
       "                        <td id=\"T_9ca95_row9_col0\" class=\"data row9 col0\" >167</td>\n",
       "            </tr>\n",
       "    </tbody></table>"
      ]
     },
     "metadata": {},
     "output_type": "display_data"
    }
   ],
   "source": [
    "df_real = hotel_test_0.query('is_canceled == 1').groupby('country')['is_canceled'].count().sort_values(ascending=False)\n",
    "df_predict = hotel_test_0.query('is_canceled_tree == 1').groupby('country')['is_canceled_tree'].count().sort_values(ascending=False)\n",
    "\n",
    "df_real = pd.DataFrame(df_real).head(10)\n",
    "df_predict = pd.DataFrame(df_predict).head(10)\n",
    "\n",
    "df1_styler = df_real.style.set_table_attributes(\"style='display:inline'\").set_caption('Реальные значения')\n",
    "df2_styler = df_predict.style.set_table_attributes(\"style='display:inline'\").set_caption('Предсказанные значения')\n",
    "display_html(df1_styler._repr_html_()+'|'+df2_styler._repr_html_(), raw=True)"
   ]
  },
  {
   "cell_type": "markdown",
   "metadata": {},
   "source": [
    "Чаще всего отменяли брони граждане Пуэрто-Рико"
   ]
  },
  {
   "cell_type": "code",
   "execution_count": 84,
   "metadata": {},
   "outputs": [
    {
     "data": {
      "text/html": [
       "<style  type=\"text/css\" >\n",
       "</style><table id=\"T_48328_\" style='display:inline'><caption>Реальные значения</caption><thead>    <tr>        <th class=\"blank level0\" ></th>        <th class=\"col_heading level0 col0\" >is_canceled</th>    </tr>    <tr>        <th class=\"index_name level0\" >customer_type</th>        <th class=\"blank\" ></th>    </tr></thead><tbody>\n",
       "                <tr>\n",
       "                        <th id=\"T_48328_level0_row0\" class=\"row_heading level0 row0\" >Transient</th>\n",
       "                        <td id=\"T_48328_row0_col0\" class=\"data row0 col0\" >7072</td>\n",
       "            </tr>\n",
       "            <tr>\n",
       "                        <th id=\"T_48328_level0_row1\" class=\"row_heading level0 row1\" >Transient-Party</th>\n",
       "                        <td id=\"T_48328_row1_col0\" class=\"data row1 col0\" >255</td>\n",
       "            </tr>\n",
       "            <tr>\n",
       "                        <th id=\"T_48328_level0_row2\" class=\"row_heading level0 row2\" >Contract</th>\n",
       "                        <td id=\"T_48328_row2_col0\" class=\"data row2 col0\" >36</td>\n",
       "            </tr>\n",
       "            <tr>\n",
       "                        <th id=\"T_48328_level0_row3\" class=\"row_heading level0 row3\" >Group</th>\n",
       "                        <td id=\"T_48328_row3_col0\" class=\"data row3 col0\" >8</td>\n",
       "            </tr>\n",
       "    </tbody></table>|<style  type=\"text/css\" >\n",
       "</style><table id=\"T_2f3ad_\" style='display:inline'><caption>Предсказанные значения</caption><thead>    <tr>        <th class=\"blank level0\" ></th>        <th class=\"col_heading level0 col0\" >is_canceled_tree</th>    </tr>    <tr>        <th class=\"index_name level0\" >customer_type</th>        <th class=\"blank\" ></th>    </tr></thead><tbody>\n",
       "                <tr>\n",
       "                        <th id=\"T_2f3ad_level0_row0\" class=\"row_heading level0 row0\" >Transient</th>\n",
       "                        <td id=\"T_2f3ad_row0_col0\" class=\"data row0 col0\" >6941</td>\n",
       "            </tr>\n",
       "            <tr>\n",
       "                        <th id=\"T_2f3ad_level0_row1\" class=\"row_heading level0 row1\" >Transient-Party</th>\n",
       "                        <td id=\"T_2f3ad_row1_col0\" class=\"data row1 col0\" >552</td>\n",
       "            </tr>\n",
       "            <tr>\n",
       "                        <th id=\"T_2f3ad_level0_row2\" class=\"row_heading level0 row2\" >Group</th>\n",
       "                        <td id=\"T_2f3ad_row2_col0\" class=\"data row2 col0\" >77</td>\n",
       "            </tr>\n",
       "            <tr>\n",
       "                        <th id=\"T_2f3ad_level0_row3\" class=\"row_heading level0 row3\" >Contract</th>\n",
       "                        <td id=\"T_2f3ad_row3_col0\" class=\"data row3 col0\" >37</td>\n",
       "            </tr>\n",
       "    </tbody></table>"
      ]
     },
     "metadata": {},
     "output_type": "display_data"
    }
   ],
   "source": [
    "df_real = hotel_test_0.query('is_canceled == 1').groupby('customer_type')['is_canceled'].count().sort_values(ascending=False)\n",
    "df_predict = hotel_test_0.query('is_canceled_tree == 1').groupby('customer_type')['is_canceled_tree'].count().sort_values(ascending=False)\n",
    "\n",
    "df_real = pd.DataFrame(df_real)\n",
    "df_predict = pd.DataFrame(df_predict)\n",
    "\n",
    "df1_styler = df_real.style.set_table_attributes(\"style='display:inline'\").set_caption('Реальные значения')\n",
    "df2_styler = df_predict.style.set_table_attributes(\"style='display:inline'\").set_caption('Предсказанные значения')\n",
    "display_html(df1_styler._repr_html_()+'|'+df2_styler._repr_html_(), raw=True)"
   ]
  },
  {
   "cell_type": "markdown",
   "metadata": {},
   "source": [
    "Постояльцы без договора на бронирование номера больше всез отменяют бронь"
   ]
  },
  {
   "cell_type": "code",
   "execution_count": 85,
   "metadata": {},
   "outputs": [
    {
     "data": {
      "text/html": [
       "<style  type=\"text/css\" >\n",
       "</style><table id=\"T_2fcfc_\" style='display:inline'><caption>Реальные значения</caption><thead>    <tr>        <th class=\"blank level0\" ></th>        <th class=\"col_heading level0 col0\" >is_canceled</th>    </tr>    <tr>        <th class=\"index_name level0\" >meal</th>        <th class=\"blank\" ></th>    </tr></thead><tbody>\n",
       "                <tr>\n",
       "                        <th id=\"T_2fcfc_level0_row0\" class=\"row_heading level0 row0\" >BB</th>\n",
       "                        <td id=\"T_2fcfc_row0_col0\" class=\"data row0 col0\" >5194</td>\n",
       "            </tr>\n",
       "            <tr>\n",
       "                        <th id=\"T_2fcfc_level0_row1\" class=\"row_heading level0 row1\" >SC</th>\n",
       "                        <td id=\"T_2fcfc_row1_col0\" class=\"data row1 col0\" >1629</td>\n",
       "            </tr>\n",
       "            <tr>\n",
       "                        <th id=\"T_2fcfc_level0_row2\" class=\"row_heading level0 row2\" >HB</th>\n",
       "                        <td id=\"T_2fcfc_row2_col0\" class=\"data row2 col0\" >541</td>\n",
       "            </tr>\n",
       "            <tr>\n",
       "                        <th id=\"T_2fcfc_level0_row3\" class=\"row_heading level0 row3\" >FB</th>\n",
       "                        <td id=\"T_2fcfc_row3_col0\" class=\"data row3 col0\" >7</td>\n",
       "            </tr>\n",
       "    </tbody></table>|<style  type=\"text/css\" >\n",
       "</style><table id=\"T_3e677_\" style='display:inline'><caption>Предсказанные значения</caption><thead>    <tr>        <th class=\"blank level0\" ></th>        <th class=\"col_heading level0 col0\" >is_canceled_tree</th>    </tr>    <tr>        <th class=\"index_name level0\" >meal</th>        <th class=\"blank\" ></th>    </tr></thead><tbody>\n",
       "                <tr>\n",
       "                        <th id=\"T_3e677_level0_row0\" class=\"row_heading level0 row0\" >BB</th>\n",
       "                        <td id=\"T_3e677_row0_col0\" class=\"data row0 col0\" >5707</td>\n",
       "            </tr>\n",
       "            <tr>\n",
       "                        <th id=\"T_3e677_level0_row1\" class=\"row_heading level0 row1\" >SC</th>\n",
       "                        <td id=\"T_3e677_row1_col0\" class=\"data row1 col0\" >1419</td>\n",
       "            </tr>\n",
       "            <tr>\n",
       "                        <th id=\"T_3e677_level0_row2\" class=\"row_heading level0 row2\" >HB</th>\n",
       "                        <td id=\"T_3e677_row2_col0\" class=\"data row2 col0\" >467</td>\n",
       "            </tr>\n",
       "            <tr>\n",
       "                        <th id=\"T_3e677_level0_row3\" class=\"row_heading level0 row3\" >FB</th>\n",
       "                        <td id=\"T_3e677_row3_col0\" class=\"data row3 col0\" >14</td>\n",
       "            </tr>\n",
       "    </tbody></table>"
      ]
     },
     "metadata": {},
     "output_type": "display_data"
    }
   ],
   "source": [
    "df_real = hotel_test_0.query('is_canceled == 1').groupby('meal')['is_canceled'].count().sort_values(ascending=False)\n",
    "df_predict = hotel_test_0.query('is_canceled_tree == 1').groupby('meal')['is_canceled_tree'].count().sort_values(ascending=False)\n",
    "\n",
    "df_real = pd.DataFrame(df_real)\n",
    "df_predict = pd.DataFrame(df_predict)\n",
    "\n",
    "df1_styler = df_real.style.set_table_attributes(\"style='display:inline'\").set_caption('Реальные значения')\n",
    "df2_styler = df_predict.style.set_table_attributes(\"style='display:inline'\").set_caption('Предсказанные значения')\n",
    "display_html(df1_styler._repr_html_()+'|'+df2_styler._repr_html_(), raw=True)"
   ]
  },
  {
   "cell_type": "markdown",
   "metadata": {},
   "source": [
    "Постояльцы, которые бронировали номера с включенным завтраком в стоимость номера, отказывались чаще всех от заселения"
   ]
  },
  {
   "cell_type": "code",
   "execution_count": 90,
   "metadata": {},
   "outputs": [
    {
     "data": {
      "text/html": [
       "<style  type=\"text/css\" >\n",
       "</style><table id=\"T_206f8_\" style='display:inline'><caption>Реальные значения</caption><thead>    <tr>        <th class=\"blank level0\" ></th>        <th class=\"col_heading level0 col0\" >is_canceled</th>    </tr>    <tr>        <th class=\"index_name level0\" >reserved_room_type</th>        <th class=\"blank\" ></th>    </tr></thead><tbody>\n",
       "                <tr>\n",
       "                        <th id=\"T_206f8_level0_row0\" class=\"row_heading level0 row0\" >A</th>\n",
       "                        <td id=\"T_206f8_row0_col0\" class=\"data row0 col0\" >4813</td>\n",
       "            </tr>\n",
       "            <tr>\n",
       "                        <th id=\"T_206f8_level0_row1\" class=\"row_heading level0 row1\" >D</th>\n",
       "                        <td id=\"T_206f8_row1_col0\" class=\"data row1 col0\" >1732</td>\n",
       "            </tr>\n",
       "            <tr>\n",
       "                        <th id=\"T_206f8_level0_row2\" class=\"row_heading level0 row2\" >E</th>\n",
       "                        <td id=\"T_206f8_row2_col0\" class=\"data row2 col0\" >447</td>\n",
       "            </tr>\n",
       "            <tr>\n",
       "                        <th id=\"T_206f8_level0_row3\" class=\"row_heading level0 row3\" >F</th>\n",
       "                        <td id=\"T_206f8_row3_col0\" class=\"data row3 col0\" >152</td>\n",
       "            </tr>\n",
       "            <tr>\n",
       "                        <th id=\"T_206f8_level0_row4\" class=\"row_heading level0 row4\" >G</th>\n",
       "                        <td id=\"T_206f8_row4_col0\" class=\"data row4 col0\" >109</td>\n",
       "            </tr>\n",
       "            <tr>\n",
       "                        <th id=\"T_206f8_level0_row5\" class=\"row_heading level0 row5\" >C</th>\n",
       "                        <td id=\"T_206f8_row5_col0\" class=\"data row5 col0\" >81</td>\n",
       "            </tr>\n",
       "            <tr>\n",
       "                        <th id=\"T_206f8_level0_row6\" class=\"row_heading level0 row6\" >B</th>\n",
       "                        <td id=\"T_206f8_row6_col0\" class=\"data row6 col0\" >37</td>\n",
       "            </tr>\n",
       "    </tbody></table>|<style  type=\"text/css\" >\n",
       "</style><table id=\"T_4c716_\" style='display:inline'><caption>Предсказанные значения</caption><thead>    <tr>        <th class=\"blank level0\" ></th>        <th class=\"col_heading level0 col0\" >is_canceled_tree</th>    </tr>    <tr>        <th class=\"index_name level0\" >reserved_room_type</th>        <th class=\"blank\" ></th>    </tr></thead><tbody>\n",
       "                <tr>\n",
       "                        <th id=\"T_4c716_level0_row0\" class=\"row_heading level0 row0\" >A</th>\n",
       "                        <td id=\"T_4c716_row0_col0\" class=\"data row0 col0\" >5351</td>\n",
       "            </tr>\n",
       "            <tr>\n",
       "                        <th id=\"T_4c716_level0_row1\" class=\"row_heading level0 row1\" >D</th>\n",
       "                        <td id=\"T_4c716_row1_col0\" class=\"data row1 col0\" >1582</td>\n",
       "            </tr>\n",
       "            <tr>\n",
       "                        <th id=\"T_4c716_level0_row2\" class=\"row_heading level0 row2\" >E</th>\n",
       "                        <td id=\"T_4c716_row2_col0\" class=\"data row2 col0\" >394</td>\n",
       "            </tr>\n",
       "            <tr>\n",
       "                        <th id=\"T_4c716_level0_row3\" class=\"row_heading level0 row3\" >F</th>\n",
       "                        <td id=\"T_4c716_row3_col0\" class=\"data row3 col0\" >129</td>\n",
       "            </tr>\n",
       "            <tr>\n",
       "                        <th id=\"T_4c716_level0_row4\" class=\"row_heading level0 row4\" >C</th>\n",
       "                        <td id=\"T_4c716_row4_col0\" class=\"data row4 col0\" >66</td>\n",
       "            </tr>\n",
       "            <tr>\n",
       "                        <th id=\"T_4c716_level0_row5\" class=\"row_heading level0 row5\" >G</th>\n",
       "                        <td id=\"T_4c716_row5_col0\" class=\"data row5 col0\" >48</td>\n",
       "            </tr>\n",
       "            <tr>\n",
       "                        <th id=\"T_4c716_level0_row6\" class=\"row_heading level0 row6\" >B</th>\n",
       "                        <td id=\"T_4c716_row6_col0\" class=\"data row6 col0\" >37</td>\n",
       "            </tr>\n",
       "    </tbody></table>"
      ]
     },
     "metadata": {},
     "output_type": "display_data"
    }
   ],
   "source": [
    "df_real = hotel_test_0.query('is_canceled == 1').groupby('reserved_room_type')['is_canceled'].count().sort_values(ascending=False)\n",
    "df_predict = hotel_test_0.query('is_canceled_tree == 1').groupby('reserved_room_type')['is_canceled_tree'].count().sort_values(ascending=False)\n",
    "\n",
    "df_real = pd.DataFrame(df_real)\n",
    "df_predict = pd.DataFrame(df_predict)\n",
    "\n",
    "df1_styler = df_real.style.set_table_attributes(\"style='display:inline'\").set_caption('Реальные значения')\n",
    "df2_styler = df_predict.style.set_table_attributes(\"style='display:inline'\").set_caption('Предсказанные значения')\n",
    "display_html(df1_styler._repr_html_()+'|'+df2_styler._repr_html_(), raw=True)"
   ]
  },
  {
   "cell_type": "markdown",
   "metadata": {},
   "source": [
    "По выведенным данным, можно сказать, что постояльцы самих дорогих номеров отказывались от заселения"
   ]
  },
  {
   "cell_type": "code",
   "execution_count": 91,
   "metadata": {},
   "outputs": [
    {
     "data": {
      "text/html": [
       "<style  type=\"text/css\" >\n",
       "</style><table id=\"T_cd24a_\" style='display:inline'><caption>Реальные значения</caption><thead>    <tr>        <th class=\"blank level0\" ></th>        <th class=\"col_heading level0 col0\" >is_canceled</th>    </tr>    <tr>        <th class=\"index_name level0\" >total_nights</th>        <th class=\"blank\" ></th>    </tr></thead><tbody>\n",
       "                <tr>\n",
       "                        <th id=\"T_cd24a_level0_row0\" class=\"row_heading level0 row0\" >3</th>\n",
       "                        <td id=\"T_cd24a_row0_col0\" class=\"data row0 col0\" >1958</td>\n",
       "            </tr>\n",
       "            <tr>\n",
       "                        <th id=\"T_cd24a_level0_row1\" class=\"row_heading level0 row1\" >4</th>\n",
       "                        <td id=\"T_cd24a_row1_col0\" class=\"data row1 col0\" >1564</td>\n",
       "            </tr>\n",
       "            <tr>\n",
       "                        <th id=\"T_cd24a_level0_row2\" class=\"row_heading level0 row2\" >2</th>\n",
       "                        <td id=\"T_cd24a_row2_col0\" class=\"data row2 col0\" >1359</td>\n",
       "            </tr>\n",
       "            <tr>\n",
       "                        <th id=\"T_cd24a_level0_row3\" class=\"row_heading level0 row3\" >1</th>\n",
       "                        <td id=\"T_cd24a_row3_col0\" class=\"data row3 col0\" >878</td>\n",
       "            </tr>\n",
       "            <tr>\n",
       "                        <th id=\"T_cd24a_level0_row4\" class=\"row_heading level0 row4\" >5</th>\n",
       "                        <td id=\"T_cd24a_row4_col0\" class=\"data row4 col0\" >684</td>\n",
       "            </tr>\n",
       "            <tr>\n",
       "                        <th id=\"T_cd24a_level0_row5\" class=\"row_heading level0 row5\" >7</th>\n",
       "                        <td id=\"T_cd24a_row5_col0\" class=\"data row5 col0\" >621</td>\n",
       "            </tr>\n",
       "            <tr>\n",
       "                        <th id=\"T_cd24a_level0_row6\" class=\"row_heading level0 row6\" >6</th>\n",
       "                        <td id=\"T_cd24a_row6_col0\" class=\"data row6 col0\" >307</td>\n",
       "            </tr>\n",
       "    </tbody></table>|<style  type=\"text/css\" >\n",
       "</style><table id=\"T_3c04f_\" style='display:inline'><caption>Предсказанные значения</caption><thead>    <tr>        <th class=\"blank level0\" ></th>        <th class=\"col_heading level0 col0\" >is_canceled_tree</th>    </tr>    <tr>        <th class=\"index_name level0\" >total_nights</th>        <th class=\"blank\" ></th>    </tr></thead><tbody>\n",
       "                <tr>\n",
       "                        <th id=\"T_3c04f_level0_row0\" class=\"row_heading level0 row0\" >1</th>\n",
       "                        <td id=\"T_3c04f_row0_col0\" class=\"data row0 col0\" >1821</td>\n",
       "            </tr>\n",
       "            <tr>\n",
       "                        <th id=\"T_3c04f_level0_row1\" class=\"row_heading level0 row1\" >3</th>\n",
       "                        <td id=\"T_3c04f_row1_col0\" class=\"data row1 col0\" >1788</td>\n",
       "            </tr>\n",
       "            <tr>\n",
       "                        <th id=\"T_3c04f_level0_row2\" class=\"row_heading level0 row2\" >2</th>\n",
       "                        <td id=\"T_3c04f_row2_col0\" class=\"data row2 col0\" >1495</td>\n",
       "            </tr>\n",
       "            <tr>\n",
       "                        <th id=\"T_3c04f_level0_row3\" class=\"row_heading level0 row3\" >4</th>\n",
       "                        <td id=\"T_3c04f_row3_col0\" class=\"data row3 col0\" >1307</td>\n",
       "            </tr>\n",
       "            <tr>\n",
       "                        <th id=\"T_3c04f_level0_row4\" class=\"row_heading level0 row4\" >5</th>\n",
       "                        <td id=\"T_3c04f_row4_col0\" class=\"data row4 col0\" >550</td>\n",
       "            </tr>\n",
       "            <tr>\n",
       "                        <th id=\"T_3c04f_level0_row5\" class=\"row_heading level0 row5\" >7</th>\n",
       "                        <td id=\"T_3c04f_row5_col0\" class=\"data row5 col0\" >408</td>\n",
       "            </tr>\n",
       "            <tr>\n",
       "                        <th id=\"T_3c04f_level0_row6\" class=\"row_heading level0 row6\" >6</th>\n",
       "                        <td id=\"T_3c04f_row6_col0\" class=\"data row6 col0\" >238</td>\n",
       "            </tr>\n",
       "    </tbody></table>"
      ]
     },
     "metadata": {},
     "output_type": "display_data"
    }
   ],
   "source": [
    "df_real = hotel_test_0.query('is_canceled == 1').groupby('total_nights')['is_canceled'].count().sort_values(ascending=False)\n",
    "df_predict = hotel_test_0.query('is_canceled_tree == 1').groupby('total_nights')['is_canceled_tree'].count().sort_values(ascending=False)\n",
    "\n",
    "df_real = pd.DataFrame(df_real)\n",
    "df_predict = pd.DataFrame(df_predict)\n",
    "\n",
    "df1_styler = df_real.style.set_table_attributes(\"style='display:inline'\").set_caption('Реальные значения')\n",
    "df2_styler = df_predict.style.set_table_attributes(\"style='display:inline'\").set_caption('Предсказанные значения')\n",
    "display_html(df1_styler._repr_html_()+'|'+df2_styler._repr_html_(), raw=True)"
   ]
  },
  {
   "cell_type": "markdown",
   "metadata": {},
   "source": [
    "Клиенты, которые бронировали номера на 1-4 ночи, чаще всего отказывались от брони"
   ]
  },
  {
   "cell_type": "markdown",
   "metadata": {},
   "source": [
    "Таким образом, можем составить **портрет \"ненадежного\" клиента**: месяц заезда - май, без изменений параметров заказа, гражданство - Пуэрто-Рико, без договора на бронирование номера, с включенным завтраком в стоимость номера, постояльцы самих дорогих номеров, бронь номера на 1-4 ночи "
   ]
  },
  {
   "cell_type": "markdown",
   "metadata": {},
   "source": [
    "### Шаг 6. Общий вывод"
   ]
  },
  {
   "cell_type": "markdown",
   "metadata": {},
   "source": [
    "В данной работе разработана система, которая предсказывает отказ от брони, тем самым помогаю сети отелей «Как в гостях» снизить убытки.\n",
    "\n",
    "В процессе работы были считаны оба файла: обучающие (за 2015-16 гг.) и тестовые (2017 г.) данные. \n",
    "\n",
    "На этапе их исследования \n",
    "- пропуски не обнаружены; \n",
    "- были замечены лишние пробелы в данных в столбцах 'reserved_room_type', 'meal', которые во втором указанном столбце образовывали пару неявных дубликатов 'SC ' и 'SC', впоследствии они были устранены с помощью функции delete_spaces;\n",
    "- столбец 'id' был удалён из данных, т.к. они все уникальны, соответсвенно, далее были удалены все дубликаты уже без учёта удаленного столбца для корректного анализа данных; \n",
    "- с помощью функции out_boxplot были построены графики стоблцов с числовыми данными; далее были рассмотрены столбцы, где отобразился \"ящик с усами\", затем были удалены строки с выбивающимися значениями в этих столбцах\n",
    "- в учёт брались бронирование номеров, где есть хотя бы один взрослый, т.к. дети не могут себе забронировать номера в отеле\n",
    "\n",
    "Следующий этап заключался в расчёте прибыли/убытка сети отелей без внедрения депозитов, а именно: \n",
    "- анализ был на тестовых данных с необходимыми столбцами для вычисления прибыли/убытка - 'arrival_date_month', 'is_canceled', 'reserved_room_type', 'total_nights'\n",
    "- были созданы вспомогательные таблицы для их объединения с таблицей, описанной чуть выше: \n",
    "1. с коэффициентами для её объединения с предыдущей таблицей по месяцу с созданием нового столбца - 'koeff', \n",
    "2. с ценами за ночь, стоимостью по типу номеров с созданием нового столбца - 'price_per_night', 'service_price'\n",
    "- далее была создана функция profit_column с созданием нового столбца в таблице, который рассчитывал прибыль/убыток от брони\n",
    "- в итоге была общая сумма прибыли/убытка сети отелей, она оказалась положительной, т.е. с прибылью в 29 356 830 руб\n",
    "\n",
    "На третьем, самом важном, этапе предстояло разработать модели ML, которые предсказывали бы отмену брони. Перед этим пришлось провести т.н. \"предобработку данных\" для машинного обучения: порядковое кодирование данных и масштабирование данных. Без этих шагов почти нереально было бы обучить модели. Т.к. у нас целевой признак имеет значения 1 *(да)* и 0 *(нет)*, то в качестве моделей ML были использованы \"Дерево решений\" - \"DecisionTreeClassifier\", \"Случайный лес\" - \"RandomForestClassifier\", \"Логистическое решение\" - \"LogisticRegression\". Для каждой модели подбирались параметры, при которых метрика сбалансированного качества предсказаний *(balanced_accuracy)* через кросс-валидацию была максимальной, простыми из каждой модели отбиралась лучшая подмодель с лучшими параметрами. Вдобавок была использована метрика f1_score, которая сочитает в себе точность и полноту предсказаний, на этом основании была составлена таблица сравнений разных моделей с метриками balanced_accuracy и f1_score. В процессе сравнения и анализа было выяснено, что лучшей моделью является \"дерево решений\". Это подтвердили ROC-кривые.\n",
    "\n",
    "Далее на тестовой выборке с помощью модели DT было проведено \n",
    "- предсказание отмены брони, \n",
    "- результаты предсказания были включены в таблицу, описанную на втором этапе, в качестве столбца 'is_canceled_tree'; \n",
    "- чуть позже была создана функция predicted_profit с созданием нового столбца в таблице, который рассчитывал предсказанный прибыль/убыток от брони \n",
    "- в итоге была высчитана общая сумма прибыли/убытка сети отелей после введения системы - 32 889 238 руб, выгода от модели - 3 132 408 руб.\n",
    "\n",
    "Для более полной картины составлен портрет \"ненадежного\" клиента: месяц заезда - май, без изменений параметров заказа, гражданство - Пуэрто-Рико, без договора на бронирование номера, с включенным завтраком в стоимость номера, постояльцы самих дорогих номеров, бронь номера на 1-4 ночи\n"
   ]
  },
  {
   "cell_type": "code",
   "execution_count": null,
   "metadata": {},
   "outputs": [],
   "source": []
  }
 ],
 "metadata": {
  "ExecuteTimeLog": [
   {
    "duration": 388,
    "start_time": "2023-04-24T08:44:15.165Z"
   },
   {
    "duration": 2,
    "start_time": "2023-04-24T08:44:23.053Z"
   },
   {
    "duration": 428,
    "start_time": "2023-04-24T08:46:38.433Z"
   },
   {
    "duration": 25,
    "start_time": "2023-04-24T08:47:45.593Z"
   },
   {
    "duration": 17,
    "start_time": "2023-04-24T08:48:07.029Z"
   },
   {
    "duration": 34,
    "start_time": "2023-04-24T09:10:03.501Z"
   },
   {
    "duration": 2,
    "start_time": "2023-04-24T09:12:47.945Z"
   },
   {
    "duration": 192,
    "start_time": "2023-04-24T09:12:49.465Z"
   },
   {
    "duration": 22,
    "start_time": "2023-04-24T09:12:51.762Z"
   },
   {
    "duration": 21,
    "start_time": "2023-04-24T09:13:00.552Z"
   },
   {
    "duration": 17,
    "start_time": "2023-04-24T09:13:02.794Z"
   },
   {
    "duration": 27,
    "start_time": "2023-04-24T09:13:05.760Z"
   },
   {
    "duration": 3,
    "start_time": "2023-04-24T09:14:21.457Z"
   },
   {
    "duration": 3,
    "start_time": "2023-04-24T09:14:39.342Z"
   },
   {
    "duration": 3,
    "start_time": "2023-04-24T09:15:01.573Z"
   },
   {
    "duration": 3,
    "start_time": "2023-04-24T09:15:13.042Z"
   },
   {
    "duration": 3,
    "start_time": "2023-04-24T09:15:54.723Z"
   },
   {
    "duration": 69,
    "start_time": "2023-04-24T09:21:36.823Z"
   },
   {
    "duration": 60,
    "start_time": "2023-04-24T09:35:03.328Z"
   },
   {
    "duration": 2,
    "start_time": "2023-04-24T09:35:13.221Z"
   },
   {
    "duration": 32,
    "start_time": "2023-04-24T09:36:34.551Z"
   },
   {
    "duration": 36,
    "start_time": "2023-04-24T09:37:20.901Z"
   },
   {
    "duration": 9,
    "start_time": "2023-04-24T09:40:13.423Z"
   },
   {
    "duration": 57,
    "start_time": "2023-04-24T09:40:46.209Z"
   },
   {
    "duration": 41,
    "start_time": "2023-04-24T09:41:56.552Z"
   },
   {
    "duration": 2,
    "start_time": "2023-04-24T09:45:51.495Z"
   },
   {
    "duration": 42,
    "start_time": "2023-04-24T09:45:59.285Z"
   },
   {
    "duration": 32,
    "start_time": "2023-04-24T09:46:45.782Z"
   },
   {
    "duration": 422,
    "start_time": "2023-04-25T10:57:42.213Z"
   },
   {
    "duration": 1018,
    "start_time": "2023-04-25T10:57:44.337Z"
   },
   {
    "duration": 27,
    "start_time": "2023-04-25T10:57:46.860Z"
   },
   {
    "duration": 20,
    "start_time": "2023-04-25T11:14:53.584Z"
   },
   {
    "duration": 43,
    "start_time": "2023-04-25T11:14:56.331Z"
   },
   {
    "duration": 98,
    "start_time": "2023-04-25T11:15:01.264Z"
   },
   {
    "duration": 3,
    "start_time": "2023-04-25T11:15:09.338Z"
   },
   {
    "duration": 43,
    "start_time": "2023-04-25T11:15:11.728Z"
   },
   {
    "duration": 4,
    "start_time": "2023-04-25T11:27:21.674Z"
   },
   {
    "duration": 11,
    "start_time": "2023-04-25T11:29:23.446Z"
   },
   {
    "duration": 40,
    "start_time": "2023-04-25T11:34:28.133Z"
   },
   {
    "duration": 4,
    "start_time": "2023-04-25T11:35:57.122Z"
   },
   {
    "duration": 10,
    "start_time": "2023-04-25T11:35:58.643Z"
   },
   {
    "duration": 39,
    "start_time": "2023-04-25T11:36:09.763Z"
   },
   {
    "duration": 4,
    "start_time": "2023-04-25T11:38:33.271Z"
   },
   {
    "duration": 118,
    "start_time": "2023-04-25T11:38:34.903Z"
   },
   {
    "duration": 48,
    "start_time": "2023-04-25T11:38:36.802Z"
   },
   {
    "duration": 3,
    "start_time": "2023-04-25T12:00:31.453Z"
   },
   {
    "duration": 261,
    "start_time": "2023-04-25T12:00:32.913Z"
   },
   {
    "duration": 27,
    "start_time": "2023-04-25T12:00:35.109Z"
   },
   {
    "duration": 20,
    "start_time": "2023-04-25T12:00:38.733Z"
   },
   {
    "duration": 41,
    "start_time": "2023-04-25T12:00:40.705Z"
   },
   {
    "duration": 239,
    "start_time": "2023-04-25T12:00:46.167Z"
   },
   {
    "duration": 118,
    "start_time": "2023-04-25T12:03:27.805Z"
   },
   {
    "duration": 7,
    "start_time": "2023-04-25T12:03:57.824Z"
   },
   {
    "duration": 60,
    "start_time": "2023-04-25T12:04:00.321Z"
   },
   {
    "duration": 3,
    "start_time": "2023-04-25T12:04:10.877Z"
   },
   {
    "duration": 100,
    "start_time": "2023-04-25T12:04:13.649Z"
   },
   {
    "duration": 59,
    "start_time": "2023-04-25T12:04:18.178Z"
   },
   {
    "duration": 1324,
    "start_time": "2023-04-25T12:07:19.154Z"
   },
   {
    "duration": 5,
    "start_time": "2023-04-25T12:07:39.861Z"
   },
   {
    "duration": 5,
    "start_time": "2023-04-25T12:12:47.451Z"
   },
   {
    "duration": 2910,
    "start_time": "2023-04-25T12:34:32.296Z"
   },
   {
    "duration": 2700,
    "start_time": "2023-04-25T12:36:23.765Z"
   },
   {
    "duration": 5,
    "start_time": "2023-04-25T12:38:16.375Z"
   },
   {
    "duration": 2577,
    "start_time": "2023-04-25T12:38:18.922Z"
   },
   {
    "duration": 5,
    "start_time": "2023-04-25T12:39:14.245Z"
   },
   {
    "duration": 5,
    "start_time": "2023-04-25T12:39:32.630Z"
   },
   {
    "duration": 2537,
    "start_time": "2023-04-25T12:39:34.289Z"
   },
   {
    "duration": 2924,
    "start_time": "2023-04-25T12:40:41.422Z"
   },
   {
    "duration": 6,
    "start_time": "2023-04-25T12:41:00.909Z"
   },
   {
    "duration": 3263,
    "start_time": "2023-04-25T12:41:03.168Z"
   },
   {
    "duration": 5,
    "start_time": "2023-04-25T12:42:19.429Z"
   },
   {
    "duration": 5,
    "start_time": "2023-04-25T12:42:26.628Z"
   },
   {
    "duration": 1723,
    "start_time": "2023-04-25T12:42:28.206Z"
   },
   {
    "duration": 6,
    "start_time": "2023-04-25T12:42:42.555Z"
   },
   {
    "duration": 3981,
    "start_time": "2023-04-25T12:42:47.817Z"
   },
   {
    "duration": 5,
    "start_time": "2023-04-25T12:47:19.366Z"
   },
   {
    "duration": 2610,
    "start_time": "2023-04-25T12:47:22.042Z"
   },
   {
    "duration": 6,
    "start_time": "2023-04-25T12:47:58.869Z"
   },
   {
    "duration": 2833,
    "start_time": "2023-04-25T12:48:01.025Z"
   },
   {
    "duration": 5,
    "start_time": "2023-04-25T12:48:20.825Z"
   },
   {
    "duration": 1732,
    "start_time": "2023-04-25T12:48:23.301Z"
   },
   {
    "duration": 5,
    "start_time": "2023-04-25T12:48:36.537Z"
   },
   {
    "duration": 2481,
    "start_time": "2023-04-25T12:48:38.759Z"
   },
   {
    "duration": 5,
    "start_time": "2023-04-25T12:48:55.357Z"
   },
   {
    "duration": 2691,
    "start_time": "2023-04-25T12:48:57.870Z"
   },
   {
    "duration": 5,
    "start_time": "2023-04-25T12:49:18.902Z"
   },
   {
    "duration": 2556,
    "start_time": "2023-04-25T12:49:21.409Z"
   },
   {
    "duration": 6,
    "start_time": "2023-04-25T12:51:13.849Z"
   },
   {
    "duration": 3182,
    "start_time": "2023-04-25T12:51:16.305Z"
   },
   {
    "duration": 6,
    "start_time": "2023-04-25T12:51:45.235Z"
   },
   {
    "duration": 2846,
    "start_time": "2023-04-25T12:51:46.855Z"
   },
   {
    "duration": 174,
    "start_time": "2023-04-25T12:53:08.217Z"
   },
   {
    "duration": 5,
    "start_time": "2023-04-25T13:00:18.355Z"
   },
   {
    "duration": 3558,
    "start_time": "2023-04-25T13:00:20.025Z"
   },
   {
    "duration": 6,
    "start_time": "2023-04-25T13:01:00.648Z"
   },
   {
    "duration": 3343,
    "start_time": "2023-04-25T13:01:02.639Z"
   },
   {
    "duration": 5,
    "start_time": "2023-04-25T13:01:17.308Z"
   },
   {
    "duration": 3596,
    "start_time": "2023-04-25T13:01:19.001Z"
   },
   {
    "duration": 6,
    "start_time": "2023-04-25T13:01:33.727Z"
   },
   {
    "duration": 3361,
    "start_time": "2023-04-25T13:01:34.883Z"
   },
   {
    "duration": 5,
    "start_time": "2023-04-25T13:01:54.431Z"
   },
   {
    "duration": 3454,
    "start_time": "2023-04-25T13:01:54.876Z"
   },
   {
    "duration": 5,
    "start_time": "2023-04-25T13:04:50.525Z"
   },
   {
    "duration": 2024,
    "start_time": "2023-04-25T13:04:51.605Z"
   },
   {
    "duration": 5,
    "start_time": "2023-04-25T13:05:07.505Z"
   },
   {
    "duration": 3429,
    "start_time": "2023-04-25T13:05:09.318Z"
   },
   {
    "duration": 5,
    "start_time": "2023-04-25T13:05:30.006Z"
   },
   {
    "duration": 3408,
    "start_time": "2023-04-25T13:05:30.954Z"
   },
   {
    "duration": 5,
    "start_time": "2023-04-25T13:05:42.523Z"
   },
   {
    "duration": 3346,
    "start_time": "2023-04-25T13:05:44.654Z"
   },
   {
    "duration": 1653,
    "start_time": "2023-04-25T17:27:15.031Z"
   },
   {
    "duration": 906,
    "start_time": "2023-04-25T17:27:19.024Z"
   },
   {
    "duration": 33,
    "start_time": "2023-04-25T17:27:21.024Z"
   },
   {
    "duration": 20,
    "start_time": "2023-04-25T17:27:23.152Z"
   },
   {
    "duration": 56,
    "start_time": "2023-04-25T17:27:28.024Z"
   },
   {
    "duration": 260,
    "start_time": "2023-04-25T17:27:31.952Z"
   },
   {
    "duration": 165,
    "start_time": "2023-04-25T17:27:37.490Z"
   },
   {
    "duration": 4,
    "start_time": "2023-04-25T17:27:52.282Z"
   },
   {
    "duration": 42,
    "start_time": "2023-04-25T17:27:55.468Z"
   },
   {
    "duration": 3,
    "start_time": "2023-04-25T17:28:01.024Z"
   },
   {
    "duration": 94,
    "start_time": "2023-04-25T17:28:04.973Z"
   },
   {
    "duration": 51,
    "start_time": "2023-04-25T17:28:07.111Z"
   },
   {
    "duration": 169,
    "start_time": "2023-04-25T17:28:11.105Z"
   },
   {
    "duration": 7,
    "start_time": "2023-04-25T17:28:16.406Z"
   },
   {
    "duration": 3393,
    "start_time": "2023-04-25T17:28:19.096Z"
   },
   {
    "duration": 449,
    "start_time": "2023-04-25T17:30:04.274Z"
   },
   {
    "duration": 176,
    "start_time": "2023-04-25T17:30:16.723Z"
   },
   {
    "duration": 7,
    "start_time": "2023-04-25T17:30:20.472Z"
   },
   {
    "duration": 3540,
    "start_time": "2023-04-25T17:30:21.613Z"
   },
   {
    "duration": 6,
    "start_time": "2023-04-25T17:36:42.425Z"
   },
   {
    "duration": 1056,
    "start_time": "2023-04-25T17:59:40.554Z"
   },
   {
    "duration": 3156,
    "start_time": "2023-04-25T18:02:14.671Z"
   },
   {
    "duration": 5,
    "start_time": "2023-04-25T18:02:30.224Z"
   },
   {
    "duration": 515,
    "start_time": "2023-04-25T18:02:35.924Z"
   },
   {
    "duration": 5,
    "start_time": "2023-04-25T18:15:24.245Z"
   },
   {
    "duration": 3053,
    "start_time": "2023-04-25T18:15:27.109Z"
   },
   {
    "duration": 6,
    "start_time": "2023-04-25T18:20:10.108Z"
   },
   {
    "duration": 201,
    "start_time": "2023-04-25T18:20:14.912Z"
   },
   {
    "duration": 6,
    "start_time": "2023-04-25T18:20:30.363Z"
   },
   {
    "duration": 671,
    "start_time": "2023-04-25T18:20:31.256Z"
   },
   {
    "duration": 6,
    "start_time": "2023-04-25T18:20:49.213Z"
   },
   {
    "duration": 2838,
    "start_time": "2023-04-25T18:20:49.904Z"
   },
   {
    "duration": 5,
    "start_time": "2023-04-25T18:20:59.464Z"
   },
   {
    "duration": 672,
    "start_time": "2023-04-25T18:21:01.094Z"
   },
   {
    "duration": 2615,
    "start_time": "2023-04-25T18:21:57.937Z"
   },
   {
    "duration": 315,
    "start_time": "2023-04-25T18:26:08.353Z"
   },
   {
    "duration": 4126,
    "start_time": "2023-04-25T18:26:19.178Z"
   },
   {
    "duration": 292,
    "start_time": "2023-04-25T18:27:27.240Z"
   },
   {
    "duration": 326,
    "start_time": "2023-04-25T18:27:31.719Z"
   },
   {
    "duration": 3328,
    "start_time": "2023-04-25T18:27:38.536Z"
   },
   {
    "duration": 3939,
    "start_time": "2023-04-25T18:28:29.815Z"
   },
   {
    "duration": 141,
    "start_time": "2023-04-25T18:31:44.518Z"
   },
   {
    "duration": 158,
    "start_time": "2023-04-25T18:40:08.616Z"
   },
   {
    "duration": 25,
    "start_time": "2023-04-25T18:40:39.507Z"
   },
   {
    "duration": 25,
    "start_time": "2023-04-25T18:40:51.192Z"
   },
   {
    "duration": 20,
    "start_time": "2023-04-25T18:41:33.831Z"
   },
   {
    "duration": 79,
    "start_time": "2023-04-25T18:41:57.977Z"
   },
   {
    "duration": 89,
    "start_time": "2023-04-25T18:42:03.320Z"
   },
   {
    "duration": 1480,
    "start_time": "2023-04-26T10:07:50.475Z"
   },
   {
    "duration": 884,
    "start_time": "2023-04-26T10:07:53.929Z"
   },
   {
    "duration": 31,
    "start_time": "2023-04-26T10:07:55.808Z"
   },
   {
    "duration": 19,
    "start_time": "2023-04-26T10:07:58.358Z"
   },
   {
    "duration": 35,
    "start_time": "2023-04-26T10:08:00.565Z"
   },
   {
    "duration": 232,
    "start_time": "2023-04-26T10:08:10.202Z"
   },
   {
    "duration": 108,
    "start_time": "2023-04-26T10:08:13.444Z"
   },
   {
    "duration": 3,
    "start_time": "2023-04-26T10:08:15.043Z"
   },
   {
    "duration": 36,
    "start_time": "2023-04-26T10:08:15.923Z"
   },
   {
    "duration": 3,
    "start_time": "2023-04-26T10:08:18.526Z"
   },
   {
    "duration": 102,
    "start_time": "2023-04-26T10:08:19.608Z"
   },
   {
    "duration": 37,
    "start_time": "2023-04-26T10:08:20.828Z"
   },
   {
    "duration": 150,
    "start_time": "2023-04-26T10:08:24.809Z"
   },
   {
    "duration": 5,
    "start_time": "2023-04-26T10:08:33.131Z"
   },
   {
    "duration": 2562,
    "start_time": "2023-04-26T10:08:35.223Z"
   },
   {
    "duration": 4,
    "start_time": "2023-04-26T10:08:41.878Z"
   },
   {
    "duration": 231,
    "start_time": "2023-04-26T10:08:43.737Z"
   },
   {
    "duration": 105,
    "start_time": "2023-04-26T10:08:45.975Z"
   },
   {
    "duration": 2880,
    "start_time": "2023-04-26T10:08:59.040Z"
   },
   {
    "duration": 141,
    "start_time": "2023-04-26T10:13:23.523Z"
   },
   {
    "duration": 2696,
    "start_time": "2023-04-26T10:13:29.554Z"
   },
   {
    "duration": 220,
    "start_time": "2023-04-26T10:14:17.018Z"
   },
   {
    "duration": 33,
    "start_time": "2023-04-26T10:46:30.986Z"
   },
   {
    "duration": 37,
    "start_time": "2023-04-26T10:47:34.375Z"
   },
   {
    "duration": 7,
    "start_time": "2023-04-26T11:46:07.155Z"
   },
   {
    "duration": 7,
    "start_time": "2023-04-26T11:46:21.685Z"
   },
   {
    "duration": 7,
    "start_time": "2023-04-26T11:46:42.076Z"
   },
   {
    "duration": 6,
    "start_time": "2023-04-26T12:23:18.156Z"
   },
   {
    "duration": 11,
    "start_time": "2023-04-26T12:23:41.278Z"
   },
   {
    "duration": 6,
    "start_time": "2023-04-26T12:28:20.936Z"
   },
   {
    "duration": 1558,
    "start_time": "2023-04-27T09:42:57.682Z"
   },
   {
    "duration": 409,
    "start_time": "2023-04-27T09:42:59.415Z"
   },
   {
    "duration": 28,
    "start_time": "2023-04-27T09:43:01.273Z"
   },
   {
    "duration": 18,
    "start_time": "2023-04-27T09:43:03.218Z"
   },
   {
    "duration": 34,
    "start_time": "2023-04-27T09:43:05.158Z"
   },
   {
    "duration": 251,
    "start_time": "2023-04-27T09:43:07.411Z"
   },
   {
    "duration": 116,
    "start_time": "2023-04-27T09:43:10.138Z"
   },
   {
    "duration": 3,
    "start_time": "2023-04-27T09:43:12.017Z"
   },
   {
    "duration": 39,
    "start_time": "2023-04-27T09:43:14.809Z"
   },
   {
    "duration": 3,
    "start_time": "2023-04-27T09:43:17.377Z"
   },
   {
    "duration": 90,
    "start_time": "2023-04-27T09:43:19.009Z"
   },
   {
    "duration": 38,
    "start_time": "2023-04-27T09:43:21.317Z"
   },
   {
    "duration": 136,
    "start_time": "2023-04-27T09:43:28.714Z"
   },
   {
    "duration": 5,
    "start_time": "2023-04-27T09:43:31.835Z"
   },
   {
    "duration": 2483,
    "start_time": "2023-04-27T09:43:34.797Z"
   },
   {
    "duration": 4,
    "start_time": "2023-04-27T09:43:41.769Z"
   },
   {
    "duration": 217,
    "start_time": "2023-04-27T09:43:44.539Z"
   },
   {
    "duration": 28,
    "start_time": "2023-04-27T09:43:52.497Z"
   },
   {
    "duration": 9,
    "start_time": "2023-04-27T09:43:55.070Z"
   },
   {
    "duration": 11,
    "start_time": "2023-04-27T09:44:59.931Z"
   },
   {
    "duration": 6,
    "start_time": "2023-04-27T09:45:11.866Z"
   },
   {
    "duration": 113,
    "start_time": "2023-04-27T09:47:24.161Z"
   },
   {
    "duration": 14,
    "start_time": "2023-04-27T09:47:39.571Z"
   },
   {
    "duration": 25,
    "start_time": "2023-04-27T09:48:37.930Z"
   },
   {
    "duration": 32,
    "start_time": "2023-04-27T09:49:11.892Z"
   },
   {
    "duration": 31,
    "start_time": "2023-04-27T09:49:39.881Z"
   },
   {
    "duration": 42,
    "start_time": "2023-04-27T09:49:53.381Z"
   },
   {
    "duration": 11,
    "start_time": "2023-04-27T09:53:12.119Z"
   },
   {
    "duration": 5,
    "start_time": "2023-04-27T09:53:14.921Z"
   },
   {
    "duration": 29,
    "start_time": "2023-04-27T09:53:17.034Z"
   },
   {
    "duration": 34,
    "start_time": "2023-04-27T09:53:37.211Z"
   },
   {
    "duration": 34,
    "start_time": "2023-04-27T09:53:44.530Z"
   },
   {
    "duration": 29,
    "start_time": "2023-04-27T09:53:46.691Z"
   },
   {
    "duration": 4,
    "start_time": "2023-04-27T10:17:27.472Z"
   },
   {
    "duration": 595,
    "start_time": "2023-04-27T10:18:37.534Z"
   },
   {
    "duration": 154,
    "start_time": "2023-04-27T10:20:12.921Z"
   },
   {
    "duration": 73,
    "start_time": "2023-04-27T10:20:38.677Z"
   },
   {
    "duration": 4,
    "start_time": "2023-04-27T10:20:52.348Z"
   },
   {
    "duration": 78,
    "start_time": "2023-04-27T10:22:26.738Z"
   },
   {
    "duration": 80,
    "start_time": "2023-04-27T10:22:38.278Z"
   },
   {
    "duration": 5,
    "start_time": "2023-04-27T10:23:24.451Z"
   },
   {
    "duration": 4,
    "start_time": "2023-04-27T10:23:35.205Z"
   },
   {
    "duration": 4,
    "start_time": "2023-04-27T10:23:51.862Z"
   },
   {
    "duration": 3,
    "start_time": "2023-04-27T10:24:44.006Z"
   },
   {
    "duration": 5,
    "start_time": "2023-04-27T10:24:53.078Z"
   },
   {
    "duration": 4,
    "start_time": "2023-04-27T10:25:02.094Z"
   },
   {
    "duration": 58,
    "start_time": "2023-04-27T10:44:37.308Z"
   },
   {
    "duration": 5,
    "start_time": "2023-04-27T10:46:43.511Z"
   },
   {
    "duration": 21,
    "start_time": "2023-04-27T10:46:54.775Z"
   },
   {
    "duration": 202,
    "start_time": "2023-04-27T10:50:52.137Z"
   },
   {
    "duration": 4,
    "start_time": "2023-04-27T10:54:36.099Z"
   },
   {
    "duration": 112,
    "start_time": "2023-04-27T10:56:43.657Z"
   },
   {
    "duration": 4,
    "start_time": "2023-04-27T10:57:37.736Z"
   },
   {
    "duration": 91,
    "start_time": "2023-04-27T10:57:39.168Z"
   },
   {
    "duration": 86,
    "start_time": "2023-04-27T11:05:22.564Z"
   },
   {
    "duration": 49,
    "start_time": "2023-04-27T11:08:14.164Z"
   },
   {
    "duration": 1404,
    "start_time": "2023-04-27T11:08:18.436Z"
   },
   {
    "duration": 342,
    "start_time": "2023-04-27T11:08:20.115Z"
   },
   {
    "duration": 27,
    "start_time": "2023-04-27T11:08:22.776Z"
   },
   {
    "duration": 18,
    "start_time": "2023-04-27T11:08:23.127Z"
   },
   {
    "duration": 35,
    "start_time": "2023-04-27T11:08:25.046Z"
   },
   {
    "duration": 281,
    "start_time": "2023-04-27T11:08:26.435Z"
   },
   {
    "duration": 112,
    "start_time": "2023-04-27T11:08:31.123Z"
   },
   {
    "duration": 3,
    "start_time": "2023-04-27T11:08:32.567Z"
   },
   {
    "duration": 47,
    "start_time": "2023-04-27T11:08:33.015Z"
   },
   {
    "duration": 3,
    "start_time": "2023-04-27T11:08:34.723Z"
   },
   {
    "duration": 92,
    "start_time": "2023-04-27T11:08:35.648Z"
   },
   {
    "duration": 39,
    "start_time": "2023-04-27T11:08:36.928Z"
   },
   {
    "duration": 133,
    "start_time": "2023-04-27T11:08:38.236Z"
   },
   {
    "duration": 4,
    "start_time": "2023-04-27T11:08:38.724Z"
   },
   {
    "duration": 2319,
    "start_time": "2023-04-27T11:08:39.497Z"
   },
   {
    "duration": 4,
    "start_time": "2023-04-27T11:08:43.707Z"
   },
   {
    "duration": 184,
    "start_time": "2023-04-27T11:08:44.767Z"
   },
   {
    "duration": 2377,
    "start_time": "2023-04-27T11:08:45.472Z"
   },
   {
    "duration": 28,
    "start_time": "2023-04-27T11:08:51.847Z"
   },
   {
    "duration": 9,
    "start_time": "2023-04-27T11:08:53.086Z"
   },
   {
    "duration": 11,
    "start_time": "2023-04-27T11:08:57.716Z"
   },
   {
    "duration": 6,
    "start_time": "2023-04-27T11:09:00.086Z"
   },
   {
    "duration": 32,
    "start_time": "2023-04-27T11:09:01.305Z"
   },
   {
    "duration": 4,
    "start_time": "2023-04-27T11:09:04.303Z"
   },
   {
    "duration": 585,
    "start_time": "2023-04-27T11:09:04.876Z"
   },
   {
    "duration": 4,
    "start_time": "2023-04-27T11:09:06.764Z"
   },
   {
    "duration": 51,
    "start_time": "2023-04-27T11:09:21.356Z"
   },
   {
    "duration": 1399,
    "start_time": "2023-04-27T11:29:04.854Z"
   },
   {
    "duration": 424,
    "start_time": "2023-04-27T11:29:09.633Z"
   },
   {
    "duration": 38,
    "start_time": "2023-04-27T11:29:10.704Z"
   },
   {
    "duration": 21,
    "start_time": "2023-04-27T11:29:11.072Z"
   },
   {
    "duration": 33,
    "start_time": "2023-04-27T11:29:12.592Z"
   },
   {
    "duration": 284,
    "start_time": "2023-04-27T11:29:13.633Z"
   },
   {
    "duration": 118,
    "start_time": "2023-04-27T11:29:15.361Z"
   },
   {
    "duration": 3,
    "start_time": "2023-04-27T11:29:17.281Z"
   },
   {
    "duration": 45,
    "start_time": "2023-04-27T11:29:17.542Z"
   },
   {
    "duration": 3,
    "start_time": "2023-04-27T11:29:18.761Z"
   },
   {
    "duration": 90,
    "start_time": "2023-04-27T11:29:20.702Z"
   },
   {
    "duration": 39,
    "start_time": "2023-04-27T11:29:21.263Z"
   },
   {
    "duration": 136,
    "start_time": "2023-04-27T11:29:21.869Z"
   },
   {
    "duration": 5,
    "start_time": "2023-04-27T11:29:22.188Z"
   },
   {
    "duration": 2527,
    "start_time": "2023-04-27T11:29:22.565Z"
   },
   {
    "duration": 4,
    "start_time": "2023-04-27T11:29:25.094Z"
   },
   {
    "duration": 209,
    "start_time": "2023-04-27T11:29:25.100Z"
   },
   {
    "duration": 2479,
    "start_time": "2023-04-27T11:29:25.311Z"
   },
   {
    "duration": 27,
    "start_time": "2023-04-27T11:29:27.792Z"
   },
   {
    "duration": 10,
    "start_time": "2023-04-27T11:29:28.414Z"
   },
   {
    "duration": 10,
    "start_time": "2023-04-27T11:29:33.333Z"
   },
   {
    "duration": 7,
    "start_time": "2023-04-27T11:29:36.084Z"
   },
   {
    "duration": 51,
    "start_time": "2023-04-27T11:29:37.961Z"
   },
   {
    "duration": 4,
    "start_time": "2023-04-27T11:29:51.486Z"
   },
   {
    "duration": 586,
    "start_time": "2023-04-27T11:29:52.326Z"
   },
   {
    "duration": 4,
    "start_time": "2023-04-27T11:29:54.461Z"
   },
   {
    "duration": 1334,
    "start_time": "2023-04-27T11:37:55.438Z"
   },
   {
    "duration": 348,
    "start_time": "2023-04-27T11:37:56.774Z"
   },
   {
    "duration": 26,
    "start_time": "2023-04-27T11:37:59.083Z"
   },
   {
    "duration": 18,
    "start_time": "2023-04-27T11:37:59.963Z"
   },
   {
    "duration": 40,
    "start_time": "2023-04-27T11:38:02.123Z"
   },
   {
    "duration": 261,
    "start_time": "2023-04-27T11:38:04.317Z"
   },
   {
    "duration": 24,
    "start_time": "2023-04-27T11:38:22.439Z"
   },
   {
    "duration": 103,
    "start_time": "2023-04-27T11:38:24.176Z"
   },
   {
    "duration": 3,
    "start_time": "2023-04-27T11:38:25.977Z"
   },
   {
    "duration": 39,
    "start_time": "2023-04-27T11:38:26.601Z"
   },
   {
    "duration": 3,
    "start_time": "2023-04-27T11:38:28.399Z"
   },
   {
    "duration": 88,
    "start_time": "2023-04-27T11:38:29.586Z"
   },
   {
    "duration": 41,
    "start_time": "2023-04-27T11:38:30.760Z"
   },
   {
    "duration": 126,
    "start_time": "2023-04-27T11:38:32.207Z"
   },
   {
    "duration": 6,
    "start_time": "2023-04-27T11:38:32.909Z"
   },
   {
    "duration": 2494,
    "start_time": "2023-04-27T11:38:33.578Z"
   },
   {
    "duration": 4,
    "start_time": "2023-04-27T11:38:36.075Z"
   },
   {
    "duration": 194,
    "start_time": "2023-04-27T11:38:42.937Z"
   },
   {
    "duration": 2485,
    "start_time": "2023-04-27T11:38:43.656Z"
   },
   {
    "duration": 28,
    "start_time": "2023-04-27T11:38:46.142Z"
   },
   {
    "duration": 10,
    "start_time": "2023-04-27T11:38:48.105Z"
   },
   {
    "duration": 13,
    "start_time": "2023-04-27T11:38:52.708Z"
   },
   {
    "duration": 7,
    "start_time": "2023-04-27T11:38:54.239Z"
   },
   {
    "duration": 34,
    "start_time": "2023-04-27T11:38:55.664Z"
   },
   {
    "duration": 4,
    "start_time": "2023-04-27T11:38:56.991Z"
   },
   {
    "duration": 587,
    "start_time": "2023-04-27T11:38:57.570Z"
   },
   {
    "duration": 4,
    "start_time": "2023-04-27T11:38:58.835Z"
   },
   {
    "duration": 558,
    "start_time": "2023-04-27T11:39:01.807Z"
   },
   {
    "duration": 6,
    "start_time": "2023-04-27T11:44:01.544Z"
   },
   {
    "duration": 232,
    "start_time": "2023-04-27T11:44:32.006Z"
   },
   {
    "duration": 17,
    "start_time": "2023-04-27T11:45:31.815Z"
   },
   {
    "duration": 18,
    "start_time": "2023-04-27T11:46:00.708Z"
   },
   {
    "duration": 307,
    "start_time": "2023-04-27T11:46:50.212Z"
   },
   {
    "duration": 95,
    "start_time": "2023-04-27T11:47:00.279Z"
   },
   {
    "duration": 10,
    "start_time": "2023-04-27T11:47:26.464Z"
   },
   {
    "duration": 12,
    "start_time": "2023-04-27T11:47:51.038Z"
   },
   {
    "duration": 6,
    "start_time": "2023-04-27T11:48:34.625Z"
   },
   {
    "duration": 198,
    "start_time": "2023-04-27T11:48:35.328Z"
   },
   {
    "duration": 26,
    "start_time": "2023-04-27T11:48:36.048Z"
   },
   {
    "duration": 17,
    "start_time": "2023-04-27T11:48:36.308Z"
   },
   {
    "duration": 38,
    "start_time": "2023-04-27T11:48:37.110Z"
   },
   {
    "duration": 256,
    "start_time": "2023-04-27T11:48:37.671Z"
   },
   {
    "duration": 104,
    "start_time": "2023-04-27T11:48:38.485Z"
   },
   {
    "duration": 2,
    "start_time": "2023-04-27T11:48:39.309Z"
   },
   {
    "duration": 41,
    "start_time": "2023-04-27T11:48:39.584Z"
   },
   {
    "duration": 2,
    "start_time": "2023-04-27T11:48:40.609Z"
   },
   {
    "duration": 90,
    "start_time": "2023-04-27T11:48:41.237Z"
   },
   {
    "duration": 38,
    "start_time": "2023-04-27T11:48:41.777Z"
   },
   {
    "duration": 121,
    "start_time": "2023-04-27T11:48:42.586Z"
   },
   {
    "duration": 4,
    "start_time": "2023-04-27T11:48:42.929Z"
   },
   {
    "duration": 2425,
    "start_time": "2023-04-27T11:48:43.359Z"
   },
   {
    "duration": 4,
    "start_time": "2023-04-27T11:48:45.785Z"
   },
   {
    "duration": 238,
    "start_time": "2023-04-27T11:48:45.791Z"
   },
   {
    "duration": 2412,
    "start_time": "2023-04-27T11:48:46.482Z"
   },
   {
    "duration": 35,
    "start_time": "2023-04-27T11:48:49.713Z"
   },
   {
    "duration": 13,
    "start_time": "2023-04-27T11:48:52.556Z"
   },
   {
    "duration": 15,
    "start_time": "2023-04-27T11:48:56.753Z"
   },
   {
    "duration": 6,
    "start_time": "2023-04-27T11:48:58.017Z"
   },
   {
    "duration": 34,
    "start_time": "2023-04-27T11:48:59.523Z"
   },
   {
    "duration": 4,
    "start_time": "2023-04-27T11:49:01.537Z"
   },
   {
    "duration": 713,
    "start_time": "2023-04-27T11:49:02.285Z"
   },
   {
    "duration": 5,
    "start_time": "2023-04-27T11:49:03.056Z"
   },
   {
    "duration": 692,
    "start_time": "2023-04-27T11:49:08.417Z"
   },
   {
    "duration": 12,
    "start_time": "2023-04-27T11:49:23.946Z"
   },
   {
    "duration": 4,
    "start_time": "2023-04-27T11:49:58.203Z"
   },
   {
    "duration": 5,
    "start_time": "2023-04-27T11:50:11.260Z"
   },
   {
    "duration": 564,
    "start_time": "2023-04-27T11:52:18.128Z"
   },
   {
    "duration": 9,
    "start_time": "2023-04-27T11:52:52.313Z"
   },
   {
    "duration": 1650,
    "start_time": "2023-04-27T19:01:55.968Z"
   },
   {
    "duration": 1139,
    "start_time": "2023-04-27T19:01:59.117Z"
   },
   {
    "duration": 27,
    "start_time": "2023-04-27T19:02:01.530Z"
   },
   {
    "duration": 19,
    "start_time": "2023-04-27T19:02:03.817Z"
   },
   {
    "duration": 35,
    "start_time": "2023-04-27T19:02:06.660Z"
   },
   {
    "duration": 235,
    "start_time": "2023-04-27T19:02:09.620Z"
   },
   {
    "duration": 107,
    "start_time": "2023-04-27T19:02:11.415Z"
   },
   {
    "duration": 4,
    "start_time": "2023-04-27T19:02:12.720Z"
   },
   {
    "duration": 35,
    "start_time": "2023-04-27T19:02:13.417Z"
   },
   {
    "duration": 3,
    "start_time": "2023-04-27T19:02:14.743Z"
   },
   {
    "duration": 96,
    "start_time": "2023-04-27T19:02:15.317Z"
   },
   {
    "duration": 38,
    "start_time": "2023-04-27T19:02:15.771Z"
   },
   {
    "duration": 146,
    "start_time": "2023-04-27T19:02:16.578Z"
   },
   {
    "duration": 5,
    "start_time": "2023-04-27T19:02:16.981Z"
   },
   {
    "duration": 2824,
    "start_time": "2023-04-27T19:02:17.561Z"
   },
   {
    "duration": 4,
    "start_time": "2023-04-27T19:02:20.388Z"
   },
   {
    "duration": 257,
    "start_time": "2023-04-27T19:02:20.393Z"
   },
   {
    "duration": 2807,
    "start_time": "2023-04-27T19:02:20.652Z"
   },
   {
    "duration": 43,
    "start_time": "2023-04-27T19:02:23.462Z"
   },
   {
    "duration": 10,
    "start_time": "2023-04-27T19:02:23.508Z"
   },
   {
    "duration": 11,
    "start_time": "2023-04-27T19:02:25.056Z"
   },
   {
    "duration": 6,
    "start_time": "2023-04-27T19:02:26.541Z"
   },
   {
    "duration": 35,
    "start_time": "2023-04-27T19:02:27.916Z"
   },
   {
    "duration": 4,
    "start_time": "2023-04-27T19:02:30.442Z"
   },
   {
    "duration": 611,
    "start_time": "2023-04-27T19:02:32.077Z"
   },
   {
    "duration": 4,
    "start_time": "2023-04-27T19:02:36.164Z"
   },
   {
    "duration": 626,
    "start_time": "2023-04-27T19:02:42.117Z"
   },
   {
    "duration": 13,
    "start_time": "2023-04-27T19:02:51.318Z"
   },
   {
    "duration": 71,
    "start_time": "2023-04-27T19:03:11.611Z"
   },
   {
    "duration": 4,
    "start_time": "2023-04-27T19:04:17.016Z"
   },
   {
    "duration": 46,
    "start_time": "2023-04-27T19:04:18.178Z"
   },
   {
    "duration": 4,
    "start_time": "2023-04-27T19:04:20.085Z"
   },
   {
    "duration": 39,
    "start_time": "2023-04-27T19:04:21.419Z"
   },
   {
    "duration": 1631,
    "start_time": "2023-04-27T19:05:37.845Z"
   },
   {
    "duration": 44,
    "start_time": "2023-04-27T19:06:44.131Z"
   },
   {
    "duration": 19876,
    "start_time": "2023-04-27T19:07:47.300Z"
   },
   {
    "duration": 626968,
    "start_time": "2023-04-27T19:08:15.661Z"
   },
   {
    "duration": 60252,
    "start_time": "2023-04-27T19:22:07.551Z"
   },
   {
    "duration": 93993,
    "start_time": "2023-04-27T19:23:55.706Z"
   },
   {
    "duration": 4,
    "start_time": "2023-04-27T19:39:59.531Z"
   },
   {
    "duration": 223,
    "start_time": "2023-04-27T19:40:00.108Z"
   },
   {
    "duration": 28,
    "start_time": "2023-04-27T19:40:00.599Z"
   },
   {
    "duration": 20,
    "start_time": "2023-04-27T19:40:00.740Z"
   },
   {
    "duration": 37,
    "start_time": "2023-04-27T19:40:01.186Z"
   },
   {
    "duration": 233,
    "start_time": "2023-04-27T19:40:01.545Z"
   },
   {
    "duration": 112,
    "start_time": "2023-04-27T19:40:02.032Z"
   },
   {
    "duration": 3,
    "start_time": "2023-04-27T19:40:02.542Z"
   },
   {
    "duration": 37,
    "start_time": "2023-04-27T19:40:02.721Z"
   },
   {
    "duration": 3,
    "start_time": "2023-04-27T19:40:03.584Z"
   },
   {
    "duration": 109,
    "start_time": "2023-04-27T19:40:03.976Z"
   },
   {
    "duration": 38,
    "start_time": "2023-04-27T19:40:04.338Z"
   },
   {
    "duration": 144,
    "start_time": "2023-04-27T19:40:04.732Z"
   },
   {
    "duration": 5,
    "start_time": "2023-04-27T19:40:04.949Z"
   },
   {
    "duration": 2684,
    "start_time": "2023-04-27T19:40:05.167Z"
   },
   {
    "duration": 4,
    "start_time": "2023-04-27T19:40:07.853Z"
   },
   {
    "duration": 247,
    "start_time": "2023-04-27T19:40:07.859Z"
   },
   {
    "duration": 2796,
    "start_time": "2023-04-27T19:40:08.108Z"
   },
   {
    "duration": 32,
    "start_time": "2023-04-27T19:40:10.906Z"
   },
   {
    "duration": 9,
    "start_time": "2023-04-27T19:40:10.941Z"
   },
   {
    "duration": 12,
    "start_time": "2023-04-27T19:40:11.710Z"
   },
   {
    "duration": 6,
    "start_time": "2023-04-27T19:40:13.183Z"
   },
   {
    "duration": 37,
    "start_time": "2023-04-27T19:40:14.507Z"
   },
   {
    "duration": 3,
    "start_time": "2023-04-27T19:40:15.762Z"
   },
   {
    "duration": 616,
    "start_time": "2023-04-27T19:40:16.342Z"
   },
   {
    "duration": 4,
    "start_time": "2023-04-27T19:40:17.719Z"
   },
   {
    "duration": 647,
    "start_time": "2023-04-27T19:40:26.974Z"
   },
   {
    "duration": 9,
    "start_time": "2023-04-27T19:40:37.882Z"
   },
   {
    "duration": 15,
    "start_time": "2023-04-27T19:40:41.547Z"
   },
   {
    "duration": 49,
    "start_time": "2023-04-27T19:40:48.033Z"
   },
   {
    "duration": 4,
    "start_time": "2023-04-27T19:40:55.575Z"
   },
   {
    "duration": 25,
    "start_time": "2023-04-27T19:40:56.452Z"
   },
   {
    "duration": 4,
    "start_time": "2023-04-27T19:40:59.310Z"
   },
   {
    "duration": 29,
    "start_time": "2023-04-27T19:41:01.206Z"
   },
   {
    "duration": 1135,
    "start_time": "2023-04-27T19:42:33.178Z"
   },
   {
    "duration": 443763,
    "start_time": "2023-04-27T19:42:38.309Z"
   },
   {
    "duration": 78518,
    "start_time": "2023-04-27T19:54:08.679Z"
   },
   {
    "duration": 12,
    "start_time": "2023-04-27T20:03:04.026Z"
   },
   {
    "duration": 13,
    "start_time": "2023-04-27T20:03:21.124Z"
   },
   {
    "duration": 1058,
    "start_time": "2023-04-27T20:24:31.789Z"
   },
   {
    "duration": 54426,
    "start_time": "2023-04-27T22:00:40.371Z"
   },
   {
    "duration": 10,
    "start_time": "2023-04-27T22:02:24.705Z"
   },
   {
    "duration": 584,
    "start_time": "2023-04-27T22:02:31.509Z"
   },
   {
    "duration": 474,
    "start_time": "2023-04-27T22:02:41.457Z"
   },
   {
    "duration": 688,
    "start_time": "2023-04-27T22:04:51.580Z"
   },
   {
    "duration": 275,
    "start_time": "2023-04-27T22:12:41.003Z"
   },
   {
    "duration": 965,
    "start_time": "2023-04-27T22:12:56.010Z"
   },
   {
    "duration": 1701,
    "start_time": "2023-04-27T22:13:37.361Z"
   },
   {
    "duration": 268,
    "start_time": "2023-04-27T22:14:43.677Z"
   },
   {
    "duration": 266,
    "start_time": "2023-04-27T22:15:01.730Z"
   },
   {
    "duration": 263,
    "start_time": "2023-04-27T22:16:24.545Z"
   },
   {
    "duration": 281,
    "start_time": "2023-04-27T22:35:54.247Z"
   },
   {
    "duration": 253,
    "start_time": "2023-04-27T22:36:22.710Z"
   },
   {
    "duration": 267,
    "start_time": "2023-04-27T22:36:43.576Z"
   },
   {
    "duration": 1253,
    "start_time": "2023-04-27T22:41:26.041Z"
   },
   {
    "duration": 235,
    "start_time": "2023-04-27T22:41:27.296Z"
   },
   {
    "duration": 24,
    "start_time": "2023-04-27T22:41:27.532Z"
   },
   {
    "duration": 16,
    "start_time": "2023-04-27T22:41:27.557Z"
   },
   {
    "duration": 46,
    "start_time": "2023-04-27T22:41:27.575Z"
   },
   {
    "duration": 245,
    "start_time": "2023-04-27T22:41:27.623Z"
   },
   {
    "duration": 106,
    "start_time": "2023-04-27T22:41:27.870Z"
   },
   {
    "duration": 3,
    "start_time": "2023-04-27T22:41:27.978Z"
   },
   {
    "duration": 54,
    "start_time": "2023-04-27T22:41:27.982Z"
   },
   {
    "duration": 3,
    "start_time": "2023-04-27T22:41:28.037Z"
   },
   {
    "duration": 94,
    "start_time": "2023-04-27T22:41:28.042Z"
   },
   {
    "duration": 35,
    "start_time": "2023-04-27T22:41:28.138Z"
   },
   {
    "duration": 167,
    "start_time": "2023-04-27T22:41:28.175Z"
   },
   {
    "duration": 4,
    "start_time": "2023-04-27T22:41:28.345Z"
   },
   {
    "duration": 2606,
    "start_time": "2023-04-27T22:41:28.351Z"
   },
   {
    "duration": 5,
    "start_time": "2023-04-27T22:41:30.959Z"
   },
   {
    "duration": 245,
    "start_time": "2023-04-27T22:41:30.966Z"
   },
   {
    "duration": 2588,
    "start_time": "2023-04-27T22:41:31.213Z"
   },
   {
    "duration": 28,
    "start_time": "2023-04-27T22:41:33.803Z"
   },
   {
    "duration": 8,
    "start_time": "2023-04-27T22:41:33.833Z"
   },
   {
    "duration": 11,
    "start_time": "2023-04-27T22:41:33.843Z"
   },
   {
    "duration": 8,
    "start_time": "2023-04-27T22:41:33.856Z"
   },
   {
    "duration": 59,
    "start_time": "2023-04-27T22:41:33.865Z"
   },
   {
    "duration": 4,
    "start_time": "2023-04-27T22:41:33.925Z"
   },
   {
    "duration": 594,
    "start_time": "2023-04-27T22:41:33.930Z"
   },
   {
    "duration": 3,
    "start_time": "2023-04-27T22:41:34.526Z"
   },
   {
    "duration": 584,
    "start_time": "2023-04-27T22:41:34.531Z"
   },
   {
    "duration": 12,
    "start_time": "2023-04-27T22:41:35.117Z"
   },
   {
    "duration": 51,
    "start_time": "2023-04-27T22:41:35.130Z"
   },
   {
    "duration": 49,
    "start_time": "2023-04-27T22:41:35.182Z"
   },
   {
    "duration": 4,
    "start_time": "2023-04-27T22:41:35.234Z"
   },
   {
    "duration": 36,
    "start_time": "2023-04-27T22:41:35.239Z"
   },
   {
    "duration": 6,
    "start_time": "2023-04-27T22:41:35.277Z"
   },
   {
    "duration": 60,
    "start_time": "2023-04-27T22:41:35.285Z"
   },
   {
    "duration": 1052,
    "start_time": "2023-04-27T22:41:35.347Z"
   },
   {
    "duration": 399187,
    "start_time": "2023-04-27T22:41:36.401Z"
   },
   {
    "duration": 32804,
    "start_time": "2023-04-27T22:48:15.590Z"
   },
   {
    "duration": 9,
    "start_time": "2023-04-27T22:48:48.396Z"
   },
   {
    "duration": 647,
    "start_time": "2023-04-27T22:48:48.407Z"
   },
   {
    "duration": 50,
    "start_time": "2023-04-27T22:48:49.056Z"
   },
   {
    "duration": 2031,
    "start_time": "2023-04-28T14:49:46.329Z"
   },
   {
    "duration": 1683,
    "start_time": "2023-04-28T14:49:48.362Z"
   },
   {
    "duration": 44,
    "start_time": "2023-04-28T14:49:50.047Z"
   },
   {
    "duration": 35,
    "start_time": "2023-04-28T14:49:50.094Z"
   },
   {
    "duration": 52,
    "start_time": "2023-04-28T14:49:50.131Z"
   },
   {
    "duration": 361,
    "start_time": "2023-04-28T14:49:50.192Z"
   },
   {
    "duration": 119,
    "start_time": "2023-04-28T14:49:50.555Z"
   },
   {
    "duration": 3,
    "start_time": "2023-04-28T14:49:50.676Z"
   },
   {
    "duration": 70,
    "start_time": "2023-04-28T14:49:50.680Z"
   },
   {
    "duration": 6,
    "start_time": "2023-04-28T14:49:50.753Z"
   },
   {
    "duration": 164,
    "start_time": "2023-04-28T14:49:50.762Z"
   },
   {
    "duration": 67,
    "start_time": "2023-04-28T14:49:50.928Z"
   },
   {
    "duration": 216,
    "start_time": "2023-04-28T14:49:50.998Z"
   },
   {
    "duration": 8,
    "start_time": "2023-04-28T14:49:51.217Z"
   },
   {
    "duration": 4000,
    "start_time": "2023-04-28T14:49:51.233Z"
   },
   {
    "duration": 5,
    "start_time": "2023-04-28T14:49:55.237Z"
   },
   {
    "duration": 291,
    "start_time": "2023-04-28T14:49:55.245Z"
   },
   {
    "duration": 3945,
    "start_time": "2023-04-28T14:49:55.538Z"
   },
   {
    "duration": 43,
    "start_time": "2023-04-28T14:49:59.485Z"
   },
   {
    "duration": 12,
    "start_time": "2023-04-28T14:49:59.531Z"
   },
   {
    "duration": 14,
    "start_time": "2023-04-28T14:49:59.546Z"
   },
   {
    "duration": 8,
    "start_time": "2023-04-28T14:49:59.594Z"
   },
   {
    "duration": 59,
    "start_time": "2023-04-28T14:49:59.604Z"
   },
   {
    "duration": 5,
    "start_time": "2023-04-28T14:49:59.666Z"
   },
   {
    "duration": 1039,
    "start_time": "2023-04-28T14:49:59.673Z"
   },
   {
    "duration": 5,
    "start_time": "2023-04-28T14:50:00.715Z"
   },
   {
    "duration": 997,
    "start_time": "2023-04-28T14:50:00.723Z"
   },
   {
    "duration": 15,
    "start_time": "2023-04-28T14:50:01.725Z"
   },
   {
    "duration": 87,
    "start_time": "2023-04-28T14:50:01.742Z"
   },
   {
    "duration": 65,
    "start_time": "2023-04-28T14:50:01.831Z"
   },
   {
    "duration": 9,
    "start_time": "2023-04-28T14:50:01.900Z"
   },
   {
    "duration": 40,
    "start_time": "2023-04-28T14:50:01.912Z"
   },
   {
    "duration": 8,
    "start_time": "2023-04-28T14:50:01.954Z"
   },
   {
    "duration": 69,
    "start_time": "2023-04-28T14:50:01.964Z"
   },
   {
    "duration": 1235,
    "start_time": "2023-04-28T14:50:02.036Z"
   },
   {
    "duration": 453826,
    "start_time": "2023-04-28T14:50:03.273Z"
   },
   {
    "duration": 36428,
    "start_time": "2023-04-28T14:57:37.101Z"
   },
   {
    "duration": 81,
    "start_time": "2023-04-28T14:58:13.532Z"
   },
   {
    "duration": 647,
    "start_time": "2023-04-28T14:58:13.615Z"
   },
   {
    "duration": 73,
    "start_time": "2023-04-28T14:58:14.263Z"
   },
   {
    "duration": 1620,
    "start_time": "2023-04-28T17:54:09.398Z"
   },
   {
    "duration": 283,
    "start_time": "2023-04-28T17:54:11.020Z"
   },
   {
    "duration": 40,
    "start_time": "2023-04-28T17:54:11.305Z"
   },
   {
    "duration": 26,
    "start_time": "2023-04-28T17:54:11.347Z"
   },
   {
    "duration": 67,
    "start_time": "2023-04-28T17:54:11.376Z"
   },
   {
    "duration": 313,
    "start_time": "2023-04-28T17:54:11.445Z"
   },
   {
    "duration": 156,
    "start_time": "2023-04-28T17:54:11.760Z"
   },
   {
    "duration": 3,
    "start_time": "2023-04-28T17:54:11.925Z"
   },
   {
    "duration": 52,
    "start_time": "2023-04-28T17:54:11.931Z"
   },
   {
    "duration": 3,
    "start_time": "2023-04-28T17:54:11.993Z"
   },
   {
    "duration": 169,
    "start_time": "2023-04-28T17:54:11.998Z"
   },
   {
    "duration": 72,
    "start_time": "2023-04-28T17:54:12.169Z"
   },
   {
    "duration": 177,
    "start_time": "2023-04-28T17:54:12.246Z"
   },
   {
    "duration": 6,
    "start_time": "2023-04-28T17:54:12.427Z"
   },
   {
    "duration": 3054,
    "start_time": "2023-04-28T17:54:12.435Z"
   },
   {
    "duration": 6,
    "start_time": "2023-04-28T17:54:15.491Z"
   },
   {
    "duration": 241,
    "start_time": "2023-04-28T17:54:15.499Z"
   },
   {
    "duration": 3017,
    "start_time": "2023-04-28T17:54:15.742Z"
   },
   {
    "duration": 43,
    "start_time": "2023-04-28T17:54:18.761Z"
   },
   {
    "duration": 12,
    "start_time": "2023-04-28T17:54:18.806Z"
   },
   {
    "duration": 17,
    "start_time": "2023-04-28T17:54:18.819Z"
   },
   {
    "duration": 8,
    "start_time": "2023-04-28T17:54:18.838Z"
   },
   {
    "duration": 78,
    "start_time": "2023-04-28T17:54:18.848Z"
   },
   {
    "duration": 5,
    "start_time": "2023-04-28T17:54:18.927Z"
   },
   {
    "duration": 722,
    "start_time": "2023-04-28T17:54:18.934Z"
   },
   {
    "duration": 4,
    "start_time": "2023-04-28T17:54:19.658Z"
   },
   {
    "duration": 681,
    "start_time": "2023-04-28T17:54:19.663Z"
   },
   {
    "duration": 12,
    "start_time": "2023-04-28T17:54:20.346Z"
   },
   {
    "duration": 43,
    "start_time": "2023-04-28T17:54:20.360Z"
   },
   {
    "duration": 56,
    "start_time": "2023-04-28T17:54:20.405Z"
   },
   {
    "duration": 5,
    "start_time": "2023-04-28T17:54:20.463Z"
   },
   {
    "duration": 48,
    "start_time": "2023-04-28T17:54:20.470Z"
   },
   {
    "duration": 6,
    "start_time": "2023-04-28T17:54:20.521Z"
   },
   {
    "duration": 44,
    "start_time": "2023-04-28T17:54:20.529Z"
   },
   {
    "duration": 4855,
    "start_time": "2023-04-28T17:54:20.575Z"
   },
   {
    "duration": 1528,
    "start_time": "2023-04-28T18:06:41.986Z"
   },
   {
    "duration": 249,
    "start_time": "2023-04-28T18:06:43.515Z"
   },
   {
    "duration": 35,
    "start_time": "2023-04-28T18:06:43.767Z"
   },
   {
    "duration": 45,
    "start_time": "2023-04-28T18:06:43.804Z"
   },
   {
    "duration": 60,
    "start_time": "2023-04-28T18:06:43.851Z"
   },
   {
    "duration": 307,
    "start_time": "2023-04-28T18:06:43.914Z"
   },
   {
    "duration": 120,
    "start_time": "2023-04-28T18:06:44.223Z"
   },
   {
    "duration": 3,
    "start_time": "2023-04-28T18:06:44.345Z"
   },
   {
    "duration": 54,
    "start_time": "2023-04-28T18:06:44.350Z"
   },
   {
    "duration": 3,
    "start_time": "2023-04-28T18:06:44.406Z"
   },
   {
    "duration": 172,
    "start_time": "2023-04-28T18:06:44.411Z"
   },
   {
    "duration": 38,
    "start_time": "2023-04-28T18:06:44.585Z"
   },
   {
    "duration": 185,
    "start_time": "2023-04-28T18:06:44.625Z"
   },
   {
    "duration": 5,
    "start_time": "2023-04-28T18:06:44.812Z"
   },
   {
    "duration": 2786,
    "start_time": "2023-04-28T18:06:44.819Z"
   },
   {
    "duration": 7,
    "start_time": "2023-04-28T18:06:47.607Z"
   },
   {
    "duration": 234,
    "start_time": "2023-04-28T18:06:47.616Z"
   },
   {
    "duration": 2886,
    "start_time": "2023-04-28T18:06:47.852Z"
   },
   {
    "duration": 37,
    "start_time": "2023-04-28T18:06:50.740Z"
   },
   {
    "duration": 22,
    "start_time": "2023-04-28T18:06:50.779Z"
   },
   {
    "duration": 54,
    "start_time": "2023-04-28T18:06:50.803Z"
   },
   {
    "duration": 7,
    "start_time": "2023-04-28T18:06:50.859Z"
   },
   {
    "duration": 34,
    "start_time": "2023-04-28T18:06:50.871Z"
   },
   {
    "duration": 5,
    "start_time": "2023-04-28T18:06:50.906Z"
   },
   {
    "duration": 648,
    "start_time": "2023-04-28T18:06:50.913Z"
   },
   {
    "duration": 5,
    "start_time": "2023-04-28T18:06:51.562Z"
   },
   {
    "duration": 769,
    "start_time": "2023-04-28T18:06:51.568Z"
   },
   {
    "duration": 16,
    "start_time": "2023-04-28T18:06:52.338Z"
   },
   {
    "duration": 73,
    "start_time": "2023-04-28T18:06:52.356Z"
   },
   {
    "duration": 56,
    "start_time": "2023-04-28T18:06:52.431Z"
   },
   {
    "duration": 5,
    "start_time": "2023-04-28T18:06:52.489Z"
   },
   {
    "duration": 53,
    "start_time": "2023-04-28T18:06:52.496Z"
   },
   {
    "duration": 6,
    "start_time": "2023-04-28T18:06:52.551Z"
   },
   {
    "duration": 49,
    "start_time": "2023-04-28T18:06:52.559Z"
   },
   {
    "duration": 4678,
    "start_time": "2023-04-28T18:06:52.610Z"
   },
   {
    "duration": 1798387,
    "start_time": "2023-04-28T18:06:57.290Z"
   },
   {
    "duration": 0,
    "start_time": "2023-04-28T18:36:55.679Z"
   },
   {
    "duration": 0,
    "start_time": "2023-04-28T18:36:55.681Z"
   },
   {
    "duration": 0,
    "start_time": "2023-04-28T18:36:55.683Z"
   },
   {
    "duration": 0,
    "start_time": "2023-04-28T18:36:55.692Z"
   },
   {
    "duration": 230772,
    "start_time": "2023-04-28T18:38:17.660Z"
   },
   {
    "duration": 1968318,
    "start_time": "2023-04-28T18:46:51.739Z"
   },
   {
    "duration": 15,
    "start_time": "2023-04-28T19:23:49.252Z"
   },
   {
    "duration": 11,
    "start_time": "2023-04-28T19:24:02.502Z"
   },
   {
    "duration": 19,
    "start_time": "2023-04-28T19:26:46.866Z"
   },
   {
    "duration": 60882,
    "start_time": "2023-04-28T19:28:50.019Z"
   },
   {
    "duration": 1258,
    "start_time": "2023-04-28T19:30:10.128Z"
   },
   {
    "duration": 1567,
    "start_time": "2023-04-28T19:33:12.097Z"
   },
   {
    "duration": 948,
    "start_time": "2023-04-28T20:16:01.142Z"
   },
   {
    "duration": 1450,
    "start_time": "2023-04-29T12:24:40.167Z"
   },
   {
    "duration": 424,
    "start_time": "2023-04-29T12:24:42.505Z"
   },
   {
    "duration": 29,
    "start_time": "2023-04-29T12:24:43.551Z"
   },
   {
    "duration": 18,
    "start_time": "2023-04-29T12:24:44.423Z"
   },
   {
    "duration": 36,
    "start_time": "2023-04-29T12:24:46.047Z"
   },
   {
    "duration": 234,
    "start_time": "2023-04-29T12:24:47.636Z"
   },
   {
    "duration": 95,
    "start_time": "2023-04-29T12:24:49.574Z"
   },
   {
    "duration": 3,
    "start_time": "2023-04-29T12:24:50.853Z"
   },
   {
    "duration": 41,
    "start_time": "2023-04-29T12:24:51.320Z"
   },
   {
    "duration": 3,
    "start_time": "2023-04-29T12:24:52.914Z"
   },
   {
    "duration": 89,
    "start_time": "2023-04-29T12:24:53.846Z"
   },
   {
    "duration": 34,
    "start_time": "2023-04-29T12:24:55.052Z"
   },
   {
    "duration": 176,
    "start_time": "2023-04-29T12:24:56.573Z"
   },
   {
    "duration": 4,
    "start_time": "2023-04-29T12:24:57.312Z"
   },
   {
    "duration": 2399,
    "start_time": "2023-04-29T12:24:57.910Z"
   },
   {
    "duration": 4,
    "start_time": "2023-04-29T12:25:00.311Z"
   },
   {
    "duration": 193,
    "start_time": "2023-04-29T12:25:00.408Z"
   },
   {
    "duration": 2326,
    "start_time": "2023-04-29T12:25:01.008Z"
   },
   {
    "duration": 28,
    "start_time": "2023-04-29T12:25:03.336Z"
   },
   {
    "duration": 8,
    "start_time": "2023-04-29T12:25:03.909Z"
   },
   {
    "duration": 12,
    "start_time": "2023-04-29T12:25:07.756Z"
   },
   {
    "duration": 8,
    "start_time": "2023-04-29T12:25:08.936Z"
   },
   {
    "duration": 30,
    "start_time": "2023-04-29T12:25:10.206Z"
   },
   {
    "duration": 4,
    "start_time": "2023-04-29T12:25:13.300Z"
   },
   {
    "duration": 499,
    "start_time": "2023-04-29T12:25:14.105Z"
   },
   {
    "duration": 4,
    "start_time": "2023-04-29T12:25:15.405Z"
   },
   {
    "duration": 517,
    "start_time": "2023-04-29T12:25:24.252Z"
   },
   {
    "duration": 12,
    "start_time": "2023-04-29T12:25:26.511Z"
   },
   {
    "duration": 48,
    "start_time": "2023-04-29T12:26:04.674Z"
   },
   {
    "duration": 2,
    "start_time": "2023-04-29T12:26:10.004Z"
   },
   {
    "duration": 43,
    "start_time": "2023-04-29T12:26:13.604Z"
   },
   {
    "duration": 4,
    "start_time": "2023-04-29T12:26:18.326Z"
   },
   {
    "duration": 33,
    "start_time": "2023-04-29T12:26:19.133Z"
   },
   {
    "duration": 4,
    "start_time": "2023-04-29T12:26:22.206Z"
   },
   {
    "duration": 34,
    "start_time": "2023-04-29T12:26:22.846Z"
   },
   {
    "duration": 13143,
    "start_time": "2023-04-29T12:27:39.408Z"
   },
   {
    "duration": 5336,
    "start_time": "2023-04-29T12:27:54.726Z"
   },
   {
    "duration": 1895814,
    "start_time": "2023-04-29T12:28:07.933Z"
   },
   {
    "duration": 257290,
    "start_time": "2023-04-29T12:59:43.749Z"
   },
   {
    "duration": 8,
    "start_time": "2023-04-29T13:04:50.561Z"
   },
   {
    "duration": 63219,
    "start_time": "2023-04-29T13:04:57.716Z"
   },
   {
    "duration": 1540,
    "start_time": "2023-04-29T13:09:15.594Z"
   },
   {
    "duration": 420,
    "start_time": "2023-04-29T14:01:13.140Z"
   },
   {
    "duration": 1268,
    "start_time": "2023-04-29T14:30:39.611Z"
   },
   {
    "duration": 1260,
    "start_time": "2023-04-29T14:31:36.312Z"
   },
   {
    "duration": 1220,
    "start_time": "2023-04-29T14:33:34.224Z"
   },
   {
    "duration": 5,
    "start_time": "2023-04-29T14:41:38.911Z"
   },
   {
    "duration": 4,
    "start_time": "2023-04-29T14:42:31.468Z"
   },
   {
    "duration": 417,
    "start_time": "2023-04-29T14:43:42.995Z"
   },
   {
    "duration": 1260,
    "start_time": "2023-04-29T14:44:25.136Z"
   },
   {
    "duration": 5,
    "start_time": "2023-04-29T14:45:46.537Z"
   },
   {
    "duration": 1410,
    "start_time": "2023-04-29T14:47:06.214Z"
   },
   {
    "duration": 1314,
    "start_time": "2023-04-29T14:47:38.497Z"
   },
   {
    "duration": 1384,
    "start_time": "2023-04-29T14:47:47.659Z"
   },
   {
    "duration": 1236,
    "start_time": "2023-04-29T14:48:03.818Z"
   },
   {
    "duration": 10,
    "start_time": "2023-04-29T14:54:03.292Z"
   },
   {
    "duration": 9,
    "start_time": "2023-04-29T14:55:32.445Z"
   },
   {
    "duration": 8,
    "start_time": "2023-04-29T14:55:55.781Z"
   },
   {
    "duration": 21,
    "start_time": "2023-04-29T14:56:07.575Z"
   },
   {
    "duration": 14,
    "start_time": "2023-04-29T14:56:24.280Z"
   },
   {
    "duration": 4,
    "start_time": "2023-04-29T15:06:32.827Z"
   },
   {
    "duration": 20,
    "start_time": "2023-04-29T15:06:34.847Z"
   },
   {
    "duration": 21,
    "start_time": "2023-04-29T15:06:48.588Z"
   },
   {
    "duration": 4,
    "start_time": "2023-04-29T15:07:19.947Z"
   },
   {
    "duration": 23,
    "start_time": "2023-04-29T15:07:22.053Z"
   },
   {
    "duration": 21,
    "start_time": "2023-04-29T15:11:10.121Z"
   },
   {
    "duration": 24,
    "start_time": "2023-04-29T15:14:12.254Z"
   },
   {
    "duration": 1209,
    "start_time": "2023-04-29T15:14:25.854Z"
   },
   {
    "duration": 1624,
    "start_time": "2023-04-29T15:15:52.390Z"
   },
   {
    "duration": 1629,
    "start_time": "2023-04-29T15:16:02.436Z"
   },
   {
    "duration": 5,
    "start_time": "2023-04-29T15:19:14.735Z"
   },
   {
    "duration": 4,
    "start_time": "2023-04-29T15:19:46.541Z"
   },
   {
    "duration": 7,
    "start_time": "2023-04-29T15:21:04.739Z"
   },
   {
    "duration": 1787,
    "start_time": "2023-04-30T12:24:43.429Z"
   },
   {
    "duration": 627,
    "start_time": "2023-04-30T12:24:45.218Z"
   },
   {
    "duration": 33,
    "start_time": "2023-04-30T12:24:45.853Z"
   },
   {
    "duration": 20,
    "start_time": "2023-04-30T12:24:45.889Z"
   },
   {
    "duration": 39,
    "start_time": "2023-04-30T12:24:45.911Z"
   },
   {
    "duration": 328,
    "start_time": "2023-04-30T12:24:45.951Z"
   },
   {
    "duration": 123,
    "start_time": "2023-04-30T12:24:46.281Z"
   },
   {
    "duration": 3,
    "start_time": "2023-04-30T12:24:46.405Z"
   },
   {
    "duration": 64,
    "start_time": "2023-04-30T12:24:46.410Z"
   },
   {
    "duration": 3,
    "start_time": "2023-04-30T12:24:46.477Z"
   },
   {
    "duration": 133,
    "start_time": "2023-04-30T12:24:46.482Z"
   },
   {
    "duration": 56,
    "start_time": "2023-04-30T12:24:46.616Z"
   },
   {
    "duration": 153,
    "start_time": "2023-04-30T12:24:46.673Z"
   },
   {
    "duration": 26,
    "start_time": "2023-04-30T12:24:46.827Z"
   },
   {
    "duration": 2844,
    "start_time": "2023-04-30T12:24:46.859Z"
   },
   {
    "duration": 5,
    "start_time": "2023-04-30T12:24:49.705Z"
   },
   {
    "duration": 228,
    "start_time": "2023-04-30T12:24:49.712Z"
   },
   {
    "duration": 2605,
    "start_time": "2023-04-30T12:24:49.942Z"
   },
   {
    "duration": 32,
    "start_time": "2023-04-30T12:24:52.549Z"
   },
   {
    "duration": 24,
    "start_time": "2023-04-30T12:24:52.583Z"
   },
   {
    "duration": 11,
    "start_time": "2023-04-30T12:24:52.609Z"
   },
   {
    "duration": 33,
    "start_time": "2023-04-30T12:24:52.621Z"
   },
   {
    "duration": 65,
    "start_time": "2023-04-30T12:24:52.660Z"
   },
   {
    "duration": 4,
    "start_time": "2023-04-30T12:24:52.726Z"
   },
   {
    "duration": 675,
    "start_time": "2023-04-30T12:24:52.731Z"
   },
   {
    "duration": 4,
    "start_time": "2023-04-30T12:24:53.407Z"
   },
   {
    "duration": 697,
    "start_time": "2023-04-30T12:24:53.412Z"
   },
   {
    "duration": 12,
    "start_time": "2023-04-30T12:24:54.112Z"
   },
   {
    "duration": 54,
    "start_time": "2023-04-30T12:24:54.126Z"
   },
   {
    "duration": 51,
    "start_time": "2023-04-30T12:24:54.181Z"
   },
   {
    "duration": 25,
    "start_time": "2023-04-30T12:24:54.233Z"
   },
   {
    "duration": 40,
    "start_time": "2023-04-30T12:24:54.266Z"
   },
   {
    "duration": 4,
    "start_time": "2023-04-30T12:24:54.308Z"
   },
   {
    "duration": 48,
    "start_time": "2023-04-30T12:24:54.313Z"
   },
   {
    "duration": 5950,
    "start_time": "2023-04-30T12:24:54.362Z"
   },
   {
    "duration": 2285301,
    "start_time": "2023-04-30T12:25:00.314Z"
   },
   {
    "duration": 322941,
    "start_time": "2023-04-30T13:03:05.617Z"
   },
   {
    "duration": 93,
    "start_time": "2023-04-30T13:08:28.564Z"
   },
   {
    "duration": 79376,
    "start_time": "2023-04-30T13:08:28.665Z"
   },
   {
    "duration": 1792,
    "start_time": "2023-04-30T13:09:48.047Z"
   },
   {
    "duration": 497,
    "start_time": "2023-04-30T13:09:49.847Z"
   },
   {
    "duration": 6,
    "start_time": "2023-04-30T13:09:50.348Z"
   },
   {
    "duration": 1521,
    "start_time": "2023-04-30T13:09:50.358Z"
   },
   {
    "duration": 14,
    "start_time": "2023-04-30T13:09:51.880Z"
   },
   {
    "duration": 4,
    "start_time": "2023-04-30T13:09:51.895Z"
   },
   {
    "duration": 1902,
    "start_time": "2023-04-30T13:09:51.901Z"
   },
   {
    "duration": 6,
    "start_time": "2023-04-30T13:09:53.804Z"
   },
   {
    "duration": 9,
    "start_time": "2023-04-30T13:09:53.811Z"
   },
   {
    "duration": 1599,
    "start_time": "2023-04-30T14:06:45.859Z"
   },
   {
    "duration": 938,
    "start_time": "2023-04-30T14:06:47.529Z"
   },
   {
    "duration": 30,
    "start_time": "2023-04-30T14:06:50.939Z"
   },
   {
    "duration": 21,
    "start_time": "2023-04-30T14:06:52.746Z"
   },
   {
    "duration": 56,
    "start_time": "2023-04-30T14:06:55.806Z"
   },
   {
    "duration": 309,
    "start_time": "2023-04-30T14:07:08.331Z"
   },
   {
    "duration": 147,
    "start_time": "2023-04-30T14:08:25.835Z"
   },
   {
    "duration": 226,
    "start_time": "2023-04-30T14:12:24.677Z"
   },
   {
    "duration": 145,
    "start_time": "2023-04-30T14:12:47.677Z"
   },
   {
    "duration": 836,
    "start_time": "2023-04-30T14:13:27.673Z"
   },
   {
    "duration": 46,
    "start_time": "2023-04-30T14:14:26.747Z"
   },
   {
    "duration": 457,
    "start_time": "2023-04-30T14:14:32.434Z"
   },
   {
    "duration": 804,
    "start_time": "2023-04-30T14:16:13.119Z"
   },
   {
    "duration": 583,
    "start_time": "2023-04-30T14:16:41.656Z"
   },
   {
    "duration": 4660,
    "start_time": "2023-04-30T14:17:00.258Z"
   },
   {
    "duration": 3,
    "start_time": "2023-04-30T14:18:21.740Z"
   },
   {
    "duration": 1481,
    "start_time": "2023-04-30T14:19:27.279Z"
   },
   {
    "duration": 383,
    "start_time": "2023-04-30T14:19:28.763Z"
   },
   {
    "duration": 41,
    "start_time": "2023-04-30T14:19:29.149Z"
   },
   {
    "duration": 50,
    "start_time": "2023-04-30T14:19:29.194Z"
   },
   {
    "duration": 76,
    "start_time": "2023-04-30T14:19:29.245Z"
   },
   {
    "duration": 277,
    "start_time": "2023-04-30T14:19:29.327Z"
   },
   {
    "duration": 140,
    "start_time": "2023-04-30T14:19:29.606Z"
   },
   {
    "duration": 1710,
    "start_time": "2023-04-30T14:20:31.231Z"
   },
   {
    "duration": 307,
    "start_time": "2023-04-30T14:20:32.946Z"
   },
   {
    "duration": 32,
    "start_time": "2023-04-30T14:20:33.255Z"
   },
   {
    "duration": 49,
    "start_time": "2023-04-30T14:20:33.290Z"
   },
   {
    "duration": 43,
    "start_time": "2023-04-30T14:20:33.341Z"
   },
   {
    "duration": 319,
    "start_time": "2023-04-30T14:20:33.386Z"
   },
   {
    "duration": 154,
    "start_time": "2023-04-30T14:20:33.711Z"
   },
   {
    "duration": 451,
    "start_time": "2023-04-30T14:20:33.867Z"
   },
   {
    "duration": 5,
    "start_time": "2023-04-30T14:20:34.320Z"
   },
   {
    "duration": 52,
    "start_time": "2023-04-30T14:20:34.328Z"
   },
   {
    "duration": 3,
    "start_time": "2023-04-30T14:20:34.382Z"
   },
   {
    "duration": 162,
    "start_time": "2023-04-30T14:20:34.387Z"
   },
   {
    "duration": 53,
    "start_time": "2023-04-30T14:20:34.552Z"
   },
   {
    "duration": 157,
    "start_time": "2023-04-30T14:20:34.615Z"
   },
   {
    "duration": 7,
    "start_time": "2023-04-30T14:20:34.774Z"
   },
   {
    "duration": 2916,
    "start_time": "2023-04-30T14:20:34.783Z"
   },
   {
    "duration": 16,
    "start_time": "2023-04-30T14:20:37.701Z"
   },
   {
    "duration": 252,
    "start_time": "2023-04-30T14:20:37.721Z"
   },
   {
    "duration": 3207,
    "start_time": "2023-04-30T14:20:37.975Z"
   },
   {
    "duration": 52,
    "start_time": "2023-04-30T14:20:41.184Z"
   },
   {
    "duration": 14,
    "start_time": "2023-04-30T14:20:41.238Z"
   },
   {
    "duration": 16,
    "start_time": "2023-04-30T14:20:41.254Z"
   },
   {
    "duration": 6,
    "start_time": "2023-04-30T14:20:41.273Z"
   },
   {
    "duration": 74,
    "start_time": "2023-04-30T14:20:41.280Z"
   },
   {
    "duration": 5,
    "start_time": "2023-04-30T14:20:41.356Z"
   },
   {
    "duration": 773,
    "start_time": "2023-04-30T14:20:41.364Z"
   },
   {
    "duration": 5,
    "start_time": "2023-04-30T14:20:42.139Z"
   },
   {
    "duration": 795,
    "start_time": "2023-04-30T14:20:42.149Z"
   },
   {
    "duration": 14,
    "start_time": "2023-04-30T14:20:42.946Z"
   },
   {
    "duration": 16,
    "start_time": "2023-04-30T14:20:42.962Z"
   },
   {
    "duration": 80,
    "start_time": "2023-04-30T14:20:42.980Z"
   },
   {
    "duration": 4,
    "start_time": "2023-04-30T14:20:43.062Z"
   },
   {
    "duration": 53,
    "start_time": "2023-04-30T14:20:43.068Z"
   },
   {
    "duration": 7,
    "start_time": "2023-04-30T14:20:43.123Z"
   },
   {
    "duration": 40,
    "start_time": "2023-04-30T14:20:43.134Z"
   },
   {
    "duration": 7207,
    "start_time": "2023-04-30T14:20:43.177Z"
   },
   {
    "duration": 52775,
    "start_time": "2023-04-30T14:20:50.386Z"
   },
   {
    "duration": 0,
    "start_time": "2023-04-30T14:21:43.163Z"
   },
   {
    "duration": 0,
    "start_time": "2023-04-30T14:21:43.165Z"
   },
   {
    "duration": 0,
    "start_time": "2023-04-30T14:21:43.167Z"
   },
   {
    "duration": 0,
    "start_time": "2023-04-30T14:21:43.169Z"
   },
   {
    "duration": 0,
    "start_time": "2023-04-30T14:21:43.170Z"
   },
   {
    "duration": 0,
    "start_time": "2023-04-30T14:21:43.172Z"
   },
   {
    "duration": 0,
    "start_time": "2023-04-30T14:21:43.174Z"
   },
   {
    "duration": 0,
    "start_time": "2023-04-30T14:21:43.175Z"
   },
   {
    "duration": 0,
    "start_time": "2023-04-30T14:21:43.177Z"
   },
   {
    "duration": 0,
    "start_time": "2023-04-30T14:21:43.178Z"
   },
   {
    "duration": 0,
    "start_time": "2023-04-30T14:21:43.180Z"
   },
   {
    "duration": 0,
    "start_time": "2023-04-30T14:21:43.217Z"
   },
   {
    "duration": 8,
    "start_time": "2023-04-30T14:31:59.685Z"
   },
   {
    "duration": 262,
    "start_time": "2023-04-30T14:32:02.242Z"
   },
   {
    "duration": 41,
    "start_time": "2023-04-30T14:32:10.557Z"
   },
   {
    "duration": 27,
    "start_time": "2023-04-30T14:32:11.034Z"
   },
   {
    "duration": 55,
    "start_time": "2023-04-30T14:32:13.042Z"
   },
   {
    "duration": 250,
    "start_time": "2023-04-30T14:32:14.823Z"
   },
   {
    "duration": 117,
    "start_time": "2023-04-30T14:32:17.566Z"
   },
   {
    "duration": 13030,
    "start_time": "2023-04-30T14:33:19.309Z"
   },
   {
    "duration": 338,
    "start_time": "2023-04-30T14:43:28.086Z"
   },
   {
    "duration": 209,
    "start_time": "2023-04-30T14:50:24.138Z"
   },
   {
    "duration": 263,
    "start_time": "2023-04-30T14:50:48.826Z"
   },
   {
    "duration": 204,
    "start_time": "2023-04-30T14:51:10.431Z"
   },
   {
    "duration": 207,
    "start_time": "2023-04-30T14:51:17.960Z"
   },
   {
    "duration": 127,
    "start_time": "2023-04-30T15:29:13.041Z"
   },
   {
    "duration": 164,
    "start_time": "2023-04-30T16:10:57.259Z"
   },
   {
    "duration": 200,
    "start_time": "2023-04-30T16:11:14.584Z"
   },
   {
    "duration": 122,
    "start_time": "2023-04-30T16:11:26.056Z"
   },
   {
    "duration": 140,
    "start_time": "2023-04-30T16:11:38.637Z"
   },
   {
    "duration": 124,
    "start_time": "2023-04-30T16:12:10.661Z"
   },
   {
    "duration": 137,
    "start_time": "2023-04-30T16:12:18.964Z"
   },
   {
    "duration": 137,
    "start_time": "2023-04-30T16:12:21.230Z"
   },
   {
    "duration": 45746,
    "start_time": "2023-04-30T16:12:42.821Z"
   },
   {
    "duration": 4,
    "start_time": "2023-04-30T16:31:38.749Z"
   },
   {
    "duration": 72,
    "start_time": "2023-04-30T16:31:40.264Z"
   },
   {
    "duration": 4,
    "start_time": "2023-04-30T16:31:46.550Z"
   },
   {
    "duration": 123,
    "start_time": "2023-04-30T16:31:48.024Z"
   },
   {
    "duration": 71,
    "start_time": "2023-04-30T16:31:51.289Z"
   },
   {
    "duration": 6,
    "start_time": "2023-04-30T16:32:55.230Z"
   },
   {
    "duration": 94,
    "start_time": "2023-04-30T16:32:56.645Z"
   },
   {
    "duration": 3,
    "start_time": "2023-04-30T16:33:15.056Z"
   },
   {
    "duration": 62,
    "start_time": "2023-04-30T16:33:16.380Z"
   },
   {
    "duration": 7,
    "start_time": "2023-04-30T16:33:34.520Z"
   },
   {
    "duration": 71,
    "start_time": "2023-04-30T16:33:36.833Z"
   },
   {
    "duration": 50,
    "start_time": "2023-04-30T16:33:45.487Z"
   },
   {
    "duration": 139,
    "start_time": "2023-04-30T16:33:56.550Z"
   },
   {
    "duration": 133,
    "start_time": "2023-04-30T16:34:01.870Z"
   },
   {
    "duration": 118,
    "start_time": "2023-04-30T16:34:16.042Z"
   },
   {
    "duration": 5,
    "start_time": "2023-04-30T16:34:21.259Z"
   },
   {
    "duration": 32,
    "start_time": "2023-04-30T16:34:24.540Z"
   },
   {
    "duration": 3,
    "start_time": "2023-04-30T16:34:35.065Z"
   },
   {
    "duration": 41,
    "start_time": "2023-04-30T16:34:36.944Z"
   },
   {
    "duration": 50,
    "start_time": "2023-04-30T16:34:39.196Z"
   },
   {
    "duration": 132,
    "start_time": "2023-04-30T16:34:47.567Z"
   },
   {
    "duration": 5,
    "start_time": "2023-04-30T16:34:59.261Z"
   },
   {
    "duration": 10,
    "start_time": "2023-04-30T16:35:20.951Z"
   },
   {
    "duration": 2867,
    "start_time": "2023-04-30T16:35:55.349Z"
   },
   {
    "duration": 5,
    "start_time": "2023-04-30T16:36:25.941Z"
   },
   {
    "duration": 160,
    "start_time": "2023-04-30T16:36:47.550Z"
   },
   {
    "duration": 2914,
    "start_time": "2023-04-30T16:36:59.944Z"
   },
   {
    "duration": 169,
    "start_time": "2023-04-30T16:37:13.454Z"
   },
   {
    "duration": 3076,
    "start_time": "2023-04-30T16:37:24.951Z"
   },
   {
    "duration": 33,
    "start_time": "2023-04-30T16:41:10.318Z"
   },
   {
    "duration": 12,
    "start_time": "2023-04-30T16:42:07.079Z"
   },
   {
    "duration": 1333,
    "start_time": "2023-04-30T16:43:03.170Z"
   },
   {
    "duration": 690,
    "start_time": "2023-04-30T17:00:03.561Z"
   },
   {
    "duration": 730,
    "start_time": "2023-04-30T17:06:02.987Z"
   },
   {
    "duration": 689,
    "start_time": "2023-04-30T17:06:59.810Z"
   },
   {
    "duration": 52,
    "start_time": "2023-04-30T17:13:10.606Z"
   },
   {
    "duration": 19,
    "start_time": "2023-04-30T17:14:08.047Z"
   },
   {
    "duration": 2928,
    "start_time": "2023-04-30T17:14:19.042Z"
   },
   {
    "duration": 27,
    "start_time": "2023-04-30T17:14:26.105Z"
   },
   {
    "duration": 8,
    "start_time": "2023-04-30T17:14:29.702Z"
   },
   {
    "duration": 1551,
    "start_time": "2023-04-30T17:14:31.960Z"
   },
   {
    "duration": 36,
    "start_time": "2023-04-30T17:16:44.554Z"
   },
   {
    "duration": 16,
    "start_time": "2023-04-30T17:17:08.258Z"
   },
   {
    "duration": 6,
    "start_time": "2023-04-30T17:17:21.282Z"
   },
   {
    "duration": 47,
    "start_time": "2023-04-30T17:17:32.883Z"
   },
   {
    "duration": 4,
    "start_time": "2023-04-30T17:17:41.148Z"
   },
   {
    "duration": 539,
    "start_time": "2023-04-30T17:17:43.878Z"
   },
   {
    "duration": 6,
    "start_time": "2023-04-30T17:17:47.743Z"
   },
   {
    "duration": 4,
    "start_time": "2023-04-30T17:19:47.049Z"
   },
   {
    "duration": 131,
    "start_time": "2023-04-30T17:23:42.578Z"
   },
   {
    "duration": 15,
    "start_time": "2023-04-30T17:24:53.046Z"
   },
   {
    "duration": 12,
    "start_time": "2023-04-30T17:26:47.275Z"
   },
   {
    "duration": 11,
    "start_time": "2023-04-30T17:27:23.355Z"
   },
   {
    "duration": 16,
    "start_time": "2023-04-30T17:37:42.989Z"
   },
   {
    "duration": 142,
    "start_time": "2023-04-30T17:39:09.302Z"
   },
   {
    "duration": 12,
    "start_time": "2023-04-30T17:41:48.778Z"
   },
   {
    "duration": 6,
    "start_time": "2023-04-30T17:41:52.246Z"
   },
   {
    "duration": 28,
    "start_time": "2023-04-30T17:41:55.155Z"
   },
   {
    "duration": 4,
    "start_time": "2023-04-30T17:42:04.996Z"
   },
   {
    "duration": 530,
    "start_time": "2023-04-30T17:42:07.846Z"
   },
   {
    "duration": 5,
    "start_time": "2023-04-30T17:42:09.780Z"
   },
   {
    "duration": 66,
    "start_time": "2023-04-30T17:44:49.089Z"
   },
   {
    "duration": 113,
    "start_time": "2023-04-30T17:44:55.944Z"
   },
   {
    "duration": 127,
    "start_time": "2023-04-30T17:45:07.359Z"
   },
   {
    "duration": 141,
    "start_time": "2023-04-30T17:46:06.898Z"
   },
   {
    "duration": 18,
    "start_time": "2023-04-30T17:46:49.255Z"
   },
   {
    "duration": 16,
    "start_time": "2023-04-30T17:47:12.745Z"
   },
   {
    "duration": 5,
    "start_time": "2023-04-30T17:49:25.059Z"
   },
   {
    "duration": 244,
    "start_time": "2023-04-30T17:49:27.141Z"
   },
   {
    "duration": 29,
    "start_time": "2023-04-30T17:49:29.280Z"
   },
   {
    "duration": 33,
    "start_time": "2023-04-30T17:49:37.349Z"
   },
   {
    "duration": 51,
    "start_time": "2023-04-30T17:49:42.289Z"
   },
   {
    "duration": 275,
    "start_time": "2023-04-30T17:50:48.005Z"
   },
   {
    "duration": 149,
    "start_time": "2023-04-30T17:50:55.357Z"
   },
   {
    "duration": 16511,
    "start_time": "2023-04-30T17:50:58.019Z"
   },
   {
    "duration": 0,
    "start_time": "2023-04-30T17:51:14.532Z"
   },
   {
    "duration": 129,
    "start_time": "2023-04-30T17:51:31.730Z"
   },
   {
    "duration": 131,
    "start_time": "2023-04-30T17:51:33.859Z"
   },
   {
    "duration": 3,
    "start_time": "2023-04-30T17:51:40.448Z"
   },
   {
    "duration": 47,
    "start_time": "2023-04-30T17:51:41.305Z"
   },
   {
    "duration": 3,
    "start_time": "2023-04-30T17:51:46.085Z"
   },
   {
    "duration": 67,
    "start_time": "2023-04-30T17:51:47.591Z"
   },
   {
    "duration": 30,
    "start_time": "2023-04-30T17:51:52.044Z"
   },
   {
    "duration": 123,
    "start_time": "2023-04-30T17:51:56.980Z"
   },
   {
    "duration": 6,
    "start_time": "2023-04-30T17:52:00.601Z"
   },
   {
    "duration": 3058,
    "start_time": "2023-04-30T17:52:01.538Z"
   },
   {
    "duration": 4,
    "start_time": "2023-04-30T17:52:07.594Z"
   },
   {
    "duration": 219,
    "start_time": "2023-04-30T17:52:08.732Z"
   },
   {
    "duration": 3290,
    "start_time": "2023-04-30T17:52:12.246Z"
   },
   {
    "duration": 30,
    "start_time": "2023-04-30T17:52:17.540Z"
   },
   {
    "duration": 27,
    "start_time": "2023-04-30T17:52:21.509Z"
   },
   {
    "duration": 12,
    "start_time": "2023-04-30T17:52:23.095Z"
   },
   {
    "duration": 34,
    "start_time": "2023-04-30T17:52:34.759Z"
   },
   {
    "duration": 13,
    "start_time": "2023-04-30T17:52:43.994Z"
   },
   {
    "duration": 10,
    "start_time": "2023-04-30T17:52:47.340Z"
   },
   {
    "duration": 55,
    "start_time": "2023-04-30T17:52:49.102Z"
   },
   {
    "duration": 5,
    "start_time": "2023-04-30T17:52:54.206Z"
   },
   {
    "duration": 509,
    "start_time": "2023-04-30T17:52:59.289Z"
   },
   {
    "duration": 5,
    "start_time": "2023-04-30T17:53:01.689Z"
   },
   {
    "duration": 11,
    "start_time": "2023-04-30T17:53:14.145Z"
   },
   {
    "duration": 141,
    "start_time": "2023-04-30T17:53:23.241Z"
   },
   {
    "duration": 137,
    "start_time": "2023-04-30T17:55:31.161Z"
   },
   {
    "duration": 192,
    "start_time": "2023-04-30T17:55:53.038Z"
   },
   {
    "duration": 157,
    "start_time": "2023-04-30T17:57:33.530Z"
   },
   {
    "duration": 12,
    "start_time": "2023-04-30T17:59:14.258Z"
   },
   {
    "duration": 186,
    "start_time": "2023-04-30T17:59:52.637Z"
   },
   {
    "duration": 222,
    "start_time": "2023-04-30T18:02:19.355Z"
   },
   {
    "duration": 19,
    "start_time": "2023-04-30T18:02:33.689Z"
   },
   {
    "duration": 176,
    "start_time": "2023-04-30T18:03:07.954Z"
   },
   {
    "duration": 8,
    "start_time": "2023-04-30T18:03:15.460Z"
   },
   {
    "duration": 24,
    "start_time": "2023-04-30T18:03:25.127Z"
   },
   {
    "duration": 4,
    "start_time": "2023-04-30T18:05:55.828Z"
   },
   {
    "duration": 28,
    "start_time": "2023-04-30T18:08:46.731Z"
   },
   {
    "duration": 9,
    "start_time": "2023-04-30T18:09:10.861Z"
   },
   {
    "duration": 27,
    "start_time": "2023-04-30T18:09:22.816Z"
   },
   {
    "duration": 32,
    "start_time": "2023-04-30T18:10:22.825Z"
   },
   {
    "duration": 6,
    "start_time": "2023-04-30T18:14:27.755Z"
   },
   {
    "duration": 326,
    "start_time": "2023-04-30T18:14:28.930Z"
   },
   {
    "duration": 31,
    "start_time": "2023-04-30T18:14:29.860Z"
   },
   {
    "duration": 39,
    "start_time": "2023-04-30T18:14:29.893Z"
   },
   {
    "duration": 48,
    "start_time": "2023-04-30T18:14:30.842Z"
   },
   {
    "duration": 282,
    "start_time": "2023-04-30T18:14:31.859Z"
   },
   {
    "duration": 180,
    "start_time": "2023-04-30T18:14:34.690Z"
   },
   {
    "duration": 150,
    "start_time": "2023-04-30T18:14:36.658Z"
   },
   {
    "duration": 139,
    "start_time": "2023-04-30T18:14:38.331Z"
   },
   {
    "duration": 4,
    "start_time": "2023-04-30T18:14:41.038Z"
   },
   {
    "duration": 42,
    "start_time": "2023-04-30T18:14:41.965Z"
   },
   {
    "duration": 6,
    "start_time": "2023-04-30T18:14:43.531Z"
   },
   {
    "duration": 46,
    "start_time": "2023-04-30T18:14:44.461Z"
   },
   {
    "duration": 31,
    "start_time": "2023-04-30T18:14:45.456Z"
   },
   {
    "duration": 133,
    "start_time": "2023-04-30T18:14:47.232Z"
   },
   {
    "duration": 14,
    "start_time": "2023-04-30T18:14:47.817Z"
   },
   {
    "duration": 1181,
    "start_time": "2023-04-30T18:14:48.346Z"
   },
   {
    "duration": 3149,
    "start_time": "2023-04-30T18:16:09.337Z"
   },
   {
    "duration": 3149,
    "start_time": "2023-04-30T18:16:38.553Z"
   },
   {
    "duration": 7,
    "start_time": "2023-04-30T18:16:50.512Z"
   },
   {
    "duration": 191,
    "start_time": "2023-04-30T18:16:52.408Z"
   },
   {
    "duration": 3225,
    "start_time": "2023-04-30T18:16:59.946Z"
   },
   {
    "duration": 30,
    "start_time": "2023-04-30T18:17:09.253Z"
   },
   {
    "duration": 14,
    "start_time": "2023-04-30T18:17:15.156Z"
   },
   {
    "duration": 17,
    "start_time": "2023-04-30T18:17:17.335Z"
   },
   {
    "duration": 32,
    "start_time": "2023-04-30T18:17:55.657Z"
   },
   {
    "duration": 14,
    "start_time": "2023-04-30T18:18:07.705Z"
   },
   {
    "duration": 7,
    "start_time": "2023-04-30T18:18:12.289Z"
   },
   {
    "duration": 45,
    "start_time": "2023-04-30T18:18:21.206Z"
   },
   {
    "duration": 14,
    "start_time": "2023-04-30T18:18:24.731Z"
   },
   {
    "duration": 542,
    "start_time": "2023-04-30T18:18:26.060Z"
   },
   {
    "duration": 5,
    "start_time": "2023-04-30T18:18:27.689Z"
   },
   {
    "duration": 186,
    "start_time": "2023-04-30T18:18:37.045Z"
   },
   {
    "duration": 9,
    "start_time": "2023-04-30T18:18:57.749Z"
   },
   {
    "duration": 12,
    "start_time": "2023-04-30T18:19:46.126Z"
   },
   {
    "duration": 7,
    "start_time": "2023-04-30T18:22:42.899Z"
   },
   {
    "duration": 45,
    "start_time": "2023-04-30T18:23:40.610Z"
   },
   {
    "duration": 27,
    "start_time": "2023-04-30T18:25:38.457Z"
   },
   {
    "duration": 17,
    "start_time": "2023-04-30T18:26:02.253Z"
   },
   {
    "duration": 14,
    "start_time": "2023-04-30T18:26:44.061Z"
   },
   {
    "duration": 57,
    "start_time": "2023-04-30T18:27:01.342Z"
   },
   {
    "duration": 18,
    "start_time": "2023-04-30T18:27:15.742Z"
   },
   {
    "duration": 52,
    "start_time": "2023-04-30T18:27:42.469Z"
   },
   {
    "duration": 19792,
    "start_time": "2023-04-30T18:46:21.302Z"
   },
   {
    "duration": 6,
    "start_time": "2023-04-30T18:47:50.756Z"
   },
   {
    "duration": 71862,
    "start_time": "2023-04-30T18:48:03.257Z"
   },
   {
    "duration": 1946433,
    "start_time": "2023-04-30T19:03:31.255Z"
   },
   {
    "duration": 2435169,
    "start_time": "2023-04-30T19:36:12.764Z"
   },
   {
    "duration": 424761,
    "start_time": "2023-04-30T20:28:20.817Z"
   },
   {
    "duration": 6,
    "start_time": "2023-04-30T20:35:31.498Z"
   },
   {
    "duration": 616241,
    "start_time": "2023-04-30T20:35:43.379Z"
   },
   {
    "duration": 2442589,
    "start_time": "2023-04-30T21:35:51.067Z"
   },
   {
    "duration": 1549,
    "start_time": "2023-05-01T00:47:29.387Z"
   },
   {
    "duration": 1316,
    "start_time": "2023-05-01T00:47:40.113Z"
   },
   {
    "duration": 1481,
    "start_time": "2023-05-01T00:47:41.431Z"
   },
   {
    "duration": 27,
    "start_time": "2023-05-01T00:47:42.914Z"
   },
   {
    "duration": 25,
    "start_time": "2023-05-01T00:47:42.943Z"
   },
   {
    "duration": 38,
    "start_time": "2023-05-01T00:47:42.970Z"
   },
   {
    "duration": 286,
    "start_time": "2023-05-01T00:47:43.010Z"
   },
   {
    "duration": 112,
    "start_time": "2023-05-01T00:47:43.298Z"
   },
   {
    "duration": 134,
    "start_time": "2023-05-01T00:47:43.412Z"
   },
   {
    "duration": 106,
    "start_time": "2023-05-01T00:47:43.548Z"
   },
   {
    "duration": 3,
    "start_time": "2023-05-01T00:47:43.658Z"
   },
   {
    "duration": 46,
    "start_time": "2023-05-01T00:47:43.662Z"
   },
   {
    "duration": 3,
    "start_time": "2023-05-01T00:47:43.710Z"
   },
   {
    "duration": 48,
    "start_time": "2023-05-01T00:47:43.715Z"
   },
   {
    "duration": 39,
    "start_time": "2023-05-01T00:47:43.765Z"
   },
   {
    "duration": 122,
    "start_time": "2023-05-01T00:47:43.806Z"
   },
   {
    "duration": 5,
    "start_time": "2023-05-01T00:47:43.930Z"
   },
   {
    "duration": 2500,
    "start_time": "2023-05-01T00:47:43.937Z"
   },
   {
    "duration": 5,
    "start_time": "2023-05-01T00:47:46.439Z"
   },
   {
    "duration": 136,
    "start_time": "2023-05-01T00:47:46.446Z"
   },
   {
    "duration": 2559,
    "start_time": "2023-05-01T00:47:46.584Z"
   },
   {
    "duration": 20,
    "start_time": "2023-05-01T00:47:49.145Z"
   },
   {
    "duration": 7,
    "start_time": "2023-05-01T00:47:49.167Z"
   },
   {
    "duration": 21,
    "start_time": "2023-05-01T00:47:49.177Z"
   },
   {
    "duration": 38,
    "start_time": "2023-05-01T00:47:49.200Z"
   },
   {
    "duration": 10,
    "start_time": "2023-05-01T00:47:49.240Z"
   },
   {
    "duration": 8,
    "start_time": "2023-05-01T00:47:49.252Z"
   },
   {
    "duration": 54,
    "start_time": "2023-05-01T00:47:49.261Z"
   },
   {
    "duration": 4,
    "start_time": "2023-05-01T00:47:49.318Z"
   },
   {
    "duration": 475,
    "start_time": "2023-05-01T00:47:49.323Z"
   },
   {
    "duration": 4,
    "start_time": "2023-05-01T00:47:49.800Z"
   },
   {
    "duration": 165,
    "start_time": "2023-05-01T00:47:49.806Z"
   },
   {
    "duration": 9,
    "start_time": "2023-05-01T00:47:49.972Z"
   },
   {
    "duration": 17,
    "start_time": "2023-05-01T00:47:49.983Z"
   },
   {
    "duration": 48,
    "start_time": "2023-05-01T00:47:50.002Z"
   },
   {
    "duration": 3,
    "start_time": "2023-05-01T00:47:50.052Z"
   },
   {
    "duration": 5,
    "start_time": "2023-05-01T00:47:50.056Z"
   },
   {
    "duration": 15,
    "start_time": "2023-05-01T00:47:50.063Z"
   },
   {
    "duration": 17,
    "start_time": "2023-05-01T00:47:50.080Z"
   },
   {
    "duration": 48221,
    "start_time": "2023-05-01T00:47:50.099Z"
   },
   {
    "duration": 0,
    "start_time": "2023-05-01T00:48:38.322Z"
   },
   {
    "duration": 0,
    "start_time": "2023-05-01T00:48:38.323Z"
   },
   {
    "duration": 0,
    "start_time": "2023-05-01T00:48:38.324Z"
   },
   {
    "duration": 0,
    "start_time": "2023-05-01T00:48:38.325Z"
   },
   {
    "duration": 0,
    "start_time": "2023-05-01T00:48:38.326Z"
   },
   {
    "duration": 0,
    "start_time": "2023-05-01T00:48:38.327Z"
   },
   {
    "duration": 0,
    "start_time": "2023-05-01T00:48:38.328Z"
   },
   {
    "duration": 0,
    "start_time": "2023-05-01T00:48:38.329Z"
   },
   {
    "duration": 0,
    "start_time": "2023-05-01T00:48:38.330Z"
   },
   {
    "duration": 0,
    "start_time": "2023-05-01T00:48:38.331Z"
   },
   {
    "duration": 0,
    "start_time": "2023-05-01T00:48:38.332Z"
   },
   {
    "duration": 0,
    "start_time": "2023-05-01T00:48:38.332Z"
   },
   {
    "duration": 0,
    "start_time": "2023-05-01T00:48:38.333Z"
   },
   {
    "duration": 59011,
    "start_time": "2023-05-01T00:48:48.355Z"
   },
   {
    "duration": 1615,
    "start_time": "2023-05-05T09:51:11.471Z"
   },
   {
    "duration": 1603,
    "start_time": "2023-05-05T09:51:13.743Z"
   },
   {
    "duration": 30,
    "start_time": "2023-05-05T09:51:18.583Z"
   },
   {
    "duration": 20,
    "start_time": "2023-05-05T09:51:20.944Z"
   },
   {
    "duration": 36,
    "start_time": "2023-05-05T09:51:24.244Z"
   },
   {
    "duration": 280,
    "start_time": "2023-05-05T09:51:26.370Z"
   },
   {
    "duration": 120,
    "start_time": "2023-05-05T09:51:30.493Z"
   },
   {
    "duration": 124,
    "start_time": "2023-05-05T09:51:31.903Z"
   },
   {
    "duration": 104,
    "start_time": "2023-05-05T09:51:42.046Z"
   },
   {
    "duration": 3,
    "start_time": "2023-05-05T09:51:53.043Z"
   },
   {
    "duration": 31,
    "start_time": "2023-05-05T09:51:53.774Z"
   },
   {
    "duration": 3,
    "start_time": "2023-05-05T09:51:59.913Z"
   },
   {
    "duration": 51,
    "start_time": "2023-05-05T09:52:01.071Z"
   },
   {
    "duration": 28,
    "start_time": "2023-05-05T09:52:06.114Z"
   },
   {
    "duration": 113,
    "start_time": "2023-05-05T09:52:09.611Z"
   },
   {
    "duration": 5,
    "start_time": "2023-05-05T09:52:12.314Z"
   },
   {
    "duration": 2819,
    "start_time": "2023-05-05T09:52:13.505Z"
   },
   {
    "duration": 5,
    "start_time": "2023-05-05T09:52:20.996Z"
   },
   {
    "duration": 121,
    "start_time": "2023-05-05T09:52:22.132Z"
   },
   {
    "duration": 2692,
    "start_time": "2023-05-05T09:52:24.903Z"
   },
   {
    "duration": 21,
    "start_time": "2023-05-05T09:53:03.877Z"
   },
   {
    "duration": 3,
    "start_time": "2023-05-05T09:56:00.243Z"
   },
   {
    "duration": 29,
    "start_time": "2023-05-05T09:56:02.364Z"
   },
   {
    "duration": 3,
    "start_time": "2023-05-05T09:56:04.801Z"
   },
   {
    "duration": 39,
    "start_time": "2023-05-05T09:56:05.784Z"
   },
   {
    "duration": 29,
    "start_time": "2023-05-05T09:56:06.734Z"
   },
   {
    "duration": 138,
    "start_time": "2023-05-05T09:56:08.671Z"
   },
   {
    "duration": 5,
    "start_time": "2023-05-05T09:56:09.562Z"
   },
   {
    "duration": 2532,
    "start_time": "2023-05-05T09:56:10.202Z"
   },
   {
    "duration": 5,
    "start_time": "2023-05-05T09:56:12.736Z"
   },
   {
    "duration": 152,
    "start_time": "2023-05-05T09:56:12.743Z"
   },
   {
    "duration": 2505,
    "start_time": "2023-05-05T09:56:14.045Z"
   },
   {
    "duration": 18,
    "start_time": "2023-05-05T09:56:19.664Z"
   },
   {
    "duration": 7,
    "start_time": "2023-05-05T09:56:21.042Z"
   },
   {
    "duration": 8,
    "start_time": "2023-05-05T09:56:21.771Z"
   },
   {
    "duration": 29,
    "start_time": "2023-05-05T09:56:25.312Z"
   },
   {
    "duration": 11,
    "start_time": "2023-05-05T09:56:32.533Z"
   },
   {
    "duration": 5,
    "start_time": "2023-05-05T09:56:36.744Z"
   },
   {
    "duration": 30,
    "start_time": "2023-05-05T09:56:38.474Z"
   },
   {
    "duration": 4,
    "start_time": "2023-05-05T09:56:41.370Z"
   },
   {
    "duration": 456,
    "start_time": "2023-05-05T09:56:42.295Z"
   },
   {
    "duration": 4,
    "start_time": "2023-05-05T09:56:45.994Z"
   },
   {
    "duration": 136,
    "start_time": "2023-05-05T09:56:55.794Z"
   },
   {
    "duration": 214,
    "start_time": "2023-05-05T10:03:07.434Z"
   },
   {
    "duration": 115,
    "start_time": "2023-05-05T10:14:16.992Z"
   },
   {
    "duration": 220,
    "start_time": "2023-05-05T10:14:42.393Z"
   },
   {
    "duration": 171,
    "start_time": "2023-05-05T10:15:23.899Z"
   },
   {
    "duration": 236,
    "start_time": "2023-05-05T10:15:59.483Z"
   },
   {
    "duration": 259,
    "start_time": "2023-05-05T10:16:59.613Z"
   },
   {
    "duration": 205,
    "start_time": "2023-05-05T10:19:06.890Z"
   },
   {
    "duration": 23,
    "start_time": "2023-05-05T10:21:46.858Z"
   },
   {
    "duration": 213,
    "start_time": "2023-05-05T10:27:16.521Z"
   },
   {
    "duration": 78,
    "start_time": "2023-05-05T10:27:43.946Z"
   },
   {
    "duration": 7,
    "start_time": "2023-05-05T10:33:33.891Z"
   },
   {
    "duration": 3,
    "start_time": "2023-05-05T10:33:42.864Z"
   },
   {
    "duration": 33,
    "start_time": "2023-05-05T10:33:46.243Z"
   },
   {
    "duration": 2,
    "start_time": "2023-05-05T10:34:05.981Z"
   },
   {
    "duration": 2,
    "start_time": "2023-05-05T10:34:06.190Z"
   },
   {
    "duration": 2,
    "start_time": "2023-05-05T10:34:06.970Z"
   },
   {
    "duration": 2,
    "start_time": "2023-05-05T10:34:07.515Z"
   },
   {
    "duration": 60734,
    "start_time": "2023-05-05T11:50:25.115Z"
   },
   {
    "duration": 1407,
    "start_time": "2023-05-05T14:37:47.391Z"
   },
   {
    "duration": 214,
    "start_time": "2023-05-05T14:37:48.800Z"
   },
   {
    "duration": 27,
    "start_time": "2023-05-05T14:37:49.015Z"
   },
   {
    "duration": 20,
    "start_time": "2023-05-05T14:37:49.044Z"
   },
   {
    "duration": 33,
    "start_time": "2023-05-05T14:37:49.084Z"
   },
   {
    "duration": 245,
    "start_time": "2023-05-05T14:37:49.119Z"
   },
   {
    "duration": 107,
    "start_time": "2023-05-05T14:37:49.366Z"
   },
   {
    "duration": 138,
    "start_time": "2023-05-05T14:37:49.475Z"
   },
   {
    "duration": 97,
    "start_time": "2023-05-05T14:37:49.615Z"
   },
   {
    "duration": 3,
    "start_time": "2023-05-05T14:37:49.714Z"
   },
   {
    "duration": 41,
    "start_time": "2023-05-05T14:37:49.718Z"
   },
   {
    "duration": 3,
    "start_time": "2023-05-05T14:37:49.760Z"
   },
   {
    "duration": 82,
    "start_time": "2023-05-05T14:37:49.764Z"
   },
   {
    "duration": 35,
    "start_time": "2023-05-05T14:37:49.849Z"
   },
   {
    "duration": 139,
    "start_time": "2023-05-05T14:37:49.886Z"
   },
   {
    "duration": 5,
    "start_time": "2023-05-05T14:37:50.027Z"
   },
   {
    "duration": 2523,
    "start_time": "2023-05-05T14:37:50.033Z"
   },
   {
    "duration": 4,
    "start_time": "2023-05-05T14:37:52.558Z"
   },
   {
    "duration": 137,
    "start_time": "2023-05-05T14:37:52.564Z"
   },
   {
    "duration": 2523,
    "start_time": "2023-05-05T14:37:52.704Z"
   },
   {
    "duration": 17,
    "start_time": "2023-05-05T14:37:55.228Z"
   },
   {
    "duration": 7,
    "start_time": "2023-05-05T14:37:55.247Z"
   },
   {
    "duration": 7,
    "start_time": "2023-05-05T14:37:55.283Z"
   },
   {
    "duration": 37,
    "start_time": "2023-05-05T14:37:55.292Z"
   },
   {
    "duration": 10,
    "start_time": "2023-05-05T14:37:55.330Z"
   },
   {
    "duration": 5,
    "start_time": "2023-05-05T14:37:55.342Z"
   },
   {
    "duration": 55,
    "start_time": "2023-05-05T14:37:55.348Z"
   },
   {
    "duration": 4,
    "start_time": "2023-05-05T14:37:55.405Z"
   },
   {
    "duration": 435,
    "start_time": "2023-05-05T14:37:55.411Z"
   },
   {
    "duration": 3,
    "start_time": "2023-05-05T14:37:55.848Z"
   },
   {
    "duration": 210,
    "start_time": "2023-05-05T14:37:55.853Z"
   },
   {
    "duration": 8,
    "start_time": "2023-05-05T14:37:56.084Z"
   },
   {
    "duration": 7,
    "start_time": "2023-05-05T14:37:56.094Z"
   },
   {
    "duration": 37,
    "start_time": "2023-05-05T14:37:56.103Z"
   },
   {
    "duration": 3,
    "start_time": "2023-05-05T14:37:56.141Z"
   },
   {
    "duration": 10,
    "start_time": "2023-05-05T14:37:56.145Z"
   },
   {
    "duration": 5,
    "start_time": "2023-05-05T14:37:56.156Z"
   },
   {
    "duration": 16,
    "start_time": "2023-05-05T14:37:56.163Z"
   },
   {
    "duration": 64563,
    "start_time": "2023-05-05T14:37:56.181Z"
   },
   {
    "duration": 2779839,
    "start_time": "2023-05-05T14:39:00.747Z"
   },
   {
    "duration": 0,
    "start_time": "2023-05-05T15:25:20.590Z"
   },
   {
    "duration": 0,
    "start_time": "2023-05-05T15:25:20.591Z"
   },
   {
    "duration": 0,
    "start_time": "2023-05-05T15:25:20.593Z"
   },
   {
    "duration": 0,
    "start_time": "2023-05-05T15:25:20.595Z"
   },
   {
    "duration": 0,
    "start_time": "2023-05-05T15:25:20.597Z"
   },
   {
    "duration": 0,
    "start_time": "2023-05-05T15:25:20.598Z"
   },
   {
    "duration": 0,
    "start_time": "2023-05-05T15:25:20.600Z"
   },
   {
    "duration": 0,
    "start_time": "2023-05-05T15:25:20.601Z"
   },
   {
    "duration": 0,
    "start_time": "2023-05-05T15:25:20.603Z"
   },
   {
    "duration": 0,
    "start_time": "2023-05-05T15:25:20.604Z"
   },
   {
    "duration": 0,
    "start_time": "2023-05-05T15:25:20.605Z"
   },
   {
    "duration": 0,
    "start_time": "2023-05-05T15:25:20.606Z"
   },
   {
    "duration": 112491,
    "start_time": "2023-05-05T15:25:30.019Z"
   },
   {
    "duration": 0,
    "start_time": "2023-05-05T15:27:22.512Z"
   },
   {
    "duration": 0,
    "start_time": "2023-05-05T15:27:22.514Z"
   },
   {
    "duration": 0,
    "start_time": "2023-05-05T15:27:22.515Z"
   },
   {
    "duration": 19840,
    "start_time": "2023-05-05T15:27:26.047Z"
   },
   {
    "duration": 634661,
    "start_time": "2023-05-05T15:28:10.047Z"
   },
   {
    "duration": 5746064,
    "start_time": "2023-05-05T15:48:00.009Z"
   },
   {
    "duration": 16304,
    "start_time": "2023-05-05T20:10:15.791Z"
   },
   {
    "duration": 22122,
    "start_time": "2023-05-05T20:10:59.690Z"
   },
   {
    "duration": 9,
    "start_time": "2023-05-05T20:11:47.855Z"
   },
   {
    "duration": 167,
    "start_time": "2023-05-05T20:13:00.957Z"
   },
   {
    "duration": 441,
    "start_time": "2023-05-05T20:14:16.112Z"
   },
   {
    "duration": 13,
    "start_time": "2023-05-05T21:37:43.634Z"
   },
   {
    "duration": 5,
    "start_time": "2023-05-05T21:38:25.333Z"
   },
   {
    "duration": 55429,
    "start_time": "2023-05-05T21:38:35.637Z"
   },
   {
    "duration": 16,
    "start_time": "2023-05-05T21:41:32.210Z"
   },
   {
    "duration": 19,
    "start_time": "2023-05-05T21:43:34.403Z"
   },
   {
    "duration": 18,
    "start_time": "2023-05-05T21:43:36.238Z"
   },
   {
    "duration": 16,
    "start_time": "2023-05-05T21:44:48.432Z"
   },
   {
    "duration": 209,
    "start_time": "2023-05-05T21:46:33.944Z"
   },
   {
    "duration": 8,
    "start_time": "2023-05-05T21:46:50.383Z"
   },
   {
    "duration": 6,
    "start_time": "2023-05-05T21:47:02.923Z"
   },
   {
    "duration": 4,
    "start_time": "2023-05-05T21:47:22.552Z"
   },
   {
    "duration": 336,
    "start_time": "2023-05-05T21:47:50.411Z"
   },
   {
    "duration": 12,
    "start_time": "2023-05-05T21:48:11.253Z"
   },
   {
    "duration": 5,
    "start_time": "2023-05-05T21:48:27.409Z"
   },
   {
    "duration": 480,
    "start_time": "2023-05-05T21:48:57.883Z"
   },
   {
    "duration": 4,
    "start_time": "2023-05-05T21:49:02.909Z"
   },
   {
    "duration": 4,
    "start_time": "2023-05-05T21:49:21.598Z"
   },
   {
    "duration": 5,
    "start_time": "2023-05-05T22:04:54.763Z"
   },
   {
    "duration": 14,
    "start_time": "2023-05-05T22:05:23.008Z"
   },
   {
    "duration": 24,
    "start_time": "2023-05-05T22:10:00.571Z"
   },
   {
    "duration": 23,
    "start_time": "2023-05-05T22:10:38.051Z"
   },
   {
    "duration": 11,
    "start_time": "2023-05-05T22:14:31.418Z"
   },
   {
    "duration": 10,
    "start_time": "2023-05-05T22:15:03.089Z"
   },
   {
    "duration": 13,
    "start_time": "2023-05-05T22:15:38.428Z"
   },
   {
    "duration": 17,
    "start_time": "2023-05-05T22:16:07.302Z"
   },
   {
    "duration": 18,
    "start_time": "2023-05-05T22:16:45.418Z"
   },
   {
    "duration": 23,
    "start_time": "2023-05-05T22:18:54.271Z"
   },
   {
    "duration": 21,
    "start_time": "2023-05-05T22:21:02.429Z"
   },
   {
    "duration": 17,
    "start_time": "2023-05-05T22:21:16.632Z"
   },
   {
    "duration": 16,
    "start_time": "2023-05-05T22:22:45.101Z"
   },
   {
    "duration": 16,
    "start_time": "2023-05-05T22:22:57.856Z"
   },
   {
    "duration": 14,
    "start_time": "2023-05-05T22:23:48.929Z"
   },
   {
    "duration": 17,
    "start_time": "2023-05-05T22:25:00.210Z"
   },
   {
    "duration": 15,
    "start_time": "2023-05-05T22:26:20.111Z"
   },
   {
    "duration": 17,
    "start_time": "2023-05-05T22:27:39.608Z"
   },
   {
    "duration": 18,
    "start_time": "2023-05-05T23:05:31.563Z"
   },
   {
    "duration": 23,
    "start_time": "2023-05-05T23:07:46.846Z"
   },
   {
    "duration": 23,
    "start_time": "2023-05-05T23:08:53.025Z"
   },
   {
    "duration": 23,
    "start_time": "2023-05-05T23:09:52.066Z"
   },
   {
    "duration": 17,
    "start_time": "2023-05-05T23:10:50.882Z"
   },
   {
    "duration": 14,
    "start_time": "2023-05-05T23:11:48.242Z"
   }
  ],
  "kernelspec": {
   "display_name": "Python 3 (ipykernel)",
   "language": "python",
   "name": "python3"
  },
  "language_info": {
   "codemirror_mode": {
    "name": "ipython",
    "version": 3
   },
   "file_extension": ".py",
   "mimetype": "text/x-python",
   "name": "python",
   "nbconvert_exporter": "python",
   "pygments_lexer": "ipython3",
   "version": "3.10.7"
  },
  "toc": {
   "base_numbering": 1,
   "nav_menu": {},
   "number_sections": true,
   "sideBar": true,
   "skip_h1_title": true,
   "title_cell": "Table of Contents",
   "title_sidebar": "Contents",
   "toc_cell": false,
   "toc_position": {},
   "toc_section_display": true,
   "toc_window_display": false
  }
 },
 "nbformat": 4,
 "nbformat_minor": 2
}
